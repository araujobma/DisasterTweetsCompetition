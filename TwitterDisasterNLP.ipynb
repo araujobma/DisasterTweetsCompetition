{
  "nbformat": 4,
  "nbformat_minor": 0,
  "metadata": {
    "colab": {
      "provenance": [],
      "gpuType": "L4",
      "mount_file_id": "1Eu-c7Zed9WOT3R5mGVAN8ku-hDgOTYP8",
      "authorship_tag": "ABX9TyOTpGA+qLygykPQkQdIGWPg",
      "include_colab_link": true
    },
    "kernelspec": {
      "name": "python3",
      "display_name": "Python 3"
    },
    "language_info": {
      "name": "python"
    },
    "accelerator": "GPU",
    "widgets": {
      "application/vnd.jupyter.widget-state+json": {
        "2dc156ae0a1c4d9787fc74a469de3059": {
          "model_module": "@jupyter-widgets/output",
          "model_name": "OutputModel",
          "model_module_version": "1.0.0",
          "state": {
            "_dom_classes": [],
            "_model_module": "@jupyter-widgets/output",
            "_model_module_version": "1.0.0",
            "_model_name": "OutputModel",
            "_view_count": null,
            "_view_module": "@jupyter-widgets/output",
            "_view_module_version": "1.0.0",
            "_view_name": "OutputView",
            "layout": "IPY_MODEL_250759a7e39d459083723b046119f082",
            "msg_id": "",
            "outputs": [
              {
                "output_type": "display_data",
                "data": {
                  "text/plain": "\u001b[35m 100%\u001b[0m \u001b[38;2;249;38;114m━━━━━━━━━━━━━━━━━━━━━━━━━━━━━━━━━━━━━━━━━━━━━━━━━━━━━━━━━━━━━━━\u001b[0m\u001b[38;2;249;38;114m╸\u001b[0m \u001b[32m7,612/7,613 \u001b[0m [ \u001b[33m0:11:10\u001b[0m < \u001b[36m0:00:01\u001b[0m , \u001b[31m12 it/s\u001b[0m ]\n",
                  "text/html": "<pre style=\"white-space:pre;overflow-x:auto;line-height:normal;font-family:Menlo,'DejaVu Sans Mono',consolas,'Courier New',monospace\"><span style=\"color: #800080; text-decoration-color: #800080\"> 100%</span> <span style=\"color: #f92672; text-decoration-color: #f92672\">━━━━━━━━━━━━━━━━━━━━━━━━━━━━━━━━━━━━━━━━━━━━━━━━━━━━━━━━━━━━━━━╸</span> <span style=\"color: #008000; text-decoration-color: #008000\">7,612/7,613 </span> [ <span style=\"color: #808000; text-decoration-color: #808000\">0:11:10</span> &lt; <span style=\"color: #008080; text-decoration-color: #008080\">0:00:01</span> , <span style=\"color: #800000; text-decoration-color: #800000\">12 it/s</span> ]\n</pre>\n"
                },
                "metadata": {}
              }
            ]
          }
        },
        "250759a7e39d459083723b046119f082": {
          "model_module": "@jupyter-widgets/base",
          "model_name": "LayoutModel",
          "model_module_version": "1.2.0",
          "state": {
            "_model_module": "@jupyter-widgets/base",
            "_model_module_version": "1.2.0",
            "_model_name": "LayoutModel",
            "_view_count": null,
            "_view_module": "@jupyter-widgets/base",
            "_view_module_version": "1.2.0",
            "_view_name": "LayoutView",
            "align_content": null,
            "align_items": null,
            "align_self": null,
            "border": null,
            "bottom": null,
            "display": null,
            "flex": null,
            "flex_flow": null,
            "grid_area": null,
            "grid_auto_columns": null,
            "grid_auto_flow": null,
            "grid_auto_rows": null,
            "grid_column": null,
            "grid_gap": null,
            "grid_row": null,
            "grid_template_areas": null,
            "grid_template_columns": null,
            "grid_template_rows": null,
            "height": null,
            "justify_content": null,
            "justify_items": null,
            "left": null,
            "margin": null,
            "max_height": null,
            "max_width": null,
            "min_height": null,
            "min_width": null,
            "object_fit": null,
            "object_position": null,
            "order": null,
            "overflow": null,
            "overflow_x": null,
            "overflow_y": null,
            "padding": null,
            "right": null,
            "top": null,
            "visibility": null,
            "width": null
          }
        },
        "610ea3c9f5e6429da54174c180d42d7c": {
          "model_module": "@jupyter-widgets/controls",
          "model_name": "HBoxModel",
          "model_module_version": "1.5.0",
          "state": {
            "_dom_classes": [],
            "_model_module": "@jupyter-widgets/controls",
            "_model_module_version": "1.5.0",
            "_model_name": "HBoxModel",
            "_view_count": null,
            "_view_module": "@jupyter-widgets/controls",
            "_view_module_version": "1.5.0",
            "_view_name": "HBoxView",
            "box_style": "",
            "children": [
              "IPY_MODEL_905dd4f993e44706ab62d20290e315ff",
              "IPY_MODEL_4090fabaddd14e0a9a913603f5aed864",
              "IPY_MODEL_1d86a27ecd644f13ba6423d5931f71b9"
            ],
            "layout": "IPY_MODEL_58eac80a3f314b3998de6d0e91faf152"
          }
        },
        "905dd4f993e44706ab62d20290e315ff": {
          "model_module": "@jupyter-widgets/controls",
          "model_name": "HTMLModel",
          "model_module_version": "1.5.0",
          "state": {
            "_dom_classes": [],
            "_model_module": "@jupyter-widgets/controls",
            "_model_module_version": "1.5.0",
            "_model_name": "HTMLModel",
            "_view_count": null,
            "_view_module": "@jupyter-widgets/controls",
            "_view_module_version": "1.5.0",
            "_view_name": "HTMLView",
            "description": "",
            "description_tooltip": null,
            "layout": "IPY_MODEL_3c3b0bfc3bc74a7087dbd9d85b362b44",
            "placeholder": "​",
            "style": "IPY_MODEL_27406bd2ada34f17a8f4a12159743765",
            "value": "vocab.txt: 100%"
          }
        },
        "4090fabaddd14e0a9a913603f5aed864": {
          "model_module": "@jupyter-widgets/controls",
          "model_name": "FloatProgressModel",
          "model_module_version": "1.5.0",
          "state": {
            "_dom_classes": [],
            "_model_module": "@jupyter-widgets/controls",
            "_model_module_version": "1.5.0",
            "_model_name": "FloatProgressModel",
            "_view_count": null,
            "_view_module": "@jupyter-widgets/controls",
            "_view_module_version": "1.5.0",
            "_view_name": "ProgressView",
            "bar_style": "success",
            "description": "",
            "description_tooltip": null,
            "layout": "IPY_MODEL_494b0e248c8345d4bf90d013e5c1f6c3",
            "max": 231508,
            "min": 0,
            "orientation": "horizontal",
            "style": "IPY_MODEL_6c45ea3852d445e684e0b6bd864a4744",
            "value": 231508
          }
        },
        "1d86a27ecd644f13ba6423d5931f71b9": {
          "model_module": "@jupyter-widgets/controls",
          "model_name": "HTMLModel",
          "model_module_version": "1.5.0",
          "state": {
            "_dom_classes": [],
            "_model_module": "@jupyter-widgets/controls",
            "_model_module_version": "1.5.0",
            "_model_name": "HTMLModel",
            "_view_count": null,
            "_view_module": "@jupyter-widgets/controls",
            "_view_module_version": "1.5.0",
            "_view_name": "HTMLView",
            "description": "",
            "description_tooltip": null,
            "layout": "IPY_MODEL_f37169b40c604e45a4a1e7155776c1c2",
            "placeholder": "​",
            "style": "IPY_MODEL_0907e6d063e5431d9f7e2ade03bf0e2f",
            "value": " 232k/232k [00:00&lt;00:00, 3.04MB/s]"
          }
        },
        "58eac80a3f314b3998de6d0e91faf152": {
          "model_module": "@jupyter-widgets/base",
          "model_name": "LayoutModel",
          "model_module_version": "1.2.0",
          "state": {
            "_model_module": "@jupyter-widgets/base",
            "_model_module_version": "1.2.0",
            "_model_name": "LayoutModel",
            "_view_count": null,
            "_view_module": "@jupyter-widgets/base",
            "_view_module_version": "1.2.0",
            "_view_name": "LayoutView",
            "align_content": null,
            "align_items": null,
            "align_self": null,
            "border": null,
            "bottom": null,
            "display": null,
            "flex": null,
            "flex_flow": null,
            "grid_area": null,
            "grid_auto_columns": null,
            "grid_auto_flow": null,
            "grid_auto_rows": null,
            "grid_column": null,
            "grid_gap": null,
            "grid_row": null,
            "grid_template_areas": null,
            "grid_template_columns": null,
            "grid_template_rows": null,
            "height": null,
            "justify_content": null,
            "justify_items": null,
            "left": null,
            "margin": null,
            "max_height": null,
            "max_width": null,
            "min_height": null,
            "min_width": null,
            "object_fit": null,
            "object_position": null,
            "order": null,
            "overflow": null,
            "overflow_x": null,
            "overflow_y": null,
            "padding": null,
            "right": null,
            "top": null,
            "visibility": null,
            "width": null
          }
        },
        "3c3b0bfc3bc74a7087dbd9d85b362b44": {
          "model_module": "@jupyter-widgets/base",
          "model_name": "LayoutModel",
          "model_module_version": "1.2.0",
          "state": {
            "_model_module": "@jupyter-widgets/base",
            "_model_module_version": "1.2.0",
            "_model_name": "LayoutModel",
            "_view_count": null,
            "_view_module": "@jupyter-widgets/base",
            "_view_module_version": "1.2.0",
            "_view_name": "LayoutView",
            "align_content": null,
            "align_items": null,
            "align_self": null,
            "border": null,
            "bottom": null,
            "display": null,
            "flex": null,
            "flex_flow": null,
            "grid_area": null,
            "grid_auto_columns": null,
            "grid_auto_flow": null,
            "grid_auto_rows": null,
            "grid_column": null,
            "grid_gap": null,
            "grid_row": null,
            "grid_template_areas": null,
            "grid_template_columns": null,
            "grid_template_rows": null,
            "height": null,
            "justify_content": null,
            "justify_items": null,
            "left": null,
            "margin": null,
            "max_height": null,
            "max_width": null,
            "min_height": null,
            "min_width": null,
            "object_fit": null,
            "object_position": null,
            "order": null,
            "overflow": null,
            "overflow_x": null,
            "overflow_y": null,
            "padding": null,
            "right": null,
            "top": null,
            "visibility": null,
            "width": null
          }
        },
        "27406bd2ada34f17a8f4a12159743765": {
          "model_module": "@jupyter-widgets/controls",
          "model_name": "DescriptionStyleModel",
          "model_module_version": "1.5.0",
          "state": {
            "_model_module": "@jupyter-widgets/controls",
            "_model_module_version": "1.5.0",
            "_model_name": "DescriptionStyleModel",
            "_view_count": null,
            "_view_module": "@jupyter-widgets/base",
            "_view_module_version": "1.2.0",
            "_view_name": "StyleView",
            "description_width": ""
          }
        },
        "494b0e248c8345d4bf90d013e5c1f6c3": {
          "model_module": "@jupyter-widgets/base",
          "model_name": "LayoutModel",
          "model_module_version": "1.2.0",
          "state": {
            "_model_module": "@jupyter-widgets/base",
            "_model_module_version": "1.2.0",
            "_model_name": "LayoutModel",
            "_view_count": null,
            "_view_module": "@jupyter-widgets/base",
            "_view_module_version": "1.2.0",
            "_view_name": "LayoutView",
            "align_content": null,
            "align_items": null,
            "align_self": null,
            "border": null,
            "bottom": null,
            "display": null,
            "flex": null,
            "flex_flow": null,
            "grid_area": null,
            "grid_auto_columns": null,
            "grid_auto_flow": null,
            "grid_auto_rows": null,
            "grid_column": null,
            "grid_gap": null,
            "grid_row": null,
            "grid_template_areas": null,
            "grid_template_columns": null,
            "grid_template_rows": null,
            "height": null,
            "justify_content": null,
            "justify_items": null,
            "left": null,
            "margin": null,
            "max_height": null,
            "max_width": null,
            "min_height": null,
            "min_width": null,
            "object_fit": null,
            "object_position": null,
            "order": null,
            "overflow": null,
            "overflow_x": null,
            "overflow_y": null,
            "padding": null,
            "right": null,
            "top": null,
            "visibility": null,
            "width": null
          }
        },
        "6c45ea3852d445e684e0b6bd864a4744": {
          "model_module": "@jupyter-widgets/controls",
          "model_name": "ProgressStyleModel",
          "model_module_version": "1.5.0",
          "state": {
            "_model_module": "@jupyter-widgets/controls",
            "_model_module_version": "1.5.0",
            "_model_name": "ProgressStyleModel",
            "_view_count": null,
            "_view_module": "@jupyter-widgets/base",
            "_view_module_version": "1.2.0",
            "_view_name": "StyleView",
            "bar_color": null,
            "description_width": ""
          }
        },
        "f37169b40c604e45a4a1e7155776c1c2": {
          "model_module": "@jupyter-widgets/base",
          "model_name": "LayoutModel",
          "model_module_version": "1.2.0",
          "state": {
            "_model_module": "@jupyter-widgets/base",
            "_model_module_version": "1.2.0",
            "_model_name": "LayoutModel",
            "_view_count": null,
            "_view_module": "@jupyter-widgets/base",
            "_view_module_version": "1.2.0",
            "_view_name": "LayoutView",
            "align_content": null,
            "align_items": null,
            "align_self": null,
            "border": null,
            "bottom": null,
            "display": null,
            "flex": null,
            "flex_flow": null,
            "grid_area": null,
            "grid_auto_columns": null,
            "grid_auto_flow": null,
            "grid_auto_rows": null,
            "grid_column": null,
            "grid_gap": null,
            "grid_row": null,
            "grid_template_areas": null,
            "grid_template_columns": null,
            "grid_template_rows": null,
            "height": null,
            "justify_content": null,
            "justify_items": null,
            "left": null,
            "margin": null,
            "max_height": null,
            "max_width": null,
            "min_height": null,
            "min_width": null,
            "object_fit": null,
            "object_position": null,
            "order": null,
            "overflow": null,
            "overflow_x": null,
            "overflow_y": null,
            "padding": null,
            "right": null,
            "top": null,
            "visibility": null,
            "width": null
          }
        },
        "0907e6d063e5431d9f7e2ade03bf0e2f": {
          "model_module": "@jupyter-widgets/controls",
          "model_name": "DescriptionStyleModel",
          "model_module_version": "1.5.0",
          "state": {
            "_model_module": "@jupyter-widgets/controls",
            "_model_module_version": "1.5.0",
            "_model_name": "DescriptionStyleModel",
            "_view_count": null,
            "_view_module": "@jupyter-widgets/base",
            "_view_module_version": "1.2.0",
            "_view_name": "StyleView",
            "description_width": ""
          }
        },
        "d63779929f504ff3b95adc07e94742f7": {
          "model_module": "@jupyter-widgets/controls",
          "model_name": "HBoxModel",
          "model_module_version": "1.5.0",
          "state": {
            "_dom_classes": [],
            "_model_module": "@jupyter-widgets/controls",
            "_model_module_version": "1.5.0",
            "_model_name": "HBoxModel",
            "_view_count": null,
            "_view_module": "@jupyter-widgets/controls",
            "_view_module_version": "1.5.0",
            "_view_name": "HBoxView",
            "box_style": "",
            "children": [
              "IPY_MODEL_5a81d3f0d591470eb438884cc4ca36b9",
              "IPY_MODEL_b54b2fa9d6354a69b09a7da4c25726fc",
              "IPY_MODEL_5c64a6d433de43538d3b04a5ad5691c7"
            ],
            "layout": "IPY_MODEL_afcb66534c5a4e8da61548f980317dd8"
          }
        },
        "5a81d3f0d591470eb438884cc4ca36b9": {
          "model_module": "@jupyter-widgets/controls",
          "model_name": "HTMLModel",
          "model_module_version": "1.5.0",
          "state": {
            "_dom_classes": [],
            "_model_module": "@jupyter-widgets/controls",
            "_model_module_version": "1.5.0",
            "_model_name": "HTMLModel",
            "_view_count": null,
            "_view_module": "@jupyter-widgets/controls",
            "_view_module_version": "1.5.0",
            "_view_name": "HTMLView",
            "description": "",
            "description_tooltip": null,
            "layout": "IPY_MODEL_9ceb42168bbd4f4b80ee6aa8fec2981d",
            "placeholder": "​",
            "style": "IPY_MODEL_122fec32267d45069df89be36d50f315",
            "value": "config.json: 100%"
          }
        },
        "b54b2fa9d6354a69b09a7da4c25726fc": {
          "model_module": "@jupyter-widgets/controls",
          "model_name": "FloatProgressModel",
          "model_module_version": "1.5.0",
          "state": {
            "_dom_classes": [],
            "_model_module": "@jupyter-widgets/controls",
            "_model_module_version": "1.5.0",
            "_model_name": "FloatProgressModel",
            "_view_count": null,
            "_view_module": "@jupyter-widgets/controls",
            "_view_module_version": "1.5.0",
            "_view_name": "ProgressView",
            "bar_style": "success",
            "description": "",
            "description_tooltip": null,
            "layout": "IPY_MODEL_e451884c8d154b898639d13381e0be5a",
            "max": 383,
            "min": 0,
            "orientation": "horizontal",
            "style": "IPY_MODEL_23bd8915629545dd96d5f2bc718f1d80",
            "value": 383
          }
        },
        "5c64a6d433de43538d3b04a5ad5691c7": {
          "model_module": "@jupyter-widgets/controls",
          "model_name": "HTMLModel",
          "model_module_version": "1.5.0",
          "state": {
            "_dom_classes": [],
            "_model_module": "@jupyter-widgets/controls",
            "_model_module_version": "1.5.0",
            "_model_name": "HTMLModel",
            "_view_count": null,
            "_view_module": "@jupyter-widgets/controls",
            "_view_module_version": "1.5.0",
            "_view_name": "HTMLView",
            "description": "",
            "description_tooltip": null,
            "layout": "IPY_MODEL_a84725ba289e4fc6995a7b199d7bd745",
            "placeholder": "​",
            "style": "IPY_MODEL_6297f87d02b44905b03b817d6db54e90",
            "value": " 383/383 [00:00&lt;00:00, 7.32kB/s]"
          }
        },
        "afcb66534c5a4e8da61548f980317dd8": {
          "model_module": "@jupyter-widgets/base",
          "model_name": "LayoutModel",
          "model_module_version": "1.2.0",
          "state": {
            "_model_module": "@jupyter-widgets/base",
            "_model_module_version": "1.2.0",
            "_model_name": "LayoutModel",
            "_view_count": null,
            "_view_module": "@jupyter-widgets/base",
            "_view_module_version": "1.2.0",
            "_view_name": "LayoutView",
            "align_content": null,
            "align_items": null,
            "align_self": null,
            "border": null,
            "bottom": null,
            "display": null,
            "flex": null,
            "flex_flow": null,
            "grid_area": null,
            "grid_auto_columns": null,
            "grid_auto_flow": null,
            "grid_auto_rows": null,
            "grid_column": null,
            "grid_gap": null,
            "grid_row": null,
            "grid_template_areas": null,
            "grid_template_columns": null,
            "grid_template_rows": null,
            "height": null,
            "justify_content": null,
            "justify_items": null,
            "left": null,
            "margin": null,
            "max_height": null,
            "max_width": null,
            "min_height": null,
            "min_width": null,
            "object_fit": null,
            "object_position": null,
            "order": null,
            "overflow": null,
            "overflow_x": null,
            "overflow_y": null,
            "padding": null,
            "right": null,
            "top": null,
            "visibility": null,
            "width": null
          }
        },
        "9ceb42168bbd4f4b80ee6aa8fec2981d": {
          "model_module": "@jupyter-widgets/base",
          "model_name": "LayoutModel",
          "model_module_version": "1.2.0",
          "state": {
            "_model_module": "@jupyter-widgets/base",
            "_model_module_version": "1.2.0",
            "_model_name": "LayoutModel",
            "_view_count": null,
            "_view_module": "@jupyter-widgets/base",
            "_view_module_version": "1.2.0",
            "_view_name": "LayoutView",
            "align_content": null,
            "align_items": null,
            "align_self": null,
            "border": null,
            "bottom": null,
            "display": null,
            "flex": null,
            "flex_flow": null,
            "grid_area": null,
            "grid_auto_columns": null,
            "grid_auto_flow": null,
            "grid_auto_rows": null,
            "grid_column": null,
            "grid_gap": null,
            "grid_row": null,
            "grid_template_areas": null,
            "grid_template_columns": null,
            "grid_template_rows": null,
            "height": null,
            "justify_content": null,
            "justify_items": null,
            "left": null,
            "margin": null,
            "max_height": null,
            "max_width": null,
            "min_height": null,
            "min_width": null,
            "object_fit": null,
            "object_position": null,
            "order": null,
            "overflow": null,
            "overflow_x": null,
            "overflow_y": null,
            "padding": null,
            "right": null,
            "top": null,
            "visibility": null,
            "width": null
          }
        },
        "122fec32267d45069df89be36d50f315": {
          "model_module": "@jupyter-widgets/controls",
          "model_name": "DescriptionStyleModel",
          "model_module_version": "1.5.0",
          "state": {
            "_model_module": "@jupyter-widgets/controls",
            "_model_module_version": "1.5.0",
            "_model_name": "DescriptionStyleModel",
            "_view_count": null,
            "_view_module": "@jupyter-widgets/base",
            "_view_module_version": "1.2.0",
            "_view_name": "StyleView",
            "description_width": ""
          }
        },
        "e451884c8d154b898639d13381e0be5a": {
          "model_module": "@jupyter-widgets/base",
          "model_name": "LayoutModel",
          "model_module_version": "1.2.0",
          "state": {
            "_model_module": "@jupyter-widgets/base",
            "_model_module_version": "1.2.0",
            "_model_name": "LayoutModel",
            "_view_count": null,
            "_view_module": "@jupyter-widgets/base",
            "_view_module_version": "1.2.0",
            "_view_name": "LayoutView",
            "align_content": null,
            "align_items": null,
            "align_self": null,
            "border": null,
            "bottom": null,
            "display": null,
            "flex": null,
            "flex_flow": null,
            "grid_area": null,
            "grid_auto_columns": null,
            "grid_auto_flow": null,
            "grid_auto_rows": null,
            "grid_column": null,
            "grid_gap": null,
            "grid_row": null,
            "grid_template_areas": null,
            "grid_template_columns": null,
            "grid_template_rows": null,
            "height": null,
            "justify_content": null,
            "justify_items": null,
            "left": null,
            "margin": null,
            "max_height": null,
            "max_width": null,
            "min_height": null,
            "min_width": null,
            "object_fit": null,
            "object_position": null,
            "order": null,
            "overflow": null,
            "overflow_x": null,
            "overflow_y": null,
            "padding": null,
            "right": null,
            "top": null,
            "visibility": null,
            "width": null
          }
        },
        "23bd8915629545dd96d5f2bc718f1d80": {
          "model_module": "@jupyter-widgets/controls",
          "model_name": "ProgressStyleModel",
          "model_module_version": "1.5.0",
          "state": {
            "_model_module": "@jupyter-widgets/controls",
            "_model_module_version": "1.5.0",
            "_model_name": "ProgressStyleModel",
            "_view_count": null,
            "_view_module": "@jupyter-widgets/base",
            "_view_module_version": "1.2.0",
            "_view_name": "StyleView",
            "bar_color": null,
            "description_width": ""
          }
        },
        "a84725ba289e4fc6995a7b199d7bd745": {
          "model_module": "@jupyter-widgets/base",
          "model_name": "LayoutModel",
          "model_module_version": "1.2.0",
          "state": {
            "_model_module": "@jupyter-widgets/base",
            "_model_module_version": "1.2.0",
            "_model_name": "LayoutModel",
            "_view_count": null,
            "_view_module": "@jupyter-widgets/base",
            "_view_module_version": "1.2.0",
            "_view_name": "LayoutView",
            "align_content": null,
            "align_items": null,
            "align_self": null,
            "border": null,
            "bottom": null,
            "display": null,
            "flex": null,
            "flex_flow": null,
            "grid_area": null,
            "grid_auto_columns": null,
            "grid_auto_flow": null,
            "grid_auto_rows": null,
            "grid_column": null,
            "grid_gap": null,
            "grid_row": null,
            "grid_template_areas": null,
            "grid_template_columns": null,
            "grid_template_rows": null,
            "height": null,
            "justify_content": null,
            "justify_items": null,
            "left": null,
            "margin": null,
            "max_height": null,
            "max_width": null,
            "min_height": null,
            "min_width": null,
            "object_fit": null,
            "object_position": null,
            "order": null,
            "overflow": null,
            "overflow_x": null,
            "overflow_y": null,
            "padding": null,
            "right": null,
            "top": null,
            "visibility": null,
            "width": null
          }
        },
        "6297f87d02b44905b03b817d6db54e90": {
          "model_module": "@jupyter-widgets/controls",
          "model_name": "DescriptionStyleModel",
          "model_module_version": "1.5.0",
          "state": {
            "_model_module": "@jupyter-widgets/controls",
            "_model_module_version": "1.5.0",
            "_model_name": "DescriptionStyleModel",
            "_view_count": null,
            "_view_module": "@jupyter-widgets/base",
            "_view_module_version": "1.2.0",
            "_view_name": "StyleView",
            "description_width": ""
          }
        },
        "d3e10f8bc85c4425bd591abd48ee8161": {
          "model_module": "@jupyter-widgets/controls",
          "model_name": "HBoxModel",
          "model_module_version": "1.5.0",
          "state": {
            "_dom_classes": [],
            "_model_module": "@jupyter-widgets/controls",
            "_model_module_version": "1.5.0",
            "_model_name": "HBoxModel",
            "_view_count": null,
            "_view_module": "@jupyter-widgets/controls",
            "_view_module_version": "1.5.0",
            "_view_name": "HBoxView",
            "box_style": "",
            "children": [
              "IPY_MODEL_86e3b8f64c5f4507b2dada8dda14fd8a",
              "IPY_MODEL_db96c0410d334ac58cd74f7c32edfd56",
              "IPY_MODEL_f7d6cd11f30b4de5a10c5eb03b8baa77"
            ],
            "layout": "IPY_MODEL_c9342b61acf2477fbbd464ac264fbcdc"
          }
        },
        "86e3b8f64c5f4507b2dada8dda14fd8a": {
          "model_module": "@jupyter-widgets/controls",
          "model_name": "HTMLModel",
          "model_module_version": "1.5.0",
          "state": {
            "_dom_classes": [],
            "_model_module": "@jupyter-widgets/controls",
            "_model_module_version": "1.5.0",
            "_model_name": "HTMLModel",
            "_view_count": null,
            "_view_module": "@jupyter-widgets/controls",
            "_view_module_version": "1.5.0",
            "_view_name": "HTMLView",
            "description": "",
            "description_tooltip": null,
            "layout": "IPY_MODEL_9fddc139c0484805b74cde23f7a74010",
            "placeholder": "​",
            "style": "IPY_MODEL_fa9cec2246d1485d9e4a2f44abb89a02",
            "value": "pytorch_model.bin: 100%"
          }
        },
        "db96c0410d334ac58cd74f7c32edfd56": {
          "model_module": "@jupyter-widgets/controls",
          "model_name": "FloatProgressModel",
          "model_module_version": "1.5.0",
          "state": {
            "_dom_classes": [],
            "_model_module": "@jupyter-widgets/controls",
            "_model_module_version": "1.5.0",
            "_model_name": "FloatProgressModel",
            "_view_count": null,
            "_view_module": "@jupyter-widgets/controls",
            "_view_module_version": "1.5.0",
            "_view_name": "ProgressView",
            "bar_style": "success",
            "description": "",
            "description_tooltip": null,
            "layout": "IPY_MODEL_42d17a097dfa4ed5898889676c3c6db7",
            "max": 116252865,
            "min": 0,
            "orientation": "horizontal",
            "style": "IPY_MODEL_6840d41d064d4c8ea874c745d250a486",
            "value": 116252865
          }
        },
        "f7d6cd11f30b4de5a10c5eb03b8baa77": {
          "model_module": "@jupyter-widgets/controls",
          "model_name": "HTMLModel",
          "model_module_version": "1.5.0",
          "state": {
            "_dom_classes": [],
            "_model_module": "@jupyter-widgets/controls",
            "_model_module_version": "1.5.0",
            "_model_name": "HTMLModel",
            "_view_count": null,
            "_view_module": "@jupyter-widgets/controls",
            "_view_module_version": "1.5.0",
            "_view_name": "HTMLView",
            "description": "",
            "description_tooltip": null,
            "layout": "IPY_MODEL_18163307dff94ba188bc47be40363c14",
            "placeholder": "​",
            "style": "IPY_MODEL_17f697e569324785ac24679e5270031a",
            "value": " 116M/116M [00:01&lt;00:00, 131MB/s]"
          }
        },
        "c9342b61acf2477fbbd464ac264fbcdc": {
          "model_module": "@jupyter-widgets/base",
          "model_name": "LayoutModel",
          "model_module_version": "1.2.0",
          "state": {
            "_model_module": "@jupyter-widgets/base",
            "_model_module_version": "1.2.0",
            "_model_name": "LayoutModel",
            "_view_count": null,
            "_view_module": "@jupyter-widgets/base",
            "_view_module_version": "1.2.0",
            "_view_name": "LayoutView",
            "align_content": null,
            "align_items": null,
            "align_self": null,
            "border": null,
            "bottom": null,
            "display": null,
            "flex": null,
            "flex_flow": null,
            "grid_area": null,
            "grid_auto_columns": null,
            "grid_auto_flow": null,
            "grid_auto_rows": null,
            "grid_column": null,
            "grid_gap": null,
            "grid_row": null,
            "grid_template_areas": null,
            "grid_template_columns": null,
            "grid_template_rows": null,
            "height": null,
            "justify_content": null,
            "justify_items": null,
            "left": null,
            "margin": null,
            "max_height": null,
            "max_width": null,
            "min_height": null,
            "min_width": null,
            "object_fit": null,
            "object_position": null,
            "order": null,
            "overflow": null,
            "overflow_x": null,
            "overflow_y": null,
            "padding": null,
            "right": null,
            "top": null,
            "visibility": null,
            "width": null
          }
        },
        "9fddc139c0484805b74cde23f7a74010": {
          "model_module": "@jupyter-widgets/base",
          "model_name": "LayoutModel",
          "model_module_version": "1.2.0",
          "state": {
            "_model_module": "@jupyter-widgets/base",
            "_model_module_version": "1.2.0",
            "_model_name": "LayoutModel",
            "_view_count": null,
            "_view_module": "@jupyter-widgets/base",
            "_view_module_version": "1.2.0",
            "_view_name": "LayoutView",
            "align_content": null,
            "align_items": null,
            "align_self": null,
            "border": null,
            "bottom": null,
            "display": null,
            "flex": null,
            "flex_flow": null,
            "grid_area": null,
            "grid_auto_columns": null,
            "grid_auto_flow": null,
            "grid_auto_rows": null,
            "grid_column": null,
            "grid_gap": null,
            "grid_row": null,
            "grid_template_areas": null,
            "grid_template_columns": null,
            "grid_template_rows": null,
            "height": null,
            "justify_content": null,
            "justify_items": null,
            "left": null,
            "margin": null,
            "max_height": null,
            "max_width": null,
            "min_height": null,
            "min_width": null,
            "object_fit": null,
            "object_position": null,
            "order": null,
            "overflow": null,
            "overflow_x": null,
            "overflow_y": null,
            "padding": null,
            "right": null,
            "top": null,
            "visibility": null,
            "width": null
          }
        },
        "fa9cec2246d1485d9e4a2f44abb89a02": {
          "model_module": "@jupyter-widgets/controls",
          "model_name": "DescriptionStyleModel",
          "model_module_version": "1.5.0",
          "state": {
            "_model_module": "@jupyter-widgets/controls",
            "_model_module_version": "1.5.0",
            "_model_name": "DescriptionStyleModel",
            "_view_count": null,
            "_view_module": "@jupyter-widgets/base",
            "_view_module_version": "1.2.0",
            "_view_name": "StyleView",
            "description_width": ""
          }
        },
        "42d17a097dfa4ed5898889676c3c6db7": {
          "model_module": "@jupyter-widgets/base",
          "model_name": "LayoutModel",
          "model_module_version": "1.2.0",
          "state": {
            "_model_module": "@jupyter-widgets/base",
            "_model_module_version": "1.2.0",
            "_model_name": "LayoutModel",
            "_view_count": null,
            "_view_module": "@jupyter-widgets/base",
            "_view_module_version": "1.2.0",
            "_view_name": "LayoutView",
            "align_content": null,
            "align_items": null,
            "align_self": null,
            "border": null,
            "bottom": null,
            "display": null,
            "flex": null,
            "flex_flow": null,
            "grid_area": null,
            "grid_auto_columns": null,
            "grid_auto_flow": null,
            "grid_auto_rows": null,
            "grid_column": null,
            "grid_gap": null,
            "grid_row": null,
            "grid_template_areas": null,
            "grid_template_columns": null,
            "grid_template_rows": null,
            "height": null,
            "justify_content": null,
            "justify_items": null,
            "left": null,
            "margin": null,
            "max_height": null,
            "max_width": null,
            "min_height": null,
            "min_width": null,
            "object_fit": null,
            "object_position": null,
            "order": null,
            "overflow": null,
            "overflow_x": null,
            "overflow_y": null,
            "padding": null,
            "right": null,
            "top": null,
            "visibility": null,
            "width": null
          }
        },
        "6840d41d064d4c8ea874c745d250a486": {
          "model_module": "@jupyter-widgets/controls",
          "model_name": "ProgressStyleModel",
          "model_module_version": "1.5.0",
          "state": {
            "_model_module": "@jupyter-widgets/controls",
            "_model_module_version": "1.5.0",
            "_model_name": "ProgressStyleModel",
            "_view_count": null,
            "_view_module": "@jupyter-widgets/base",
            "_view_module_version": "1.2.0",
            "_view_name": "StyleView",
            "bar_color": null,
            "description_width": ""
          }
        },
        "18163307dff94ba188bc47be40363c14": {
          "model_module": "@jupyter-widgets/base",
          "model_name": "LayoutModel",
          "model_module_version": "1.2.0",
          "state": {
            "_model_module": "@jupyter-widgets/base",
            "_model_module_version": "1.2.0",
            "_model_name": "LayoutModel",
            "_view_count": null,
            "_view_module": "@jupyter-widgets/base",
            "_view_module_version": "1.2.0",
            "_view_name": "LayoutView",
            "align_content": null,
            "align_items": null,
            "align_self": null,
            "border": null,
            "bottom": null,
            "display": null,
            "flex": null,
            "flex_flow": null,
            "grid_area": null,
            "grid_auto_columns": null,
            "grid_auto_flow": null,
            "grid_auto_rows": null,
            "grid_column": null,
            "grid_gap": null,
            "grid_row": null,
            "grid_template_areas": null,
            "grid_template_columns": null,
            "grid_template_rows": null,
            "height": null,
            "justify_content": null,
            "justify_items": null,
            "left": null,
            "margin": null,
            "max_height": null,
            "max_width": null,
            "min_height": null,
            "min_width": null,
            "object_fit": null,
            "object_position": null,
            "order": null,
            "overflow": null,
            "overflow_x": null,
            "overflow_y": null,
            "padding": null,
            "right": null,
            "top": null,
            "visibility": null,
            "width": null
          }
        },
        "17f697e569324785ac24679e5270031a": {
          "model_module": "@jupyter-widgets/controls",
          "model_name": "DescriptionStyleModel",
          "model_module_version": "1.5.0",
          "state": {
            "_model_module": "@jupyter-widgets/controls",
            "_model_module_version": "1.5.0",
            "_model_name": "DescriptionStyleModel",
            "_view_count": null,
            "_view_module": "@jupyter-widgets/base",
            "_view_module_version": "1.2.0",
            "_view_name": "StyleView",
            "description_width": ""
          }
        }
      }
    }
  },
  "cells": [
    {
      "cell_type": "markdown",
      "metadata": {
        "id": "view-in-github",
        "colab_type": "text"
      },
      "source": [
        "<a href=\"https://colab.research.google.com/github/araujobma/DisasterTweetsCompetition/blob/main/TwitterDisasterNLP.ipynb\" target=\"_parent\"><img src=\"https://colab.research.google.com/assets/colab-badge.svg\" alt=\"Open In Colab\"/></a>"
      ]
    },
    {
      "cell_type": "markdown",
      "source": [
        "## Exploratory Data Analysis (EDA)\n",
        "\n",
        "This notebook is for the 4th assignment of the \"Introduction to Deep Learning\" course by UC Boulder on Coursera.\n",
        "\n",
        "**Goal:** This notebook demonstrates one approach to the Kaggle competition \"Natural Language Processing with Disaster Tweets\"(https://www.kaggle.com/competitions/nlp-getting-started). The goal of the competition is to predict whether tweets are about real disasters or not.  \n",
        "\n",
        "**Dataset:** The dataset contains 10,873 tweets, each with 5 columns. The most important columns are 'text' (the tweet content) and 'target' (indicating whether the tweet is about a real disaster)."
      ],
      "metadata": {
        "id": "xe9vy3FPOShn"
      }
    },
    {
      "cell_type": "code",
      "execution_count": null,
      "metadata": {
        "id": "nQ3cHFIUTfhr"
      },
      "outputs": [],
      "source": [
        "#Define some environment variables to sownload the dataset from kaggle\n",
        "from google.colab import userdata\n",
        "import pandas as pd\n",
        "import os\n",
        "\n",
        "os.environ['KAGGLE_USERNAME'] = userdata.get('KAGGLE_USERNAME')\n",
        "os.environ['KAGGLE_KEY'] = userdata.get('KAGGLE_KEY')"
      ]
    },
    {
      "cell_type": "code",
      "source": [
        "#Download the dataset\n",
        "!pip install -qU install kaggle\n",
        "!kaggle competitions download -c nlp-getting-started"
      ],
      "metadata": {
        "colab": {
          "base_uri": "https://localhost:8080/"
        },
        "id": "12tifWf_T3nB",
        "outputId": "aea61045-2289-4b94-d6dc-59e2790852ae"
      },
      "execution_count": null,
      "outputs": [
        {
          "output_type": "stream",
          "name": "stdout",
          "text": [
            "\u001b[31mERROR: Could not find a version that satisfies the requirement install (from versions: none)\u001b[0m\u001b[31m\n",
            "\u001b[0m\u001b[31mERROR: No matching distribution found for install\u001b[0m\u001b[31m\n",
            "\u001b[0mnlp-getting-started.zip: Skipping, found more recently modified local copy (use --force to force download)\n"
          ]
        }
      ]
    },
    {
      "cell_type": "code",
      "source": [
        "#Dataset extraction\n",
        "import zipfile\n",
        "with zipfile.ZipFile('nlp-getting-started.zip', 'r') as zip_ref:\n",
        "    zip_ref.extractall()\n"
      ],
      "metadata": {
        "id": "e5qe_2puT--q"
      },
      "execution_count": null,
      "outputs": []
    },
    {
      "cell_type": "code",
      "source": [
        "train_df = pd.read_csv('train.csv')\n",
        "test_df = pd.read_csv('test.csv')\n",
        "\n",
        "train_df.head()"
      ],
      "metadata": {
        "colab": {
          "base_uri": "https://localhost:8080/",
          "height": 206
        },
        "id": "-oczKsmEUgtn",
        "outputId": "a23d8c44-e244-43c0-b688-173bd1835f14"
      },
      "execution_count": null,
      "outputs": [
        {
          "output_type": "execute_result",
          "data": {
            "text/plain": [
              "   id keyword location                                               text  \\\n",
              "0   1     NaN      NaN  Our Deeds are the Reason of this #earthquake M...   \n",
              "1   4     NaN      NaN             Forest fire near La Ronge Sask. Canada   \n",
              "2   5     NaN      NaN  All residents asked to 'shelter in place' are ...   \n",
              "3   6     NaN      NaN  13,000 people receive #wildfires evacuation or...   \n",
              "4   7     NaN      NaN  Just got sent this photo from Ruby #Alaska as ...   \n",
              "\n",
              "   target  \n",
              "0       1  \n",
              "1       1  \n",
              "2       1  \n",
              "3       1  \n",
              "4       1  "
            ],
            "text/html": [
              "\n",
              "  <div id=\"df-50b57653-a513-460a-a70b-ba5dcb77da51\" class=\"colab-df-container\">\n",
              "    <div>\n",
              "<style scoped>\n",
              "    .dataframe tbody tr th:only-of-type {\n",
              "        vertical-align: middle;\n",
              "    }\n",
              "\n",
              "    .dataframe tbody tr th {\n",
              "        vertical-align: top;\n",
              "    }\n",
              "\n",
              "    .dataframe thead th {\n",
              "        text-align: right;\n",
              "    }\n",
              "</style>\n",
              "<table border=\"1\" class=\"dataframe\">\n",
              "  <thead>\n",
              "    <tr style=\"text-align: right;\">\n",
              "      <th></th>\n",
              "      <th>id</th>\n",
              "      <th>keyword</th>\n",
              "      <th>location</th>\n",
              "      <th>text</th>\n",
              "      <th>target</th>\n",
              "    </tr>\n",
              "  </thead>\n",
              "  <tbody>\n",
              "    <tr>\n",
              "      <th>0</th>\n",
              "      <td>1</td>\n",
              "      <td>NaN</td>\n",
              "      <td>NaN</td>\n",
              "      <td>Our Deeds are the Reason of this #earthquake M...</td>\n",
              "      <td>1</td>\n",
              "    </tr>\n",
              "    <tr>\n",
              "      <th>1</th>\n",
              "      <td>4</td>\n",
              "      <td>NaN</td>\n",
              "      <td>NaN</td>\n",
              "      <td>Forest fire near La Ronge Sask. Canada</td>\n",
              "      <td>1</td>\n",
              "    </tr>\n",
              "    <tr>\n",
              "      <th>2</th>\n",
              "      <td>5</td>\n",
              "      <td>NaN</td>\n",
              "      <td>NaN</td>\n",
              "      <td>All residents asked to 'shelter in place' are ...</td>\n",
              "      <td>1</td>\n",
              "    </tr>\n",
              "    <tr>\n",
              "      <th>3</th>\n",
              "      <td>6</td>\n",
              "      <td>NaN</td>\n",
              "      <td>NaN</td>\n",
              "      <td>13,000 people receive #wildfires evacuation or...</td>\n",
              "      <td>1</td>\n",
              "    </tr>\n",
              "    <tr>\n",
              "      <th>4</th>\n",
              "      <td>7</td>\n",
              "      <td>NaN</td>\n",
              "      <td>NaN</td>\n",
              "      <td>Just got sent this photo from Ruby #Alaska as ...</td>\n",
              "      <td>1</td>\n",
              "    </tr>\n",
              "  </tbody>\n",
              "</table>\n",
              "</div>\n",
              "    <div class=\"colab-df-buttons\">\n",
              "\n",
              "  <div class=\"colab-df-container\">\n",
              "    <button class=\"colab-df-convert\" onclick=\"convertToInteractive('df-50b57653-a513-460a-a70b-ba5dcb77da51')\"\n",
              "            title=\"Convert this dataframe to an interactive table.\"\n",
              "            style=\"display:none;\">\n",
              "\n",
              "  <svg xmlns=\"http://www.w3.org/2000/svg\" height=\"24px\" viewBox=\"0 -960 960 960\">\n",
              "    <path d=\"M120-120v-720h720v720H120Zm60-500h600v-160H180v160Zm220 220h160v-160H400v160Zm0 220h160v-160H400v160ZM180-400h160v-160H180v160Zm440 0h160v-160H620v160ZM180-180h160v-160H180v160Zm440 0h160v-160H620v160Z\"/>\n",
              "  </svg>\n",
              "    </button>\n",
              "\n",
              "  <style>\n",
              "    .colab-df-container {\n",
              "      display:flex;\n",
              "      gap: 12px;\n",
              "    }\n",
              "\n",
              "    .colab-df-convert {\n",
              "      background-color: #E8F0FE;\n",
              "      border: none;\n",
              "      border-radius: 50%;\n",
              "      cursor: pointer;\n",
              "      display: none;\n",
              "      fill: #1967D2;\n",
              "      height: 32px;\n",
              "      padding: 0 0 0 0;\n",
              "      width: 32px;\n",
              "    }\n",
              "\n",
              "    .colab-df-convert:hover {\n",
              "      background-color: #E2EBFA;\n",
              "      box-shadow: 0px 1px 2px rgba(60, 64, 67, 0.3), 0px 1px 3px 1px rgba(60, 64, 67, 0.15);\n",
              "      fill: #174EA6;\n",
              "    }\n",
              "\n",
              "    .colab-df-buttons div {\n",
              "      margin-bottom: 4px;\n",
              "    }\n",
              "\n",
              "    [theme=dark] .colab-df-convert {\n",
              "      background-color: #3B4455;\n",
              "      fill: #D2E3FC;\n",
              "    }\n",
              "\n",
              "    [theme=dark] .colab-df-convert:hover {\n",
              "      background-color: #434B5C;\n",
              "      box-shadow: 0px 1px 3px 1px rgba(0, 0, 0, 0.15);\n",
              "      filter: drop-shadow(0px 1px 2px rgba(0, 0, 0, 0.3));\n",
              "      fill: #FFFFFF;\n",
              "    }\n",
              "  </style>\n",
              "\n",
              "    <script>\n",
              "      const buttonEl =\n",
              "        document.querySelector('#df-50b57653-a513-460a-a70b-ba5dcb77da51 button.colab-df-convert');\n",
              "      buttonEl.style.display =\n",
              "        google.colab.kernel.accessAllowed ? 'block' : 'none';\n",
              "\n",
              "      async function convertToInteractive(key) {\n",
              "        const element = document.querySelector('#df-50b57653-a513-460a-a70b-ba5dcb77da51');\n",
              "        const dataTable =\n",
              "          await google.colab.kernel.invokeFunction('convertToInteractive',\n",
              "                                                    [key], {});\n",
              "        if (!dataTable) return;\n",
              "\n",
              "        const docLinkHtml = 'Like what you see? Visit the ' +\n",
              "          '<a target=\"_blank\" href=https://colab.research.google.com/notebooks/data_table.ipynb>data table notebook</a>'\n",
              "          + ' to learn more about interactive tables.';\n",
              "        element.innerHTML = '';\n",
              "        dataTable['output_type'] = 'display_data';\n",
              "        await google.colab.output.renderOutput(dataTable, element);\n",
              "        const docLink = document.createElement('div');\n",
              "        docLink.innerHTML = docLinkHtml;\n",
              "        element.appendChild(docLink);\n",
              "      }\n",
              "    </script>\n",
              "  </div>\n",
              "\n",
              "\n",
              "<div id=\"df-20baf96d-9ac3-44c4-932b-175a8aeb89aa\">\n",
              "  <button class=\"colab-df-quickchart\" onclick=\"quickchart('df-20baf96d-9ac3-44c4-932b-175a8aeb89aa')\"\n",
              "            title=\"Suggest charts\"\n",
              "            style=\"display:none;\">\n",
              "\n",
              "<svg xmlns=\"http://www.w3.org/2000/svg\" height=\"24px\"viewBox=\"0 0 24 24\"\n",
              "     width=\"24px\">\n",
              "    <g>\n",
              "        <path d=\"M19 3H5c-1.1 0-2 .9-2 2v14c0 1.1.9 2 2 2h14c1.1 0 2-.9 2-2V5c0-1.1-.9-2-2-2zM9 17H7v-7h2v7zm4 0h-2V7h2v10zm4 0h-2v-4h2v4z\"/>\n",
              "    </g>\n",
              "</svg>\n",
              "  </button>\n",
              "\n",
              "<style>\n",
              "  .colab-df-quickchart {\n",
              "      --bg-color: #E8F0FE;\n",
              "      --fill-color: #1967D2;\n",
              "      --hover-bg-color: #E2EBFA;\n",
              "      --hover-fill-color: #174EA6;\n",
              "      --disabled-fill-color: #AAA;\n",
              "      --disabled-bg-color: #DDD;\n",
              "  }\n",
              "\n",
              "  [theme=dark] .colab-df-quickchart {\n",
              "      --bg-color: #3B4455;\n",
              "      --fill-color: #D2E3FC;\n",
              "      --hover-bg-color: #434B5C;\n",
              "      --hover-fill-color: #FFFFFF;\n",
              "      --disabled-bg-color: #3B4455;\n",
              "      --disabled-fill-color: #666;\n",
              "  }\n",
              "\n",
              "  .colab-df-quickchart {\n",
              "    background-color: var(--bg-color);\n",
              "    border: none;\n",
              "    border-radius: 50%;\n",
              "    cursor: pointer;\n",
              "    display: none;\n",
              "    fill: var(--fill-color);\n",
              "    height: 32px;\n",
              "    padding: 0;\n",
              "    width: 32px;\n",
              "  }\n",
              "\n",
              "  .colab-df-quickchart:hover {\n",
              "    background-color: var(--hover-bg-color);\n",
              "    box-shadow: 0 1px 2px rgba(60, 64, 67, 0.3), 0 1px 3px 1px rgba(60, 64, 67, 0.15);\n",
              "    fill: var(--button-hover-fill-color);\n",
              "  }\n",
              "\n",
              "  .colab-df-quickchart-complete:disabled,\n",
              "  .colab-df-quickchart-complete:disabled:hover {\n",
              "    background-color: var(--disabled-bg-color);\n",
              "    fill: var(--disabled-fill-color);\n",
              "    box-shadow: none;\n",
              "  }\n",
              "\n",
              "  .colab-df-spinner {\n",
              "    border: 2px solid var(--fill-color);\n",
              "    border-color: transparent;\n",
              "    border-bottom-color: var(--fill-color);\n",
              "    animation:\n",
              "      spin 1s steps(1) infinite;\n",
              "  }\n",
              "\n",
              "  @keyframes spin {\n",
              "    0% {\n",
              "      border-color: transparent;\n",
              "      border-bottom-color: var(--fill-color);\n",
              "      border-left-color: var(--fill-color);\n",
              "    }\n",
              "    20% {\n",
              "      border-color: transparent;\n",
              "      border-left-color: var(--fill-color);\n",
              "      border-top-color: var(--fill-color);\n",
              "    }\n",
              "    30% {\n",
              "      border-color: transparent;\n",
              "      border-left-color: var(--fill-color);\n",
              "      border-top-color: var(--fill-color);\n",
              "      border-right-color: var(--fill-color);\n",
              "    }\n",
              "    40% {\n",
              "      border-color: transparent;\n",
              "      border-right-color: var(--fill-color);\n",
              "      border-top-color: var(--fill-color);\n",
              "    }\n",
              "    60% {\n",
              "      border-color: transparent;\n",
              "      border-right-color: var(--fill-color);\n",
              "    }\n",
              "    80% {\n",
              "      border-color: transparent;\n",
              "      border-right-color: var(--fill-color);\n",
              "      border-bottom-color: var(--fill-color);\n",
              "    }\n",
              "    90% {\n",
              "      border-color: transparent;\n",
              "      border-bottom-color: var(--fill-color);\n",
              "    }\n",
              "  }\n",
              "</style>\n",
              "\n",
              "  <script>\n",
              "    async function quickchart(key) {\n",
              "      const quickchartButtonEl =\n",
              "        document.querySelector('#' + key + ' button');\n",
              "      quickchartButtonEl.disabled = true;  // To prevent multiple clicks.\n",
              "      quickchartButtonEl.classList.add('colab-df-spinner');\n",
              "      try {\n",
              "        const charts = await google.colab.kernel.invokeFunction(\n",
              "            'suggestCharts', [key], {});\n",
              "      } catch (error) {\n",
              "        console.error('Error during call to suggestCharts:', error);\n",
              "      }\n",
              "      quickchartButtonEl.classList.remove('colab-df-spinner');\n",
              "      quickchartButtonEl.classList.add('colab-df-quickchart-complete');\n",
              "    }\n",
              "    (() => {\n",
              "      let quickchartButtonEl =\n",
              "        document.querySelector('#df-20baf96d-9ac3-44c4-932b-175a8aeb89aa button');\n",
              "      quickchartButtonEl.style.display =\n",
              "        google.colab.kernel.accessAllowed ? 'block' : 'none';\n",
              "    })();\n",
              "  </script>\n",
              "</div>\n",
              "\n",
              "    </div>\n",
              "  </div>\n"
            ],
            "application/vnd.google.colaboratory.intrinsic+json": {
              "type": "dataframe",
              "variable_name": "train_df",
              "summary": "{\n  \"name\": \"train_df\",\n  \"rows\": 7613,\n  \"fields\": [\n    {\n      \"column\": \"id\",\n      \"properties\": {\n        \"dtype\": \"number\",\n        \"std\": 3137,\n        \"min\": 1,\n        \"max\": 10873,\n        \"num_unique_values\": 7613,\n        \"samples\": [\n          3796,\n          3185,\n          7769\n        ],\n        \"semantic_type\": \"\",\n        \"description\": \"\"\n      }\n    },\n    {\n      \"column\": \"keyword\",\n      \"properties\": {\n        \"dtype\": \"category\",\n        \"num_unique_values\": 221,\n        \"samples\": [\n          \"injury\",\n          \"nuclear%20reactor\",\n          \"engulfed\"\n        ],\n        \"semantic_type\": \"\",\n        \"description\": \"\"\n      }\n    },\n    {\n      \"column\": \"location\",\n      \"properties\": {\n        \"dtype\": \"category\",\n        \"num_unique_values\": 3341,\n        \"samples\": [\n          \"Oklahoma\",\n          \"Starling City\",\n          \"Trinidad and Tobago\"\n        ],\n        \"semantic_type\": \"\",\n        \"description\": \"\"\n      }\n    },\n    {\n      \"column\": \"text\",\n      \"properties\": {\n        \"dtype\": \"string\",\n        \"num_unique_values\": 7503,\n        \"samples\": [\n          \"Three Homes Demolished in Unrecognized Arab Village - International Middle East Media Center http://t.co/ik8m4Yi9T4\",\n          \"Reid Lake fire prompts campground evacuation order http://t.co/jBODKM6rBU\",\n          \"FAAN orders evacuation of abandoned aircraft at MMA http://t.co/dEvYbnVXGQ via @todayng\"\n        ],\n        \"semantic_type\": \"\",\n        \"description\": \"\"\n      }\n    },\n    {\n      \"column\": \"target\",\n      \"properties\": {\n        \"dtype\": \"number\",\n        \"std\": 0,\n        \"min\": 0,\n        \"max\": 1,\n        \"num_unique_values\": 2,\n        \"samples\": [\n          0,\n          1\n        ],\n        \"semantic_type\": \"\",\n        \"description\": \"\"\n      }\n    }\n  ]\n}"
            }
          },
          "metadata": {},
          "execution_count": 18
        }
      ]
    },
    {
      "cell_type": "code",
      "source": [
        "#View proportion of not null keyword and locations to the entire train dataset\n",
        "train_size = train_df.shape[0]\n",
        "\n",
        "notnul_keyword = train_df['keyword'].notnull().sum() / train_size\n",
        "notnul_location = train_df['location'].notnull().sum() / train_size\n"
      ],
      "metadata": {
        "id": "lLSl8T1hUs7G"
      },
      "execution_count": null,
      "outputs": []
    },
    {
      "cell_type": "markdown",
      "source": [
        "Plotting the proportion of not null keyword and locations it is obseverded the number of data points with null keywords is almost 0, so we can use the keyword field as one of the input features to the model."
      ],
      "metadata": {
        "id": "x5spzXCYRCKz"
      }
    },
    {
      "cell_type": "code",
      "source": [
        "import matplotlib.pyplot as plt\n",
        "\n",
        "# Data for the plot\n",
        "categories = ['keyword', 'location']\n",
        "proportions = [notnul_keyword, notnul_location]\n",
        "\n",
        "# Create the bar plot\n",
        "plt.figure(figsize=(8, 6))\n",
        "plt.bar(categories, proportions, color=['skyblue', 'lightcoral'])\n",
        "\n",
        "# Add labels and title\n",
        "plt.xlabel(\"Categories\")\n",
        "plt.ylabel(\"Proportion of Not Null Values\")\n",
        "plt.title(\"Proportion of Not Null Keyword and Location\")\n",
        "\n",
        "# Add value labels above each bar\n",
        "for i, v in enumerate(proportions):\n",
        "    plt.text(i, v + 0.01, f'{v:.2f}', ha='center')\n",
        "\n",
        "# Show the plot\n",
        "plt.show()"
      ],
      "metadata": {
        "colab": {
          "base_uri": "https://localhost:8080/",
          "height": 564
        },
        "id": "MWvRWTKMVuk1",
        "outputId": "356e472a-9d1c-4890-d90a-7c80c738ef6c"
      },
      "execution_count": null,
      "outputs": [
        {
          "output_type": "display_data",
          "data": {
            "text/plain": [
              "<Figure size 800x600 with 1 Axes>"
            ],
            "image/png": "[encoded data removed]"
          },
          "metadata": {}
        }
      ]
    },
    {
      "cell_type": "code",
      "source": [
        "uniq_keyword = train_df['keyword'].unique()\n",
        "#size of unique keyword\n",
        "print(\"Number of unique keywords:\", len(uniq_keyword))\n",
        "#transform nan to empty string\n",
        "for idx,w in enumerate(uniq_keyword):\n",
        "\n",
        "  if pd.isna(w):\n",
        "    uniq_keyword[idx] = ''\n",
        "print(uniq_keyword[0:10],'...')"
      ],
      "metadata": {
        "colab": {
          "base_uri": "https://localhost:8080/"
        },
        "id": "NqqJIiJJWMnG",
        "outputId": "1b20eac4-c5e5-4eed-edb8-f806909f9936"
      },
      "execution_count": null,
      "outputs": [
        {
          "output_type": "stream",
          "name": "stdout",
          "text": [
            "Number of unique keywords: 222\n",
            "['' 'ablaze' 'accident' 'aftershock' 'airplane%20accident' 'ambulance'\n",
            " 'annihilated' 'annihilation' 'apocalypse' 'armageddon'] ...\n"
          ]
        }
      ]
    },
    {
      "cell_type": "markdown",
      "source": [
        "After getting the unique keywords(categories),we transform the keywords to a one hot encoded vector to use as an input to our model."
      ],
      "metadata": {
        "id": "jAZk0BJyR5w9"
      }
    },
    {
      "cell_type": "code",
      "source": [
        "import numpy as np\n",
        "\n",
        "def keyword_to_onehot(keyword, unique_keywords):\n",
        "  \"\"\"Transforms a keyword into a one-hot encoded vector.\n",
        "\n",
        "  Args:\n",
        "    keyword: The keyword to encode.\n",
        "    unique_keywords: A list of unique keywords.\n",
        "\n",
        "  Returns:\n",
        "    A one-hot encoded vector representing the keyword.\n",
        "    Returns None if the keyword is not found in unique_keywords.\n",
        "  \"\"\"\n",
        "  try:\n",
        "    index = np.where(unique_keywords == keyword)[0][0]\n",
        "    onehot = np.zeros(len(unique_keywords))\n",
        "    onehot[index] = 1\n",
        "    return onehot\n",
        "  except IndexError:\n",
        "    return np.zeros(len(unique_keywords))\n"
      ],
      "metadata": {
        "id": "4nUbh4QiWVb2"
      },
      "execution_count": null,
      "outputs": []
    },
    {
      "cell_type": "code",
      "source": [
        "#apply onehot encoding to keyword column\n",
        "train_df['keyword_onehot'] = train_df['keyword'].apply(lambda x: keyword_to_onehot(x, uniq_keyword))\n",
        "test_df['keyword_onehot'] = test_df['keyword'].apply(lambda x: keyword_to_onehot(x, uniq_keyword))"
      ],
      "metadata": {
        "id": "FQ5kvrcqZwLS"
      },
      "execution_count": null,
      "outputs": []
    },
    {
      "cell_type": "markdown",
      "source": [
        "Extracting the max number of words in all tweets(text column)\n",
        "to determine a max number  of tokens(subwords).\n",
        "This is our"
      ],
      "metadata": {
        "id": "hlTxbnk3Se3P"
      }
    },
    {
      "cell_type": "code",
      "source": [
        "#max length of text\n",
        "train_df['len_text'] = train_df['text'].apply(lambda x: len(x.split()))\n",
        "print(train_df['len_text'].max())\n",
        "#max length of summary\n",
        "test_df['len_text'] = test_df['text'].apply(lambda x: len(x.split()))\n",
        "print(test_df['len_text'].max())"
      ],
      "metadata": {
        "colab": {
          "base_uri": "https://localhost:8080/"
        },
        "id": "ef3yQ1zd9cJi",
        "outputId": "2b0de8fb-8529-4593-d424-7bc6248b58db"
      },
      "execution_count": null,
      "outputs": [
        {
          "output_type": "stream",
          "name": "stdout",
          "text": [
            "31\n",
            "31\n"
          ]
        }
      ]
    },
    {
      "cell_type": "markdown",
      "source": [
        "## Creating embeddings from text\n",
        "This step is requred to transform the tweet texts to an embedding vector that is adequate to pass as a feature to our model."
      ],
      "metadata": {
        "id": "EWbI4InCy6B0"
      }
    },
    {
      "cell_type": "code",
      "source": [
        "#we define the max number of tokens to ~ the double of max words\n",
        "max_tokens = 64"
      ],
      "metadata": {
        "id": "cP4dKlYZ-FT7"
      },
      "execution_count": null,
      "outputs": []
    },
    {
      "cell_type": "code",
      "source": [
        "#This is necessary for keras transformers compability\n",
        "!pip install -qU transformers\n"
      ],
      "metadata": {
        "colab": {
          "base_uri": "https://localhost:8080/"
        },
        "id": "At94_sgLcD5G",
        "outputId": "774a5d87-6365-46b8-dfb8-4169f29ab40a"
      },
      "execution_count": null,
      "outputs": [
        {
          "output_type": "stream",
          "name": "stdout",
          "text": [
            "\u001b[2K     \u001b[90m━━━━━━━━━━━━━━━━━━━━━━━━━━━━━━━━━━━━━━━━\u001b[0m \u001b[32m44.1/44.1 kB\u001b[0m \u001b[31m2.5 MB/s\u001b[0m eta \u001b[36m0:00:00\u001b[0m\n",
            "\u001b[2K   \u001b[90m━━━━━━━━━━━━━━━━━━━━━━━━━━━━━━━━━━━━━━━━\u001b[0m \u001b[32m10.0/10.0 MB\u001b[0m \u001b[31m26.2 MB/s\u001b[0m eta \u001b[36m0:00:00\u001b[0m\n",
            "\u001b[?25h"
          ]
        }
      ]
    },
    {
      "cell_type": "code",
      "source": [
        "from transformers import BertTokenizer, TFBertModel"
      ],
      "metadata": {
        "id": "v3f0F7DQe2WQ"
      },
      "execution_count": null,
      "outputs": []
    },
    {
      "cell_type": "code",
      "source": [
        "#Using the pretrained BERT model to generate the embeddings\n",
        "tokenizer = BertTokenizer.from_pretrained(\"google/bert_uncased_L-4_H-512_A-8\")\n",
        "bert_encoder = TFBertModel.from_pretrained(\"google/bert_uncased_L-4_H-512_A-8\", from_pt=True)"
      ],
      "metadata": {
        "colab": {
          "base_uri": "https://localhost:8080/",
          "height": 336,
          "referenced_widgets": [
            "610ea3c9f5e6429da54174c180d42d7c",
            "905dd4f993e44706ab62d20290e315ff",
            "4090fabaddd14e0a9a913603f5aed864",
            "1d86a27ecd644f13ba6423d5931f71b9",
            "58eac80a3f314b3998de6d0e91faf152",
            "3c3b0bfc3bc74a7087dbd9d85b362b44",
            "27406bd2ada34f17a8f4a12159743765",
            "494b0e248c8345d4bf90d013e5c1f6c3",
            "6c45ea3852d445e684e0b6bd864a4744",
            "f37169b40c604e45a4a1e7155776c1c2",
            "0907e6d063e5431d9f7e2ade03bf0e2f",
            "d63779929f504ff3b95adc07e94742f7",
            "5a81d3f0d591470eb438884cc4ca36b9",
            "b54b2fa9d6354a69b09a7da4c25726fc",
            "5c64a6d433de43538d3b04a5ad5691c7",
            "afcb66534c5a4e8da61548f980317dd8",
            "9ceb42168bbd4f4b80ee6aa8fec2981d",
            "122fec32267d45069df89be36d50f315",
            "e451884c8d154b898639d13381e0be5a",
            "23bd8915629545dd96d5f2bc718f1d80",
            "a84725ba289e4fc6995a7b199d7bd745",
            "6297f87d02b44905b03b817d6db54e90",
            "d3e10f8bc85c4425bd591abd48ee8161",
            "86e3b8f64c5f4507b2dada8dda14fd8a",
            "db96c0410d334ac58cd74f7c32edfd56",
            "f7d6cd11f30b4de5a10c5eb03b8baa77",
            "c9342b61acf2477fbbd464ac264fbcdc",
            "9fddc139c0484805b74cde23f7a74010",
            "fa9cec2246d1485d9e4a2f44abb89a02",
            "42d17a097dfa4ed5898889676c3c6db7",
            "6840d41d064d4c8ea874c745d250a486",
            "18163307dff94ba188bc47be40363c14",
            "17f697e569324785ac24679e5270031a"
          ]
        },
        "id": "dLxvSwoffd3y",
        "outputId": "9862fcfd-4350-4712-b160-1a07cec77f62"
      },
      "execution_count": null,
      "outputs": [
        {
          "output_type": "stream",
          "name": "stderr",
          "text": [
            "/usr/local/lib/python3.10/dist-packages/huggingface_hub/utils/_auth.py:94: UserWarning: \n",
            "The secret `HF_TOKEN` does not exist in your Colab secrets.\n",
            "To authenticate with the Hugging Face Hub, create a token in your settings tab (https://huggingface.co/settings/tokens), set it as secret in your Google Colab and restart your session.\n",
            "You will be able to reuse this secret in all of your notebooks.\n",
            "Please note that authentication is recommended but still optional to access public models or datasets.\n",
            "  warnings.warn(\n"
          ]
        },
        {
          "output_type": "display_data",
          "data": {
            "text/plain": [
              "vocab.txt:   0%|          | 0.00/232k [00:00<?, ?B/s]"
            ],
            "application/vnd.jupyter.widget-view+json": {
              "version_major": 2,
              "version_minor": 0,
              "model_id": "610ea3c9f5e6429da54174c180d42d7c"
            }
          },
          "metadata": {}
        },
        {
          "output_type": "display_data",
          "data": {
            "text/plain": [
              "config.json:   0%|          | 0.00/383 [00:00<?, ?B/s]"
            ],
            "application/vnd.jupyter.widget-view+json": {
              "version_major": 2,
              "version_minor": 0,
              "model_id": "d63779929f504ff3b95adc07e94742f7"
            }
          },
          "metadata": {}
        },
        {
          "output_type": "display_data",
          "data": {
            "text/plain": [
              "pytorch_model.bin:   0%|          | 0.00/116M [00:00<?, ?B/s]"
            ],
            "application/vnd.jupyter.widget-view+json": {
              "version_major": 2,
              "version_minor": 0,
              "model_id": "d3e10f8bc85c4425bd591abd48ee8161"
            }
          },
          "metadata": {}
        },
        {
          "output_type": "stream",
          "name": "stderr",
          "text": [
            "Some weights of the PyTorch model were not used when initializing the TF 2.0 model TFBertModel: ['cls.predictions.transform.LayerNorm.weight', 'cls.predictions.decoder.bias', 'cls.predictions.transform.LayerNorm.bias', 'cls.predictions.transform.dense.weight', 'cls.seq_relationship.weight', 'cls.predictions.decoder.weight', 'cls.predictions.transform.dense.bias', 'cls.predictions.bias', 'cls.seq_relationship.bias']\n",
            "- This IS expected if you are initializing TFBertModel from a PyTorch model trained on another task or with another architecture (e.g. initializing a TFBertForSequenceClassification model from a BertForPreTraining model).\n",
            "- This IS NOT expected if you are initializing TFBertModel from a PyTorch model that you expect to be exactly identical (e.g. initializing a TFBertForSequenceClassification model from a BertForSequenceClassification model).\n",
            "All the weights of TFBertModel were initialized from the PyTorch model.\n",
            "If your task is similar to the task the model of the checkpoint was trained on, you can already use TFBertModel for predictions without further training.\n"
          ]
        }
      ]
    },
    {
      "cell_type": "code",
      "source": [
        "import tensorflow as tf\n",
        "from tqdm.rich import tqdm\n",
        "tf.__version__"
      ],
      "metadata": {
        "id": "w7kUEUyUBZgb",
        "colab": {
          "base_uri": "https://localhost:8080/",
          "height": 36
        },
        "outputId": "abef200d-1507-47d2-eec7-1f1d94feb21c"
      },
      "execution_count": null,
      "outputs": [
        {
          "output_type": "execute_result",
          "data": {
            "text/plain": [
              "'2.17.1'"
            ],
            "application/vnd.google.colaboratory.intrinsic+json": {
              "type": "string"
            }
          },
          "metadata": {},
          "execution_count": 21
        }
      ]
    },
    {
      "cell_type": "code",
      "source": [
        "def embed_text(text, tokenizer, encoder, max_tokens=64):\n",
        "  \"\"\"Encodes text using BERT and returns the embedding.\n",
        "\n",
        "  Args:\n",
        "    text: The text to encode.\n",
        "    tokenizer: The BERT tokenizer.\n",
        "    encoder: The BERT encoder.\n",
        "    max_tokens: The maximum number of tokens to consider.\n",
        "\n",
        "  Returns:\n",
        "    A NumPy array representing the text embedding.\n",
        "    Returns None if an error occurs during encoding.\n",
        "  \"\"\"\n",
        "  encoded_input = tokenizer.encode_plus(\n",
        "    text,\n",
        "    add_special_tokens=True,\n",
        "    max_length=max_tokens,\n",
        "    padding='max_length',\n",
        "    truncation=True,\n",
        "    return_tensors=\"tf\",\n",
        "    return_attention_mask=True,\n",
        "  )\n",
        "\n",
        "  input_ids = encoded_input[\"input_ids\"]\n",
        "  attention_mask = encoded_input[\"attention_mask\"]\n",
        "\n",
        "  embedding = encoder(input_ids, attention_mask=attention_mask)[0][:, 0, :]\n",
        "  return embedding\n"
      ],
      "metadata": {
        "id": "_ym_LXD62pAc"
      },
      "execution_count": null,
      "outputs": []
    },
    {
      "cell_type": "code",
      "source": [
        "#original text\n",
        "print(train_df.iloc[1]['text'], \"- Label: \", train_df.iloc[1]['target'])\n",
        "#sample of embedding\n",
        "embedding0 = embed_text(train_df.iloc[1]['text'], tokenizer, bert_encoder, max_tokens)\n",
        "print(\"\\nEmbedding representation:\")\n",
        "print(\"dimension:\",embedding0.shape)\n",
        "print(embedding0[0][0:10])"
      ],
      "metadata": {
        "colab": {
          "base_uri": "https://localhost:8080/"
        },
        "id": "5MVihOEyERPP",
        "outputId": "018ee1c5-dcd5-45c6-ca06-ddc88f22f0e8"
      },
      "execution_count": null,
      "outputs": [
        {
          "output_type": "stream",
          "name": "stdout",
          "text": [
            "Forest fire near La Ronge Sask. Canada - Label:  1\n",
            "\n",
            "Embedding representation:\n",
            "dimension: (1, 512)\n",
            "tf.Tensor(\n",
            "[ 0.9074336  -0.23041317  0.18292159  0.13967937  0.95024157 -0.11791632\n",
            "  0.4992225  -1.0760518   0.14648584  1.4460257 ], shape=(10,), dtype=float32)\n"
          ]
        }
      ]
    },
    {
      "cell_type": "code",
      "source": [
        "#create row text embedding\n",
        "train_df['text_embedding'] = None\n",
        "for idx, row in tqdm(train_df.iterrows(), total=train_df.shape[0]):\n",
        "  train_df.at[idx, 'text_embedding'] = embed_text(row['text'], tokenizer, encoder, max_tokens)"
      ],
      "metadata": {
        "colab": {
          "base_uri": "https://localhost:8080/",
          "height": 71,
          "referenced_widgets": [
            "2dc156ae0a1c4d9787fc74a469de3059",
            "250759a7e39d459083723b046119f082"
          ]
        },
        "id": "Bs0WB-R__voZ",
        "outputId": "cbfa9a59-9004-447d-ba86-d7878eef2419"
      },
      "execution_count": null,
      "outputs": [
        {
          "output_type": "display_data",
          "data": {
            "text/plain": [
              "Output()"
            ],
            "application/vnd.jupyter.widget-view+json": {
              "version_major": 2,
              "version_minor": 0,
              "model_id": "2dc156ae0a1c4d9787fc74a469de3059"
            }
          },
          "metadata": {}
        },
        {
          "output_type": "stream",
          "name": "stderr",
          "text": [
            "<ipython-input-19-6af6d6489733>:3: TqdmExperimentalWarning: rich is experimental/alpha\n",
            "  for idx, row in tqdm(train_df.iterrows(), total=train_df.shape[0]):\n"
          ]
        },
        {
          "output_type": "display_data",
          "data": {
            "text/plain": [],
            "text/html": [
              "<pre style=\"white-space:pre;overflow-x:auto;line-height:normal;font-family:Menlo,'DejaVu Sans Mono',consolas,'Courier New',monospace\"></pre>\n"
            ]
          },
          "metadata": {}
        }
      ]
    },
    {
      "cell_type": "code",
      "source": [
        "test_df['text_embedding'] = None\n",
        "for idx, row in tqdm(test_df.iterrows(), total=test_df.shape[0]):\n",
        "  test_df.at[idx, 'text_embedding'] = embed_text(row['text'], tokenizer, encoder, max_tokens)"
      ],
      "metadata": {
        "id": "muX1WNwFBn6n"
      },
      "execution_count": null,
      "outputs": []
    },
    {
      "cell_type": "code",
      "source": [
        "train_df.to_csv('train_df_features.csv', index=False)\n",
        "test_df.to_csv('test_df_features.csv', index=False)"
      ],
      "metadata": {
        "id": "cdV9Mg41HqAt"
      },
      "execution_count": null,
      "outputs": []
    },
    {
      "cell_type": "code",
      "source": [
        "import numpy as np\n",
        "#saving embeddings for use later and skip the previous step of generating enbeddings\n",
        "\n",
        "embeddings = np.array(train_df['text_embedding'].to_list())\n",
        "np.save('train_embeddings.npy', embeddings)\n",
        "\n",
        "embeddings_test = np.array(test_df['text_embedding'].to_list())\n",
        "np.save('test_embeddings.npy', embeddings_test)"
      ],
      "metadata": {
        "id": "blEX1XnQJvTG"
      },
      "execution_count": null,
      "outputs": []
    },
    {
      "cell_type": "code",
      "source": [
        "#Load the embeddings if already saved to a file\n",
        "\n",
        "\n",
        "#Verification\n",
        "train_embeddings = np.load('train_embeddings.npy', allow_pickle=True)\n",
        "#to tf tensor\n",
        "train_embeddings_tf = tf.convert_to_tensor(train_embeddings)\n",
        "del train_embeddings\n",
        "print(train_embeddings_tf.shape)\n",
        "print(train_embeddings_tf[0][0][0:10])\n",
        "\n",
        "\n",
        "\n",
        "#Verification\n",
        "test_embeddings = np.load('test_embeddings.npy', allow_pickle=True)\n",
        "#to tf tensor\n",
        "test_embeddings_tf = tf.convert_to_tensor(test_embeddings)\n",
        "del test_embeddings\n",
        "print(test_embeddings_tf.shape)\n",
        "print(test_embeddings_tf[0][0][0:10])"
      ],
      "metadata": {
        "colab": {
          "base_uri": "https://localhost:8080/"
        },
        "id": "OwXRQSUnI70I",
        "outputId": "ce24fe6d-95f1-4114-f9e4-a19cf639e904"
      },
      "execution_count": null,
      "outputs": [
        {
          "output_type": "stream",
          "name": "stdout",
          "text": [
            "(7613, 1, 512)\n",
            "tf.Tensor(\n",
            "[ 0.042609   -0.552446   -0.39512634 -2.0395823  -1.2966131   1.0808511\n",
            " -0.21634126 -0.05564177  0.23748732  0.26073593], shape=(10,), dtype=float32)\n",
            "(3263, 1, 512)\n",
            "tf.Tensor(\n",
            "[ 0.02875551 -0.4657723   0.95861757 -0.07509625  0.23833399 -1.0057863\n",
            "  1.186554   -0.00167938  0.33177075  1.6366664 ], shape=(10,), dtype=float32)\n"
          ]
        }
      ]
    },
    {
      "cell_type": "code",
      "source": [
        "## Creating and tuning the model"
      ],
      "metadata": {
        "id": "LgnI_x0D4zjn"
      },
      "execution_count": null,
      "outputs": []
    },
    {
      "cell_type": "code",
      "source": [
        "#import layers\n",
        "from tensorflow.keras.layers import Input, Dense, Dropout, LeakyReLU, Flatten, concatenate\n",
        "\n",
        "# Define the layers of classification layer\n",
        "dense_512 = Dense(512)\n",
        "dropout_1 = Dropout(0.2)\n",
        "leaky_relu_1 = LeakyReLU()\n",
        "dense_64_embedding = Dense(64)\n",
        "dropout_2 = Dropout(0.2)\n",
        "leaky_relu_2 = LeakyReLU()\n",
        "flatten_layer = Flatten()\n",
        "\n",
        "dense_64_keyword = Dense(64, activation='relu')\n",
        "dropout_3 = Dropout(0.2)\n",
        "dense_32_keyword = Dense(32, activation='relu')\n",
        "dropout_4 = Dropout(0.2)\n",
        "dense_10_keyword = Dense(10, activation='relu')\n",
        "\n",
        "concatenate_layer = concatenate\n",
        "\n",
        "dense_64_final = Dense(64, activation='relu')\n",
        "dense_1_final = Dense(1, activation='sigmoid')\n",
        "\n",
        "def classification_layer(embedding_input, keyword_input):\n",
        "    embedding_input = Flatten()(embedding_input)\n",
        "    #Process the embeddings using the pre-defined layers\n",
        "    y1 = dense_512(embedding_input)\n",
        "    y1 = dropout_1(y1)\n",
        "    y1 = leaky_relu_1(y1)\n",
        "    y1 = dense_64_embedding(y1)\n",
        "    y1 = dropout_2(y1)\n",
        "    y1 = leaky_relu_2(y1)\n",
        "    y1 = flatten_layer(y1)\n",
        "\n",
        "    # Process the keywords using the pre-defined layers\n",
        "    y2 = dense_64_keyword(keyword_input)\n",
        "    y2 = dropout_3(y2)\n",
        "    y2 = dense_32_keyword(y2)\n",
        "    y2 = dropout_4(y2)\n",
        "    y2 = dense_10_keyword(y2)\n",
        "\n",
        "    # Combine the processed embeddings and keywords\n",
        "    combined = concatenate_layer([y1, y2])\n",
        "\n",
        "    # Add dense layers for classification using pre-defined layers\n",
        "    z = dense_64_final(combined)\n",
        "    classification_output = dense_1_final(z)\n",
        "\n",
        "    return classification_output\n",
        "\n",
        "embedding_input = Input(shape=(512,))\n",
        "keyword_input = Input(shape=(len(uniq_keyword),))\n",
        "\n",
        "classification_output = classification_layer(embedding_input, keyword_input)\n",
        "\n",
        "# Create and compile the model\n",
        "model = tf.keras.Model(inputs=[embedding_input, keyword_input], outputs=classification_output)\n",
        "model.compile(optimizer=tf.keras.optimizers.AdamW(learning_rate=0.001) ,\n",
        "              loss='binary_crossentropy', metrics=['accuracy'])"
      ],
      "metadata": {
        "id": "fhq4rvcu6TxE"
      },
      "execution_count": null,
      "outputs": []
    },
    {
      "cell_type": "code",
      "source": [
        "\n",
        "\n",
        "# Train the model\n",
        "history = model.fit(\n",
        "          [tf.squeeze(train_embeddings_tf, axis=1),  # Squeeze the extra dimension\n",
        "           tf.convert_to_tensor(np.stack(train_df['keyword_onehot'].to_numpy()))],\n",
        "          tf.convert_to_tensor(np.stack(train_df['target'].to_numpy())),\n",
        "          validation_split=0.15,\n",
        "          epochs=10,\n",
        "          batch_size=16)\n",
        "\n",
        "\n"
      ],
      "metadata": {
        "id": "kSDP4D_TKc4n"
      },
      "execution_count": null,
      "outputs": []
    },
    {
      "cell_type": "code",
      "source": [
        "#Fine tuning the model\n",
        "!pip install -q keras-tuner"
      ],
      "metadata": {
        "id": "i8rGkTt5464x",
        "colab": {
          "base_uri": "https://localhost:8080/"
        },
        "outputId": "f4c179db-af79-4f97-ba31-b845c77c6bd2"
      },
      "execution_count": null,
      "outputs": [
        {
          "output_type": "stream",
          "name": "stdout",
          "text": [
            "\u001b[?25l   \u001b[90m━━━━━━━━━━━━━━━━━━━━━━━━━━━━━━━━━━━━━━━━\u001b[0m \u001b[32m0.0/129.1 kB\u001b[0m \u001b[31m?\u001b[0m eta \u001b[36m-:--:--\u001b[0m\r\u001b[2K   \u001b[90m━━━━━━━━━━━━━━━━━━━━━━━━━━━━━━━━━━━━━━━━\u001b[0m \u001b[32m129.1/129.1 kB\u001b[0m \u001b[31m9.1 MB/s\u001b[0m eta \u001b[36m0:00:00\u001b[0m\n",
            "\u001b[?25h"
          ]
        }
      ]
    },
    {
      "cell_type": "code",
      "source": [
        " #unzip /content/input_embedding_model.zip contents tp /contrnt/my_dir\n",
        " !unzip /content/drive/MyDrive/input_embedding_model.zip"
      ],
      "metadata": {
        "id": "DPykkDCB73_O"
      },
      "execution_count": null,
      "outputs": []
    },
    {
      "cell_type": "markdown",
      "source": [
        "Based on previous model we create tuning parameters to search for the best hyperparameters that increase the model performance"
      ],
      "metadata": {
        "id": "x0XxWE8L5FMp"
      }
    },
    {
      "cell_type": "code",
      "source": [
        "import keras_tuner as kt\n",
        "\n",
        "def build_model(hp):\n",
        "  # Define the hyperparameter search space\n",
        "  hp_units_1_emb = hp.Int('units_1', min_value=256, max_value=1024, step=256)\n",
        "  hp_dropout_1_emb = hp.Float('dropout_1', min_value=0.1, max_value=0.5, step=0.1)\n",
        "  hp_units_2_emb = hp.Int('units_2', min_value=32, max_value=256, step=32)\n",
        "  hp_dropout_2_emb = hp.Float('dropout_2', min_value=0.1, max_value=0.5, step=0.1)\n",
        "\n",
        "\n",
        "  dense_1_emb = Dense(hp_units_1_emb)\n",
        "  dropout_1_emb = Dropout(hp_dropout_1_emb)\n",
        "  leaky_relu_1_emb = LeakyReLU()\n",
        "  dense_2_emb = Dense(hp_units_2_emb)\n",
        "  dropout_2_emb = Dropout(hp_dropout_2_emb)\n",
        "  leaky_relu_2_emb = LeakyReLU()\n",
        "  flatten_layer_emb = Flatten()\n",
        "\n",
        "  hp_units_1_keyword = hp.Int('units_3', min_value=256, max_value=1024, step=256)\n",
        "  hp_dropout_1_keyword = hp.Float('dropout_3', min_value=0.1, max_value=0.5, step=0.1)\n",
        "  hp_units_2_keyword = hp.Int('units_4', min_value=32, max_value=256, step=32)\n",
        "  hp_dropout_2_keyword = hp.Float('dropout_4', min_value=0.1, max_value=0.5, step=0.1)\n",
        "  hp_units_3_keyword = hp.Int('units_5', min_value=16, max_value=256, step=32)\n",
        "\n",
        "  dense_1_keyword = Dense(hp_units_1_keyword)\n",
        "  dropout_1_keyword = Dropout(hp_dropout_1_keyword)\n",
        "  leaky_relu_1_keyword = LeakyReLU()\n",
        "  dense_2_keyword = Dense(hp_units_2_keyword)\n",
        "  dropout_2_keyword = Dropout(hp_dropout_2_keyword)\n",
        "  leaky_relu_2_keyword = LeakyReLU()\n",
        "  dense_3_keyword = Dense(hp_units_3_keyword)\n",
        "\n",
        "  dense_32_final = Dense(32, activation='relu')\n",
        "  dense_1_final = Dense(1, activation='sigmoid')\n",
        "\n",
        "  hp_learning_rate = hp.Choice('learning_rate', values=[1e-2, 1e-3, 1e-4])\n",
        "\n",
        "  def classification_layer(embedding_input, keyword_input):\n",
        "    embedding_input = Flatten()(embedding_input)\n",
        "    #Process the embeddings using the pre-defined layers\n",
        "    y1 = dense_1_emb(embedding_input)\n",
        "    y1 = dropout_1_emb(y1)\n",
        "    y1 = leaky_relu_1_emb(y1)\n",
        "    y1 = dense_2_emb(y1)\n",
        "    y1 = dropout_2_emb(y1)\n",
        "    y1 = leaky_relu_2_emb(y1)\n",
        "    y1 = flatten_layer_emb(y1)\n",
        "\n",
        "    #process keyword input\n",
        "    y2 = dense_1_keyword(keyword_input)\n",
        "    y2 = dropout_1_keyword(y2)\n",
        "    y2 = leaky_relu_1_keyword(y2)\n",
        "    y2 = dense_2_keyword(y2)\n",
        "    y2 = dropout_2_keyword(y2)\n",
        "    y2 = leaky_relu_2_keyword(y2)\n",
        "    y2 = dense_3_keyword(y2)\n",
        "\n",
        "    combined = concatenate([y1, y2])\n",
        "\n",
        "    z = dense_32_final(combined)\n",
        "    classification_output = dense_1_final(z)\n",
        "\n",
        "    return classification_output\n",
        "\n",
        "\n",
        "  embedding_input = Input(shape=(512,))\n",
        "  keyword_input = Input(shape=(len(uniq_keyword),))\n",
        "  classification_output = classification_layer(embedding_input, keyword_input)\n",
        "  model = tf.keras.Model(inputs=[embedding_input, keyword_input], outputs=classification_output)\n",
        "  model.compile(optimizer=tf.keras.optimizers.AdamW(learning_rate=hp_learning_rate),\n",
        "                loss='binary_crossentropy', metrics=['accuracy'])\n",
        "  return model\n",
        "\n",
        "tuner = kt.Hyperband(\n",
        "    build_model,\n",
        "    objective='val_accuracy',\n",
        "    max_epochs=50,\n",
        "    factor=3,\n",
        "    directory='./',\n",
        "    project_name='input_embedding_model'\n",
        ")\n",
        "\n"
      ],
      "metadata": {
        "colab": {
          "base_uri": "https://localhost:8080/"
        },
        "id": "yin4h05N5yHw",
        "outputId": "3d345afc-1d5a-40b8-c91b-d9ca151c6d1e"
      },
      "execution_count": null,
      "outputs": [
        {
          "output_type": "stream",
          "name": "stdout",
          "text": [
            "Reloading Tuner from ./input_embedding_model/tuner0.json\n"
          ]
        }
      ]
    },
    {
      "cell_type": "code",
      "source": [
        "callback = tf.keras.callbacks.EarlyStopping(monitor='val_loss', patience=3)\n",
        "\n",
        "tuner.search(\n",
        "    [tf.squeeze(train_embeddings_tf, axis=1), tf.convert_to_tensor(np.stack(train_df['keyword_onehot'].to_numpy()))],\n",
        "    tf.convert_to_tensor(np.stack(train_df['target'].to_numpy())),\n",
        "    validation_split=0.10,\n",
        "    epochs=10,\n",
        "    batch_size=16,\n",
        "    callbacks=[callback]\n",
        ")\n",
        "\n",
        "best_hps = tuner.get_best_hyperparameters(num_trials=1)[0]\n",
        "print(f\"Best hyperparameters: {best_hps.values}\")"
      ],
      "metadata": {
        "id": "7dJqPb1E0w6F"
      },
      "execution_count": null,
      "outputs": []
    },
    {
      "cell_type": "code",
      "source": [
        "# Now we get the best model from the tuning step\n",
        "best_hps = tuner.get_best_hyperparameters(num_trials=1)[0]\n",
        "best_classifier_model = tuner.hypermodel.build(best_hps)\n",
        "train_keywords = tf.convert_to_tensor(np.stack(train_df['keyword_onehot'].to_numpy()))"
      ],
      "metadata": {
        "id": "Oz3BCSjB6pLz"
      },
      "execution_count": null,
      "outputs": []
    },
    {
      "cell_type": "code",
      "source": [
        "\n",
        "#Retrain the best model on the full dataset without validation split\n",
        "history = best_classifier_model.fit(\n",
        "    [tf.squeeze(train_embeddings_tf, axis=1),\n",
        "     train_keywords],\n",
        "    tf.convert_to_tensor(np.stack(train_df['target'].to_numpy())),\n",
        "    epochs=5,\n",
        "    batch_size=16,\n",
        "    shuffle=True\n",
        ")\n"
      ],
      "metadata": {
        "colab": {
          "base_uri": "https://localhost:8080/"
        },
        "id": "oFayKCi7HGtn",
        "outputId": "53d140a1-4a65-4a52-e90e-4169b5d28b1e"
      },
      "execution_count": null,
      "outputs": [
        {
          "output_type": "stream",
          "name": "stdout",
          "text": [
            "Epoch 1/5\n",
            "476/476 [==============================] - 3s 2ms/step - loss: 0.5676 - accuracy: 0.7127\n",
            "Epoch 2/5\n",
            "476/476 [==============================] - 1s 2ms/step - loss: 0.4817 - accuracy: 0.7823\n",
            "Epoch 3/5\n",
            "476/476 [==============================] - 1s 2ms/step - loss: 0.4506 - accuracy: 0.7984\n",
            "Epoch 4/5\n",
            "476/476 [==============================] - 1s 2ms/step - loss: 0.4185 - accuracy: 0.8132\n",
            "Epoch 5/5\n",
            "476/476 [==============================] - 1s 2ms/step - loss: 0.4058 - accuracy: 0.8235\n"
          ]
        }
      ]
    },
    {
      "cell_type": "code",
      "source": [
        "import matplotlib.pyplot as plt\n",
        "\n",
        "# Plot training & validation accuracy values\n",
        "plt.figure(figsize=(10, 5))\n",
        "plt.plot(history.history['accuracy'])\n",
        "plt.plot(history.history['val_accuracy'])\n",
        "plt.title('Model accuracy')\n",
        "plt.ylabel('Accuracy')\n",
        "plt.xlabel('Epoch')\n",
        "plt.legend(['Train', 'Validation'], loc='upper left')\n",
        "plt.show()\n",
        "\n",
        "# Plot training & validation loss values\n",
        "plt.figure(figsize=(10, 5))\n",
        "plt.plot(history.history['loss'])\n",
        "plt.plot(history.history['val_loss'])\n",
        "plt.title('Model loss')\n",
        "plt.ylabel('Loss')\n",
        "plt.xlabel('Epoch')\n",
        "plt.legend(['Train', 'Validation'], loc='upper left')\n",
        "plt.show()"
      ],
      "metadata": {
        "colab": {
          "base_uri": "https://localhost:8080/",
          "height": 957
        },
        "id": "yPC74Wb0JcSB",
        "outputId": "85bfb3cc-4f5c-410a-b494-11beeea00296"
      },
      "execution_count": null,
      "outputs": [
        {
          "output_type": "display_data",
          "data": {
            "text/plain": [
              "<Figure size 1000x500 with 1 Axes>"
            ],
            "image/png": "[encoded data removed]"
          },
          "metadata": {}
        },
        {
          "output_type": "display_data",
          "data": {
            "text/plain": [
              "<Figure size 1000x500 with 1 Axes>"
            ],
            "image/png": "[encoded data removed]"
          },
          "metadata": {}
        }
      ]
    },
    {
      "cell_type": "code",
      "source": [
        "# Example prediction (replace with actual test data)\n",
        "test_embeddings = np.load('test_embeddings.npy', allow_pickle=True)\n",
        "test_keywords = np.array(test_df['keyword_onehot'].to_list())\n",
        "test_embeddings_tf = tf.convert_to_tensor(test_embeddings)  # Convert to tensor\n",
        "test_embeddings_tf = tf.squeeze(test_embeddings_tf, axis=1) # Remove extra dimension\n",
        "\n",
        "predictions = best_model.predict([test_embeddings_tf, test_keywords])"
      ],
      "metadata": {
        "colab": {
          "base_uri": "https://localhost:8080/"
        },
        "id": "Y28YujOGNEAc",
        "outputId": "c30be1f6-bf92-448f-d0fe-5f2eeaa14087"
      },
      "execution_count": null,
      "outputs": [
        {
          "output_type": "stream",
          "name": "stdout",
          "text": [
            "\u001b[1m102/102\u001b[0m \u001b[32m━━━━━━━━━━━━━━━━━━━━\u001b[0m\u001b[37m\u001b[0m \u001b[1m1s\u001b[0m 3ms/step\n"
          ]
        }
      ]
    },
    {
      "cell_type": "code",
      "source": [
        "# Create a DataFrame with 'id' and 'target' columns\n",
        "submission_df = pd.DataFrame({'id': test_df['id'], 'target': np.round(predictions).astype(int).flatten()})\n",
        "\n",
        "# Save the DataFrame to a CSV file\n",
        "submission_df.to_csv('submission_disaster.csv', index=False)"
      ],
      "metadata": {
        "id": "sVZINlqziYv8"
      },
      "execution_count": null,
      "outputs": []
    },
    {
      "cell_type": "code",
      "source": [
        "# tokenizer = BertTokenizer.from_pretrained(\"google/bert_uncased_L-4_H-512_A-8\")\n",
        "# train_df['tokenized_text'] = train_df['text'].apply(lambda x: tokenizer.encode_plus(x, add_special_tokens=True,\n",
        "#                                                                                     max_length=max_tokens, padding='max_length',\n",
        "#                                                                                     truncation=True,return_tensors=\"tf\",\n",
        "#                                                                                     return_attention_mask=True))"
      ],
      "metadata": {
        "id": "bkiV_w3vO1VX"
      },
      "execution_count": null,
      "outputs": []
    },
    {
      "cell_type": "code",
      "source": [
        "# train_df['input_ids'] = train_df['tokenized_text'].apply(lambda x: x['input_ids'].numpy().squeeze(axis=0))  # Squeeze the extra dimension\n",
        "# train_df['attention_mask'] = train_df['tokenized_text'].apply(lambda x: x['attention_mask'].numpy().squeeze(axis=0)) # Squeeze the extra dimension\n",
        "\n",
        "\n",
        "\n",
        "# input_ids = tf.convert_to_tensor(np.stack(train_df['input_ids'].to_numpy()))\n",
        "# attention_mask = tf.convert_to_tensor(np.stack(train_df['attention_mask'].to_numpy()))\n"
      ],
      "metadata": {
        "id": "zdWXKr6ZQwGx"
      },
      "execution_count": null,
      "outputs": []
    },
    {
      "cell_type": "code",
      "source": [
        "# train_target = tf.convert_to_tensor(np.stack(train_df['target'].to_numpy()))\n",
        "# train_keywords = tf.convert_to_tensor(np.stack(train_df['keyword_onehot'].to_numpy()))"
      ],
      "metadata": {
        "id": "ULBlteygHu52"
      },
      "execution_count": null,
      "outputs": []
    },
    {
      "cell_type": "markdown",
      "source": [
        "## Fine tunning BERT\n",
        "In this part we are going to use the previous classifier and fine tune the BERT model to achieve better results\n",
        "\n"
      ],
      "metadata": {
        "id": "CkNs11u763c-"
      }
    },
    {
      "cell_type": "code",
      "source": [
        "# A dependency of the preprocessing for BERT inputs\n",
        "!pip install -U \"tensorflow-text==2.13.*\"\n",
        "!pip install \"tf-models-official==2.13.*\""
      ],
      "metadata": {
        "colab": {
          "base_uri": "https://localhost:8080/"
        },
        "id": "lZU73PEVD6j8",
        "outputId": "be967e04-3a7d-45ac-afc0-07f861495782"
      },
      "execution_count": null,
      "outputs": [
        {
          "output_type": "stream",
          "name": "stdout",
          "text": [
            "Requirement already satisfied: tensorflow-text==2.13.* in /usr/local/lib/python3.10/dist-packages (2.13.0)\n",
            "Requirement already satisfied: tensorflow-hub>=0.8.0 in /usr/local/lib/python3.10/dist-packages (from tensorflow-text==2.13.*) (0.16.1)\n",
            "Requirement already satisfied: tensorflow<2.14,>=2.13.0 in /usr/local/lib/python3.10/dist-packages (from tensorflow-text==2.13.*) (2.13.1)\n",
            "Requirement already satisfied: absl-py>=1.0.0 in /usr/local/lib/python3.10/dist-packages (from tensorflow<2.14,>=2.13.0->tensorflow-text==2.13.*) (1.4.0)\n",
            "Requirement already satisfied: astunparse>=1.6.0 in /usr/local/lib/python3.10/dist-packages (from tensorflow<2.14,>=2.13.0->tensorflow-text==2.13.*) (1.6.3)\n",
            "Requirement already satisfied: flatbuffers>=23.1.21 in /usr/local/lib/python3.10/dist-packages (from tensorflow<2.14,>=2.13.0->tensorflow-text==2.13.*) (24.3.25)\n",
            "Requirement already satisfied: gast<=0.4.0,>=0.2.1 in /usr/local/lib/python3.10/dist-packages (from tensorflow<2.14,>=2.13.0->tensorflow-text==2.13.*) (0.4.0)\n",
            "Requirement already satisfied: google-pasta>=0.1.1 in /usr/local/lib/python3.10/dist-packages (from tensorflow<2.14,>=2.13.0->tensorflow-text==2.13.*) (0.2.0)\n",
            "Requirement already satisfied: grpcio<2.0,>=1.24.3 in /usr/local/lib/python3.10/dist-packages (from tensorflow<2.14,>=2.13.0->tensorflow-text==2.13.*) (1.68.0)\n",
            "Requirement already satisfied: h5py>=2.9.0 in /usr/local/lib/python3.10/dist-packages (from tensorflow<2.14,>=2.13.0->tensorflow-text==2.13.*) (3.12.1)\n",
            "Requirement already satisfied: keras<2.14,>=2.13.1 in /usr/local/lib/python3.10/dist-packages (from tensorflow<2.14,>=2.13.0->tensorflow-text==2.13.*) (2.13.1)\n",
            "Requirement already satisfied: libclang>=13.0.0 in /usr/local/lib/python3.10/dist-packages (from tensorflow<2.14,>=2.13.0->tensorflow-text==2.13.*) (18.1.1)\n",
            "Requirement already satisfied: numpy<=1.24.3,>=1.22 in /usr/local/lib/python3.10/dist-packages (from tensorflow<2.14,>=2.13.0->tensorflow-text==2.13.*) (1.24.3)\n",
            "Requirement already satisfied: opt-einsum>=2.3.2 in /usr/local/lib/python3.10/dist-packages (from tensorflow<2.14,>=2.13.0->tensorflow-text==2.13.*) (3.4.0)\n",
            "Requirement already satisfied: packaging in /usr/local/lib/python3.10/dist-packages (from tensorflow<2.14,>=2.13.0->tensorflow-text==2.13.*) (24.2)\n",
            "Requirement already satisfied: protobuf!=4.21.0,!=4.21.1,!=4.21.2,!=4.21.3,!=4.21.4,!=4.21.5,<5.0.0dev,>=3.20.3 in /usr/local/lib/python3.10/dist-packages (from tensorflow<2.14,>=2.13.0->tensorflow-text==2.13.*) (4.25.5)\n",
            "Requirement already satisfied: setuptools in /usr/local/lib/python3.10/dist-packages (from tensorflow<2.14,>=2.13.0->tensorflow-text==2.13.*) (75.1.0)\n",
            "Requirement already satisfied: six>=1.12.0 in /usr/local/lib/python3.10/dist-packages (from tensorflow<2.14,>=2.13.0->tensorflow-text==2.13.*) (1.16.0)\n",
            "Requirement already satisfied: tensorboard<2.14,>=2.13 in /usr/local/lib/python3.10/dist-packages (from tensorflow<2.14,>=2.13.0->tensorflow-text==2.13.*) (2.13.0)\n",
            "Requirement already satisfied: tensorflow-estimator<2.14,>=2.13.0 in /usr/local/lib/python3.10/dist-packages (from tensorflow<2.14,>=2.13.0->tensorflow-text==2.13.*) (2.13.0)\n",
            "Requirement already satisfied: termcolor>=1.1.0 in /usr/local/lib/python3.10/dist-packages (from tensorflow<2.14,>=2.13.0->tensorflow-text==2.13.*) (2.5.0)\n",
            "Requirement already satisfied: typing-extensions<4.6.0,>=3.6.6 in /usr/local/lib/python3.10/dist-packages (from tensorflow<2.14,>=2.13.0->tensorflow-text==2.13.*) (4.5.0)\n",
            "Requirement already satisfied: wrapt>=1.11.0 in /usr/local/lib/python3.10/dist-packages (from tensorflow<2.14,>=2.13.0->tensorflow-text==2.13.*) (1.16.0)\n",
            "Requirement already satisfied: tensorflow-io-gcs-filesystem>=0.23.1 in /usr/local/lib/python3.10/dist-packages (from tensorflow<2.14,>=2.13.0->tensorflow-text==2.13.*) (0.37.1)\n",
            "Requirement already satisfied: tf-keras>=2.14.1 in /usr/local/lib/python3.10/dist-packages (from tensorflow-hub>=0.8.0->tensorflow-text==2.13.*) (2.15.0)\n",
            "Requirement already satisfied: wheel<1.0,>=0.23.0 in /usr/local/lib/python3.10/dist-packages (from astunparse>=1.6.0->tensorflow<2.14,>=2.13.0->tensorflow-text==2.13.*) (0.45.0)\n",
            "Requirement already satisfied: google-auth<3,>=1.6.3 in /usr/local/lib/python3.10/dist-packages (from tensorboard<2.14,>=2.13->tensorflow<2.14,>=2.13.0->tensorflow-text==2.13.*) (2.27.0)\n",
            "Requirement already satisfied: google-auth-oauthlib<1.1,>=0.5 in /usr/local/lib/python3.10/dist-packages (from tensorboard<2.14,>=2.13->tensorflow<2.14,>=2.13.0->tensorflow-text==2.13.*) (1.0.0)\n",
            "Requirement already satisfied: markdown>=2.6.8 in /usr/local/lib/python3.10/dist-packages (from tensorboard<2.14,>=2.13->tensorflow<2.14,>=2.13.0->tensorflow-text==2.13.*) (3.7)\n",
            "Requirement already satisfied: requests<3,>=2.21.0 in /usr/local/lib/python3.10/dist-packages (from tensorboard<2.14,>=2.13->tensorflow<2.14,>=2.13.0->tensorflow-text==2.13.*) (2.32.3)\n",
            "Requirement already satisfied: tensorboard-data-server<0.8.0,>=0.7.0 in /usr/local/lib/python3.10/dist-packages (from tensorboard<2.14,>=2.13->tensorflow<2.14,>=2.13.0->tensorflow-text==2.13.*) (0.7.2)\n",
            "Requirement already satisfied: werkzeug>=1.0.1 in /usr/local/lib/python3.10/dist-packages (from tensorboard<2.14,>=2.13->tensorflow<2.14,>=2.13.0->tensorflow-text==2.13.*) (3.1.3)\n",
            "Requirement already satisfied: cachetools<6.0,>=2.0.0 in /usr/local/lib/python3.10/dist-packages (from google-auth<3,>=1.6.3->tensorboard<2.14,>=2.13->tensorflow<2.14,>=2.13.0->tensorflow-text==2.13.*) (5.5.0)\n",
            "Requirement already satisfied: pyasn1-modules>=0.2.1 in /usr/local/lib/python3.10/dist-packages (from google-auth<3,>=1.6.3->tensorboard<2.14,>=2.13->tensorflow<2.14,>=2.13.0->tensorflow-text==2.13.*) (0.4.1)\n",
            "Requirement already satisfied: rsa<5,>=3.1.4 in /usr/local/lib/python3.10/dist-packages (from google-auth<3,>=1.6.3->tensorboard<2.14,>=2.13->tensorflow<2.14,>=2.13.0->tensorflow-text==2.13.*) (4.9)\n",
            "Requirement already satisfied: requests-oauthlib>=0.7.0 in /usr/local/lib/python3.10/dist-packages (from google-auth-oauthlib<1.1,>=0.5->tensorboard<2.14,>=2.13->tensorflow<2.14,>=2.13.0->tensorflow-text==2.13.*) (1.3.1)\n",
            "Requirement already satisfied: charset-normalizer<4,>=2 in /usr/local/lib/python3.10/dist-packages (from requests<3,>=2.21.0->tensorboard<2.14,>=2.13->tensorflow<2.14,>=2.13.0->tensorflow-text==2.13.*) (3.4.0)\n",
            "Requirement already satisfied: idna<4,>=2.5 in /usr/local/lib/python3.10/dist-packages (from requests<3,>=2.21.0->tensorboard<2.14,>=2.13->tensorflow<2.14,>=2.13.0->tensorflow-text==2.13.*) (3.10)\n",
            "Requirement already satisfied: urllib3<3,>=1.21.1 in /usr/local/lib/python3.10/dist-packages (from requests<3,>=2.21.0->tensorboard<2.14,>=2.13->tensorflow<2.14,>=2.13.0->tensorflow-text==2.13.*) (2.2.3)\n",
            "Requirement already satisfied: certifi>=2017.4.17 in /usr/local/lib/python3.10/dist-packages (from requests<3,>=2.21.0->tensorboard<2.14,>=2.13->tensorflow<2.14,>=2.13.0->tensorflow-text==2.13.*) (2024.8.30)\n",
            "Requirement already satisfied: MarkupSafe>=2.1.1 in /usr/local/lib/python3.10/dist-packages (from werkzeug>=1.0.1->tensorboard<2.14,>=2.13->tensorflow<2.14,>=2.13.0->tensorflow-text==2.13.*) (3.0.2)\n",
            "Requirement already satisfied: pyasn1<0.7.0,>=0.4.6 in /usr/local/lib/python3.10/dist-packages (from pyasn1-modules>=0.2.1->google-auth<3,>=1.6.3->tensorboard<2.14,>=2.13->tensorflow<2.14,>=2.13.0->tensorflow-text==2.13.*) (0.6.1)\n",
            "Requirement already satisfied: oauthlib>=3.0.0 in /usr/local/lib/python3.10/dist-packages (from requests-oauthlib>=0.7.0->google-auth-oauthlib<1.1,>=0.5->tensorboard<2.14,>=2.13->tensorflow<2.14,>=2.13.0->tensorflow-text==2.13.*) (3.2.2)\n",
            "Collecting tf-models-official==2.13.*\n",
            "  Using cached tf_models_official-2.13.2-py2.py3-none-any.whl.metadata (1.4 kB)\n",
            "Requirement already satisfied: Cython in /usr/local/lib/python3.10/dist-packages (from tf-models-official==2.13.*) (3.0.11)\n",
            "Requirement already satisfied: Pillow in /usr/local/lib/python3.10/dist-packages (from tf-models-official==2.13.*) (11.0.0)\n",
            "Requirement already satisfied: gin-config in /usr/local/lib/python3.10/dist-packages (from tf-models-official==2.13.*) (0.5.0)\n",
            "Requirement already satisfied: google-api-python-client>=1.6.7 in /usr/local/lib/python3.10/dist-packages (from tf-models-official==2.13.*) (2.151.0)\n",
            "Requirement already satisfied: immutabledict in /usr/local/lib/python3.10/dist-packages (from tf-models-official==2.13.*) (4.2.1)\n",
            "Requirement already satisfied: kaggle>=1.3.9 in /usr/local/lib/python3.10/dist-packages (from tf-models-official==2.13.*) (1.6.17)\n",
            "Requirement already satisfied: matplotlib in /usr/local/lib/python3.10/dist-packages (from tf-models-official==2.13.*) (3.8.0)\n",
            "Requirement already satisfied: numpy>=1.20 in /usr/local/lib/python3.10/dist-packages (from tf-models-official==2.13.*) (1.24.3)\n",
            "Requirement already satisfied: oauth2client in /usr/local/lib/python3.10/dist-packages (from tf-models-official==2.13.*) (4.1.3)\n",
            "Requirement already satisfied: opencv-python-headless in /usr/local/lib/python3.10/dist-packages (from tf-models-official==2.13.*) (4.10.0.84)\n",
            "Requirement already satisfied: pandas>=0.22.0 in /usr/local/lib/python3.10/dist-packages (from tf-models-official==2.13.*) (2.2.2)\n",
            "Requirement already satisfied: psutil>=5.4.3 in /usr/local/lib/python3.10/dist-packages (from tf-models-official==2.13.*) (5.9.5)\n",
            "Requirement already satisfied: py-cpuinfo>=3.3.0 in /usr/local/lib/python3.10/dist-packages (from tf-models-official==2.13.*) (9.0.0)\n",
            "Requirement already satisfied: pycocotools in /usr/local/lib/python3.10/dist-packages (from tf-models-official==2.13.*) (2.0.8)\n",
            "Requirement already satisfied: pyyaml>=6.0.0 in /usr/local/lib/python3.10/dist-packages (from tf-models-official==2.13.*) (6.0.2)\n",
            "Collecting sacrebleu (from tf-models-official==2.13.*)\n",
            "  Using cached sacrebleu-2.4.3-py3-none-any.whl.metadata (51 kB)\n",
            "Requirement already satisfied: scipy>=0.19.1 in /usr/local/lib/python3.10/dist-packages (from tf-models-official==2.13.*) (1.13.1)\n",
            "Requirement already satisfied: sentencepiece in /usr/local/lib/python3.10/dist-packages (from tf-models-official==2.13.*) (0.2.0)\n",
            "Collecting seqeval (from tf-models-official==2.13.*)\n",
            "  Using cached seqeval-1.2.2.tar.gz (43 kB)\n",
            "  Preparing metadata (setup.py) ... \u001b[?25l\u001b[?25hdone\n",
            "Requirement already satisfied: six in /usr/local/lib/python3.10/dist-packages (from tf-models-official==2.13.*) (1.16.0)\n",
            "Requirement already satisfied: tensorflow-datasets in /usr/local/lib/python3.10/dist-packages (from tf-models-official==2.13.*) (4.9.7)\n",
            "Requirement already satisfied: tensorflow-hub>=0.6.0 in /usr/local/lib/python3.10/dist-packages (from tf-models-official==2.13.*) (0.16.1)\n",
            "Collecting tensorflow-model-optimization>=0.4.1 (from tf-models-official==2.13.*)\n",
            "  Using cached tensorflow_model_optimization-0.8.0-py2.py3-none-any.whl.metadata (904 bytes)\n",
            "Requirement already satisfied: tensorflow-text~=2.13.0 in /usr/local/lib/python3.10/dist-packages (from tf-models-official==2.13.*) (2.13.0)\n",
            "Requirement already satisfied: tensorflow~=2.13.0 in /usr/local/lib/python3.10/dist-packages (from tf-models-official==2.13.*) (2.13.1)\n",
            "Requirement already satisfied: tf-slim>=1.1.0 in /usr/local/lib/python3.10/dist-packages (from tf-models-official==2.13.*) (1.1.0)\n",
            "Requirement already satisfied: httplib2<1.dev0,>=0.19.0 in /usr/local/lib/python3.10/dist-packages (from google-api-python-client>=1.6.7->tf-models-official==2.13.*) (0.22.0)\n",
            "Requirement already satisfied: google-auth!=2.24.0,!=2.25.0,<3.0.0.dev0,>=1.32.0 in /usr/local/lib/python3.10/dist-packages (from google-api-python-client>=1.6.7->tf-models-official==2.13.*) (2.27.0)\n",
            "Requirement already satisfied: google-auth-httplib2<1.0.0,>=0.2.0 in /usr/local/lib/python3.10/dist-packages (from google-api-python-client>=1.6.7->tf-models-official==2.13.*) (0.2.0)\n",
            "Requirement already satisfied: google-api-core!=2.0.*,!=2.1.*,!=2.2.*,!=2.3.0,<3.0.0.dev0,>=1.31.5 in /usr/local/lib/python3.10/dist-packages (from google-api-python-client>=1.6.7->tf-models-official==2.13.*) (2.19.2)\n",
            "Requirement already satisfied: uritemplate<5,>=3.0.1 in /usr/local/lib/python3.10/dist-packages (from google-api-python-client>=1.6.7->tf-models-official==2.13.*) (4.1.1)\n",
            "Requirement already satisfied: certifi>=2023.7.22 in /usr/local/lib/python3.10/dist-packages (from kaggle>=1.3.9->tf-models-official==2.13.*) (2024.8.30)\n",
            "Requirement already satisfied: python-dateutil in /usr/local/lib/python3.10/dist-packages (from kaggle>=1.3.9->tf-models-official==2.13.*) (2.8.2)\n",
            "Requirement already satisfied: requests in /usr/local/lib/python3.10/dist-packages (from kaggle>=1.3.9->tf-models-official==2.13.*) (2.32.3)\n",
            "Requirement already satisfied: tqdm in /usr/local/lib/python3.10/dist-packages (from kaggle>=1.3.9->tf-models-official==2.13.*) (4.66.6)\n",
            "Requirement already satisfied: python-slugify in /usr/local/lib/python3.10/dist-packages (from kaggle>=1.3.9->tf-models-official==2.13.*) (8.0.4)\n",
            "Requirement already satisfied: urllib3 in /usr/local/lib/python3.10/dist-packages (from kaggle>=1.3.9->tf-models-official==2.13.*) (2.2.3)\n",
            "Requirement already satisfied: bleach in /usr/local/lib/python3.10/dist-packages (from kaggle>=1.3.9->tf-models-official==2.13.*) (6.2.0)\n",
            "Requirement already satisfied: pytz>=2020.1 in /usr/local/lib/python3.10/dist-packages (from pandas>=0.22.0->tf-models-official==2.13.*) (2024.2)\n",
            "Requirement already satisfied: tzdata>=2022.7 in /usr/local/lib/python3.10/dist-packages (from pandas>=0.22.0->tf-models-official==2.13.*) (2024.2)\n",
            "Requirement already satisfied: absl-py>=1.0.0 in /usr/local/lib/python3.10/dist-packages (from tensorflow~=2.13.0->tf-models-official==2.13.*) (1.4.0)\n",
            "Requirement already satisfied: astunparse>=1.6.0 in /usr/local/lib/python3.10/dist-packages (from tensorflow~=2.13.0->tf-models-official==2.13.*) (1.6.3)\n",
            "Requirement already satisfied: flatbuffers>=23.1.21 in /usr/local/lib/python3.10/dist-packages (from tensorflow~=2.13.0->tf-models-official==2.13.*) (24.3.25)\n",
            "Requirement already satisfied: gast<=0.4.0,>=0.2.1 in /usr/local/lib/python3.10/dist-packages (from tensorflow~=2.13.0->tf-models-official==2.13.*) (0.4.0)\n",
            "Requirement already satisfied: google-pasta>=0.1.1 in /usr/local/lib/python3.10/dist-packages (from tensorflow~=2.13.0->tf-models-official==2.13.*) (0.2.0)\n",
            "Requirement already satisfied: grpcio<2.0,>=1.24.3 in /usr/local/lib/python3.10/dist-packages (from tensorflow~=2.13.0->tf-models-official==2.13.*) (1.68.0)\n",
            "Requirement already satisfied: h5py>=2.9.0 in /usr/local/lib/python3.10/dist-packages (from tensorflow~=2.13.0->tf-models-official==2.13.*) (3.12.1)\n",
            "Requirement already satisfied: keras<2.14,>=2.13.1 in /usr/local/lib/python3.10/dist-packages (from tensorflow~=2.13.0->tf-models-official==2.13.*) (2.13.1)\n",
            "Requirement already satisfied: libclang>=13.0.0 in /usr/local/lib/python3.10/dist-packages (from tensorflow~=2.13.0->tf-models-official==2.13.*) (18.1.1)\n",
            "Requirement already satisfied: opt-einsum>=2.3.2 in /usr/local/lib/python3.10/dist-packages (from tensorflow~=2.13.0->tf-models-official==2.13.*) (3.4.0)\n",
            "Requirement already satisfied: packaging in /usr/local/lib/python3.10/dist-packages (from tensorflow~=2.13.0->tf-models-official==2.13.*) (24.2)\n",
            "Requirement already satisfied: protobuf!=4.21.0,!=4.21.1,!=4.21.2,!=4.21.3,!=4.21.4,!=4.21.5,<5.0.0dev,>=3.20.3 in /usr/local/lib/python3.10/dist-packages (from tensorflow~=2.13.0->tf-models-official==2.13.*) (4.25.5)\n",
            "Requirement already satisfied: setuptools in /usr/local/lib/python3.10/dist-packages (from tensorflow~=2.13.0->tf-models-official==2.13.*) (75.1.0)\n",
            "Requirement already satisfied: tensorboard<2.14,>=2.13 in /usr/local/lib/python3.10/dist-packages (from tensorflow~=2.13.0->tf-models-official==2.13.*) (2.13.0)\n",
            "Requirement already satisfied: tensorflow-estimator<2.14,>=2.13.0 in /usr/local/lib/python3.10/dist-packages (from tensorflow~=2.13.0->tf-models-official==2.13.*) (2.13.0)\n",
            "Requirement already satisfied: termcolor>=1.1.0 in /usr/local/lib/python3.10/dist-packages (from tensorflow~=2.13.0->tf-models-official==2.13.*) (2.5.0)\n",
            "Requirement already satisfied: typing-extensions<4.6.0,>=3.6.6 in /usr/local/lib/python3.10/dist-packages (from tensorflow~=2.13.0->tf-models-official==2.13.*) (4.5.0)\n",
            "Requirement already satisfied: wrapt>=1.11.0 in /usr/local/lib/python3.10/dist-packages (from tensorflow~=2.13.0->tf-models-official==2.13.*) (1.16.0)\n",
            "Requirement already satisfied: tensorflow-io-gcs-filesystem>=0.23.1 in /usr/local/lib/python3.10/dist-packages (from tensorflow~=2.13.0->tf-models-official==2.13.*) (0.37.1)\n",
            "Requirement already satisfied: tf-keras>=2.14.1 in /usr/local/lib/python3.10/dist-packages (from tensorflow-hub>=0.6.0->tf-models-official==2.13.*) (2.15.0)\n",
            "Requirement already satisfied: dm-tree~=0.1.1 in /usr/local/lib/python3.10/dist-packages (from tensorflow-model-optimization>=0.4.1->tf-models-official==2.13.*) (0.1.8)\n",
            "Requirement already satisfied: contourpy>=1.0.1 in /usr/local/lib/python3.10/dist-packages (from matplotlib->tf-models-official==2.13.*) (1.3.1)\n",
            "Requirement already satisfied: cycler>=0.10 in /usr/local/lib/python3.10/dist-packages (from matplotlib->tf-models-official==2.13.*) (0.12.1)\n",
            "Requirement already satisfied: fonttools>=4.22.0 in /usr/local/lib/python3.10/dist-packages (from matplotlib->tf-models-official==2.13.*) (4.55.0)\n",
            "Requirement already satisfied: kiwisolver>=1.0.1 in /usr/local/lib/python3.10/dist-packages (from matplotlib->tf-models-official==2.13.*) (1.4.7)\n",
            "Requirement already satisfied: pyparsing>=2.3.1 in /usr/local/lib/python3.10/dist-packages (from matplotlib->tf-models-official==2.13.*) (3.2.0)\n",
            "Requirement already satisfied: pyasn1>=0.1.7 in /usr/local/lib/python3.10/dist-packages (from oauth2client->tf-models-official==2.13.*) (0.6.1)\n",
            "Requirement already satisfied: pyasn1-modules>=0.0.5 in /usr/local/lib/python3.10/dist-packages (from oauth2client->tf-models-official==2.13.*) (0.4.1)\n",
            "Requirement already satisfied: rsa>=3.1.4 in /usr/local/lib/python3.10/dist-packages (from oauth2client->tf-models-official==2.13.*) (4.9)\n",
            "Collecting portalocker (from sacrebleu->tf-models-official==2.13.*)\n",
            "  Using cached portalocker-3.0.0-py3-none-any.whl.metadata (8.5 kB)\n",
            "Requirement already satisfied: regex in /usr/local/lib/python3.10/dist-packages (from sacrebleu->tf-models-official==2.13.*) (2024.9.11)\n",
            "Requirement already satisfied: tabulate>=0.8.9 in /usr/local/lib/python3.10/dist-packages (from sacrebleu->tf-models-official==2.13.*) (0.9.0)\n",
            "Collecting colorama (from sacrebleu->tf-models-official==2.13.*)\n",
            "  Using cached colorama-0.4.6-py2.py3-none-any.whl.metadata (17 kB)\n",
            "Requirement already satisfied: lxml in /usr/local/lib/python3.10/dist-packages (from sacrebleu->tf-models-official==2.13.*) (5.3.0)\n",
            "Requirement already satisfied: scikit-learn>=0.21.3 in /usr/local/lib/python3.10/dist-packages (from seqeval->tf-models-official==2.13.*) (1.5.2)\n",
            "Requirement already satisfied: click in /usr/local/lib/python3.10/dist-packages (from tensorflow-datasets->tf-models-official==2.13.*) (8.1.7)\n",
            "Requirement already satisfied: promise in /usr/local/lib/python3.10/dist-packages (from tensorflow-datasets->tf-models-official==2.13.*) (2.3)\n",
            "Requirement already satisfied: pyarrow in /usr/local/lib/python3.10/dist-packages (from tensorflow-datasets->tf-models-official==2.13.*) (17.0.0)\n",
            "Requirement already satisfied: simple-parsing in /usr/local/lib/python3.10/dist-packages (from tensorflow-datasets->tf-models-official==2.13.*) (0.1.6)\n",
            "Requirement already satisfied: tensorflow-metadata in /usr/local/lib/python3.10/dist-packages (from tensorflow-datasets->tf-models-official==2.13.*) (1.13.1)\n",
            "Requirement already satisfied: toml in /usr/local/lib/python3.10/dist-packages (from tensorflow-datasets->tf-models-official==2.13.*) (0.10.2)\n",
            "Requirement already satisfied: array-record>=0.5.0 in /usr/local/lib/python3.10/dist-packages (from tensorflow-datasets->tf-models-official==2.13.*) (0.5.1)\n",
            "Requirement already satisfied: etils>=1.6.0 in /usr/local/lib/python3.10/dist-packages (from etils[edc,enp,epath,epy,etree]>=1.6.0; python_version < \"3.11\"->tensorflow-datasets->tf-models-official==2.13.*) (1.10.0)\n",
            "Requirement already satisfied: wheel<1.0,>=0.23.0 in /usr/local/lib/python3.10/dist-packages (from astunparse>=1.6.0->tensorflow~=2.13.0->tf-models-official==2.13.*) (0.45.0)\n",
            "Requirement already satisfied: fsspec in /usr/local/lib/python3.10/dist-packages (from etils[edc,enp,epath,epy,etree]>=1.6.0; python_version < \"3.11\"->tensorflow-datasets->tf-models-official==2.13.*) (2024.10.0)\n",
            "Requirement already satisfied: importlib_resources in /usr/local/lib/python3.10/dist-packages (from etils[edc,enp,epath,epy,etree]>=1.6.0; python_version < \"3.11\"->tensorflow-datasets->tf-models-official==2.13.*) (6.4.5)\n",
            "Requirement already satisfied: zipp in /usr/local/lib/python3.10/dist-packages (from etils[edc,enp,epath,epy,etree]>=1.6.0; python_version < \"3.11\"->tensorflow-datasets->tf-models-official==2.13.*) (3.21.0)\n",
            "Requirement already satisfied: googleapis-common-protos<2.0.dev0,>=1.56.2 in /usr/local/lib/python3.10/dist-packages (from google-api-core!=2.0.*,!=2.1.*,!=2.2.*,!=2.3.0,<3.0.0.dev0,>=1.31.5->google-api-python-client>=1.6.7->tf-models-official==2.13.*) (1.66.0)\n",
            "Requirement already satisfied: proto-plus<2.0.0dev,>=1.22.3 in /usr/local/lib/python3.10/dist-packages (from google-api-core!=2.0.*,!=2.1.*,!=2.2.*,!=2.3.0,<3.0.0.dev0,>=1.31.5->google-api-python-client>=1.6.7->tf-models-official==2.13.*) (1.25.0)\n",
            "Requirement already satisfied: cachetools<6.0,>=2.0.0 in /usr/local/lib/python3.10/dist-packages (from google-auth!=2.24.0,!=2.25.0,<3.0.0.dev0,>=1.32.0->google-api-python-client>=1.6.7->tf-models-official==2.13.*) (5.5.0)\n",
            "Requirement already satisfied: charset-normalizer<4,>=2 in /usr/local/lib/python3.10/dist-packages (from requests->kaggle>=1.3.9->tf-models-official==2.13.*) (3.4.0)\n",
            "Requirement already satisfied: idna<4,>=2.5 in /usr/local/lib/python3.10/dist-packages (from requests->kaggle>=1.3.9->tf-models-official==2.13.*) (3.10)\n",
            "Requirement already satisfied: joblib>=1.2.0 in /usr/local/lib/python3.10/dist-packages (from scikit-learn>=0.21.3->seqeval->tf-models-official==2.13.*) (1.4.2)\n",
            "Requirement already satisfied: threadpoolctl>=3.1.0 in /usr/local/lib/python3.10/dist-packages (from scikit-learn>=0.21.3->seqeval->tf-models-official==2.13.*) (3.5.0)\n",
            "Requirement already satisfied: google-auth-oauthlib<1.1,>=0.5 in /usr/local/lib/python3.10/dist-packages (from tensorboard<2.14,>=2.13->tensorflow~=2.13.0->tf-models-official==2.13.*) (1.0.0)\n",
            "Requirement already satisfied: markdown>=2.6.8 in /usr/local/lib/python3.10/dist-packages (from tensorboard<2.14,>=2.13->tensorflow~=2.13.0->tf-models-official==2.13.*) (3.7)\n",
            "Requirement already satisfied: tensorboard-data-server<0.8.0,>=0.7.0 in /usr/local/lib/python3.10/dist-packages (from tensorboard<2.14,>=2.13->tensorflow~=2.13.0->tf-models-official==2.13.*) (0.7.2)\n",
            "Requirement already satisfied: werkzeug>=1.0.1 in /usr/local/lib/python3.10/dist-packages (from tensorboard<2.14,>=2.13->tensorflow~=2.13.0->tf-models-official==2.13.*) (3.1.3)\n",
            "Requirement already satisfied: webencodings in /usr/local/lib/python3.10/dist-packages (from bleach->kaggle>=1.3.9->tf-models-official==2.13.*) (0.5.1)\n",
            "Requirement already satisfied: text-unidecode>=1.3 in /usr/local/lib/python3.10/dist-packages (from python-slugify->kaggle>=1.3.9->tf-models-official==2.13.*) (1.3)\n",
            "Requirement already satisfied: docstring-parser<1.0,>=0.15 in /usr/local/lib/python3.10/dist-packages (from simple-parsing->tensorflow-datasets->tf-models-official==2.13.*) (0.16)\n",
            "Requirement already satisfied: requests-oauthlib>=0.7.0 in /usr/local/lib/python3.10/dist-packages (from google-auth-oauthlib<1.1,>=0.5->tensorboard<2.14,>=2.13->tensorflow~=2.13.0->tf-models-official==2.13.*) (1.3.1)\n",
            "Requirement already satisfied: MarkupSafe>=2.1.1 in /usr/local/lib/python3.10/dist-packages (from werkzeug>=1.0.1->tensorboard<2.14,>=2.13->tensorflow~=2.13.0->tf-models-official==2.13.*) (3.0.2)\n",
            "Requirement already satisfied: oauthlib>=3.0.0 in /usr/local/lib/python3.10/dist-packages (from requests-oauthlib>=0.7.0->google-auth-oauthlib<1.1,>=0.5->tensorboard<2.14,>=2.13->tensorflow~=2.13.0->tf-models-official==2.13.*) (3.2.2)\n",
            "Using cached tf_models_official-2.13.2-py2.py3-none-any.whl (2.6 MB)\n",
            "Using cached tensorflow_model_optimization-0.8.0-py2.py3-none-any.whl (242 kB)\n",
            "Downloading sacrebleu-2.4.3-py3-none-any.whl (103 kB)\n",
            "\u001b[2K   \u001b[90m━━━━━━━━━━━━━━━━━━━━━━━━━━━━━━━━━━━━━━━━\u001b[0m \u001b[32m104.0/104.0 kB\u001b[0m \u001b[31m9.7 MB/s\u001b[0m eta \u001b[36m0:00:00\u001b[0m\n",
            "\u001b[?25hDownloading colorama-0.4.6-py2.py3-none-any.whl (25 kB)\n",
            "Downloading portalocker-3.0.0-py3-none-any.whl (19 kB)\n",
            "Building wheels for collected packages: seqeval\n",
            "  Building wheel for seqeval (setup.py) ... \u001b[?25l\u001b[?25hdone\n",
            "  Created wheel for seqeval: filename=seqeval-1.2.2-py3-none-any.whl size=16161 sha256=8c876611df54db67d916c9ab7e84184f2275b38b0af280415589b61d86058f5d\n",
            "  Stored in directory: /root/.cache/pip/wheels/1a/67/4a/ad4082dd7dfc30f2abfe4d80a2ed5926a506eb8a972b4767fa\n",
            "Successfully built seqeval\n",
            "Installing collected packages: tensorflow-model-optimization, portalocker, colorama, sacrebleu, seqeval, tf-models-official\n",
            "Successfully installed colorama-0.4.6 portalocker-3.0.0 sacrebleu-2.4.3 seqeval-1.2.2 tensorflow-model-optimization-0.8.0 tf-models-official-2.13.2\n"
          ]
        }
      ]
    },
    {
      "cell_type": "code",
      "source": [
        "import os\n",
        "import shutil\n",
        "\n",
        "import tensorflow as tf\n",
        "import tensorflow_hub as hub\n",
        "import tensorflow_text as text\n",
        "from official.nlp import optimization\n",
        "\n",
        "import numpy as np\n",
        "import matplotlib.pyplot as plt\n",
        "\n"
      ],
      "metadata": {
        "id": "VZmXHKOgTreq"
      },
      "execution_count": null,
      "outputs": []
    },
    {
      "cell_type": "code",
      "source": [
        "tfhub_handle_encoder = 'https://tfhub.dev/tensorflow/small_bert/bert_en_uncased_L-4_H-512_A-8/1'\n",
        "tfhub_handle_preprocess = 'https://tfhub.dev/tensorflow/bert_en_uncased_preprocess/3'"
      ],
      "metadata": {
        "id": "eHzlSg3wVXtF"
      },
      "execution_count": null,
      "outputs": []
    },
    {
      "cell_type": "code",
      "source": [
        "def make_bert_preprocess_model(sentence_features, seq_length=64):\n",
        "  \"\"\"Returns Model mapping string features to BERT inputs.\n",
        "\n",
        "  Args:\n",
        "    sentence_features: a list with the names of string-valued features.\n",
        "    seq_length: an integer that defines the sequence length of BERT inputs.\n",
        "\n",
        "  Returns:\n",
        "    A Keras Model that can be called on a list or dict of string Tensors\n",
        "    (with the order or names, resp., given by sentence_features) and\n",
        "    returns a dict of tensors for input to BERT.\n",
        "  \"\"\"\n",
        "\n",
        "  input_segments = [\n",
        "      tf.keras.layers.Input(shape=(), dtype=tf.string, name=ft)\n",
        "      for ft in sentence_features]\n",
        "\n",
        "  # Tokenize the text to word pieces.\n",
        "  bert_preprocess = hub.load(tfhub_handle_preprocess)\n",
        "  tokenizer = hub.KerasLayer(bert_preprocess.tokenize, name='tokenizer')\n",
        "  segments = [tokenizer(s) for s in input_segments]\n",
        "\n",
        "\n",
        "  # Pack inputs. The details (start/end token ids, dict of output tensors)\n",
        "  # are model-dependent, so this gets loaded from the SavedModel.\n",
        "  packer = hub.KerasLayer(bert_preprocess.bert_pack_inputs,\n",
        "                          arguments=dict(seq_length=seq_length),\n",
        "                          name='packer')\n",
        "  model_inputs = packer(segments)\n",
        "  return tf.keras.Model(input_segments, model_inputs)"
      ],
      "metadata": {
        "id": "1graHR1uXJbt"
      },
      "execution_count": null,
      "outputs": []
    },
    {
      "cell_type": "code",
      "source": [
        "text_preprocess_model = make_bert_preprocess_model(['input_preprocessed_text'])\n",
        "test_text = [np.array(['some random test sentence'])]\n",
        "text_preprocessed = text_preprocess_model(test_text)\n",
        "\n",
        "print('Keys           : ', list(text_preprocessed.keys()))\n",
        "print('Shape Word Ids : ', text_preprocessed['input_word_ids'].shape)\n",
        "print('Word Ids       : ', text_preprocessed['input_word_ids'][0, :16])\n",
        "print('Shape Mask     : ', text_preprocessed['input_mask'].shape)\n",
        "print('Input Mask     : ', text_preprocessed['input_mask'][0, :16])\n",
        "print('Shape Type Ids : ', text_preprocessed['input_type_ids'].shape)\n",
        "print('Type Ids       : ', text_preprocessed['input_type_ids'][0, :16])"
      ],
      "metadata": {
        "colab": {
          "base_uri": "https://localhost:8080/"
        },
        "id": "Iscip9DZfeJk",
        "outputId": "4796eb1c-8f68-4954-f1c7-748e7c04d2fb"
      },
      "execution_count": null,
      "outputs": [
        {
          "output_type": "stream",
          "name": "stdout",
          "text": [
            "Keys           :  ['input_type_ids', 'input_mask', 'input_word_ids']\n",
            "Shape Word Ids :  (1, 64)\n",
            "Word Ids       :  tf.Tensor(\n",
            "[ 101 2070 6721 3231 6251  102    0    0    0    0    0    0    0    0\n",
            "    0    0], shape=(16,), dtype=int32)\n",
            "Shape Mask     :  (1, 64)\n",
            "Input Mask     :  tf.Tensor([1 1 1 1 1 1 0 0 0 0 0 0 0 0 0 0], shape=(16,), dtype=int32)\n",
            "Shape Type Ids :  (1, 64)\n",
            "Type Ids       :  tf.Tensor([0 0 0 0 0 0 0 0 0 0 0 0 0 0 0 0], shape=(16,), dtype=int32)\n"
          ]
        }
      ]
    },
    {
      "cell_type": "code",
      "source": [
        "tf.keras.utils.plot_model(text_preprocess_model, show_shapes=True, show_dtype=True)"
      ],
      "metadata": {
        "colab": {
          "base_uri": "https://localhost:8080/",
          "height": 404
        },
        "id": "ivBWasVhiqjQ",
        "outputId": "1e50ceb5-104e-4e19-be6f-ef65e3973082"
      },
      "execution_count": null,
      "outputs": [
        {
          "output_type": "execute_result",
          "data": {
            "image/png": "[encoded data removed]",
            "text/plain": [
              "<IPython.core.display.Image object>"
            ]
          },
          "metadata": {},
          "execution_count": 34
        }
      ]
    },
    {
      "cell_type": "code",
      "source": [
        "bert_model = hub.KerasLayer(tfhub_handle_encoder, trainable=True)\n",
        "bert_results = bert_model(text_preprocessed)\n",
        "\n",
        "print(f'Loaded BERT: {tfhub_handle_encoder}')\n",
        "print(f'Pooled Outputs Shape:{bert_results[\"pooled_output\"].shape}')\n",
        "print(f'Pooled Outputs Values:{bert_results[\"pooled_output\"][0, :12]}')\n",
        "print(f'Sequence Outputs Shape:{bert_results[\"sequence_output\"].shape}')\n",
        "print(f'Sequence Outputs Values:{bert_results[\"sequence_output\"][0, :12]}')"
      ],
      "metadata": {
        "colab": {
          "base_uri": "https://localhost:8080/"
        },
        "id": "H5RxERLRZ-IH",
        "outputId": "e89f792c-0961-4bbe-e0fc-568531bca64b"
      },
      "execution_count": null,
      "outputs": [
        {
          "output_type": "stream",
          "name": "stdout",
          "text": [
            "Loaded BERT: https://tfhub.dev/tensorflow/small_bert/bert_en_uncased_L-4_H-512_A-8/1\n",
            "Pooled Outputs Shape:(1, 512)\n",
            "Pooled Outputs Values:[ 0.9918165   0.7630664  -0.2187894   0.27431926 -0.40091383  0.78194207\n",
            "  0.99362737 -0.99301076 -0.61936057 -0.95493037 -0.4580887  -0.9885139 ]\n",
            "Sequence Outputs Shape:(1, 64, 512)\n",
            "Sequence Outputs Values:[[-2.9771143e-01  6.4548798e-02  3.0547163e-02 ... -7.8205311e-01\n",
            "   1.0129344e+00  1.2293499e+00]\n",
            " [-9.3373477e-01  1.1666274e+00 -1.3923870e-01 ... -4.6837592e-01\n",
            "  -2.2441384e-01  9.0059048e-01]\n",
            " [-1.3425958e+00  6.9638526e-01  6.5501511e-02 ... -7.0271611e-01\n",
            "   4.0931273e-01  1.7403001e+00]\n",
            " ...\n",
            " [-3.0333886e-01  3.5508168e-01 -2.4021789e-01 ... -9.6186757e-02\n",
            "   1.1297441e+00  5.9780836e-01]\n",
            " [ 4.0511250e-02  2.0318532e-01 -4.2578954e-01 ...  6.5222360e-02\n",
            "   1.2060835e+00  5.7669806e-01]\n",
            " [-4.0159339e-01  2.1089827e-01 -9.2172042e-02 ...  1.2062639e-03\n",
            "   8.7390256e-01  6.1164039e-01]]\n"
          ]
        }
      ]
    },
    {
      "cell_type": "code",
      "source": [
        "\n",
        "#This model is a composition of the bert model for processing the input text and\n",
        "#the previous generated classifier\n",
        "\n",
        "def build_binary_classifier_with_bert(encoder, classifier_model):\n",
        "    class BinaryTextClassifier(tf.keras.Model):\n",
        "        def __init__(self, encoder, classifier_model):\n",
        "            super(BinaryTextClassifier, self).__init__()\n",
        "            self.encoder = encoder\n",
        "            self.classifier_model = classifier_model\n",
        "\n",
        "        def call(self, inputs):\n",
        "            preprocessed_text, keyword_input = inputs\n",
        "            encoder_outputs = self.encoder(preprocessed_text)\n",
        "            pooled_output = encoder_outputs[\"pooled_output\"]\n",
        "\n",
        "            # Get batch size dynamically from pooled_output\n",
        "            batch_size = tf.shape(pooled_output)[0]\n",
        "            # Reshape keyword_input to (batch_size, 222)\n",
        "            keyword_input = tf.reshape(keyword_input, (batch_size, 222))\n",
        "\n",
        "            x = self.classifier_model([pooled_output, keyword_input])\n",
        "            return x\n",
        "\n",
        "\n",
        "    return BinaryTextClassifier(encoder, best_classifier_model)"
      ],
      "metadata": {
        "id": "zmp7rfQOaFxH"
      },
      "execution_count": null,
      "outputs": []
    },
    {
      "cell_type": "code",
      "source": [
        "test_row = train_df.iloc[1]\n",
        "text_preprocessed = text_preprocess_model([np.array([test_row['text']]).T])\n",
        "keyword_input = test_row['keyword_onehot']\n",
        "\n",
        "bert_classifier_model = build_binary_classifier_with_bert(bert_model, best_classifier_model)\n",
        "\n",
        "#Here we freeze the classifier model to only train the BERT model\n",
        "bert_classifier_model.classifier_model.trainable = False\n",
        "\n",
        "raw_result = bert_classifier_model([text_preprocessed, keyword_input])\n",
        "print(\"Shape of the output tensor:\", raw_result.shape)\n",
        "raw_result\n"
      ],
      "metadata": {
        "colab": {
          "base_uri": "https://localhost:8080/"
        },
        "id": "Img_hWD5rv4P",
        "outputId": "d58437e0-cad7-4a29-f075-16b8619605a4"
      },
      "execution_count": null,
      "outputs": [
        {
          "output_type": "stream",
          "name": "stdout",
          "text": [
            "Shape of the output tensor: (1, 1)\n"
          ]
        },
        {
          "output_type": "execute_result",
          "data": {
            "text/plain": [
              "<tf.Tensor: shape=(1, 1), dtype=float32, numpy=array([[0.49377778]], dtype=float32)>"
            ]
          },
          "metadata": {},
          "execution_count": 45
        }
      ]
    },
    {
      "cell_type": "code",
      "source": [
        "bert_classifier_model.summary()"
      ],
      "metadata": {
        "colab": {
          "base_uri": "https://localhost:8080/"
        },
        "id": "NcawEk71zkNO",
        "outputId": "64fc5afd-d363-4e01-ef87-63ef4c1ad78f"
      },
      "execution_count": null,
      "outputs": [
        {
          "output_type": "stream",
          "name": "stdout",
          "text": [
            "Model: \"binary_text_classifier_2\"\n",
            "_________________________________________________________________\n",
            " Layer (type)                Output Shape              Param #   \n",
            "=================================================================\n",
            " keras_layer_1 (KerasLayer)  multiple                  28763649  \n",
            "                                                                 \n",
            " model_4 (Functional)        (None, 1)                 243057    \n",
            "                                                                 \n",
            "=================================================================\n",
            "Total params: 29006706 (110.65 MB)\n",
            "Trainable params: 28763648 (109.72 MB)\n",
            "Non-trainable params: 243058 (949.44 KB)\n",
            "_________________________________________________________________\n"
          ]
        }
      ]
    },
    {
      "cell_type": "code",
      "source": [
        "bert_classifier_model.compile(optimizer=tf.keras.optimizers.AdamW(learning_rate=5e-5),\n",
        "                              loss='binary_crossentropy', metrics=['accuracy'])\n",
        "\n"
      ],
      "metadata": {
        "id": "a-peDGDfscTq"
      },
      "execution_count": null,
      "outputs": []
    },
    {
      "cell_type": "code",
      "source": [
        "preprocessed_corpus = text_preprocess_model(train_df['text'])\n",
        "train_keywords = tf.convert_to_tensor(np.stack(train_df['keyword_onehot'].to_numpy()))\n",
        "train_target = tf.convert_to_tensor(np.stack(train_df['target'].to_numpy()))\n",
        "\n",
        "bert_classifier_model.predict([preprocessed_corpus, train_keywords])"
      ],
      "metadata": {
        "id": "NpzDnkW_zVvU",
        "colab": {
          "base_uri": "https://localhost:8080/",
          "height": 185
        },
        "outputId": "0bceabe0-70bd-475d-c6df-9b5ab66856d0"
      },
      "execution_count": null,
      "outputs": [
        {
          "output_type": "error",
          "ename": "NameError",
          "evalue": "name 'bert_classifier_model' is not defined",
          "traceback": [
            "\u001b[0;31m---------------------------------------------------------------------------\u001b[0m",
            "\u001b[0;31mNameError\u001b[0m                                 Traceback (most recent call last)",
            "\u001b[0;32m<ipython-input-40-27c1bb47e1f3>\u001b[0m in \u001b[0;36m<cell line: 5>\u001b[0;34m()\u001b[0m\n\u001b[1;32m      3\u001b[0m \u001b[0mtrain_target\u001b[0m \u001b[0;34m=\u001b[0m \u001b[0mtf\u001b[0m\u001b[0;34m.\u001b[0m\u001b[0mconvert_to_tensor\u001b[0m\u001b[0;34m(\u001b[0m\u001b[0mnp\u001b[0m\u001b[0;34m.\u001b[0m\u001b[0mstack\u001b[0m\u001b[0;34m(\u001b[0m\u001b[0mtrain_df\u001b[0m\u001b[0;34m[\u001b[0m\u001b[0;34m'target'\u001b[0m\u001b[0;34m]\u001b[0m\u001b[0;34m.\u001b[0m\u001b[0mto_numpy\u001b[0m\u001b[0;34m(\u001b[0m\u001b[0;34m)\u001b[0m\u001b[0;34m)\u001b[0m\u001b[0;34m)\u001b[0m\u001b[0;34m\u001b[0m\u001b[0;34m\u001b[0m\u001b[0m\n\u001b[1;32m      4\u001b[0m \u001b[0;34m\u001b[0m\u001b[0m\n\u001b[0;32m----> 5\u001b[0;31m \u001b[0mbert_classifier_model\u001b[0m\u001b[0;34m.\u001b[0m\u001b[0mpredict\u001b[0m\u001b[0;34m(\u001b[0m\u001b[0;34m[\u001b[0m\u001b[0mpreprocessed_corpus\u001b[0m\u001b[0;34m,\u001b[0m \u001b[0mtrain_keywords\u001b[0m\u001b[0;34m]\u001b[0m\u001b[0;34m)\u001b[0m\u001b[0;34m\u001b[0m\u001b[0;34m\u001b[0m\u001b[0m\n\u001b[0m",
            "\u001b[0;31mNameError\u001b[0m: name 'bert_classifier_model' is not defined"
          ]
        }
      ]
    },
    {
      "cell_type": "code",
      "source": [
        "bert_classifier_model.fit([preprocessed_corpus, train_keywords], train_target, epochs=5, batch_size=16)"
      ],
      "metadata": {
        "id": "4pb27b5S3z3H"
      },
      "execution_count": null,
      "outputs": []
    },
    {
      "cell_type": "code",
      "source": [
        "# prompt: use keras tuner to create checkpoints. dont need to search hyperparameters\n",
        "\n",
        "import tensorflow as tf\n",
        "\n",
        "checkpoint_filepath = '/content/drive/MyDrive/checkpoint_bert_class'\n",
        "model_checkpoint_callback = tf.keras.callbacks.ModelCheckpoint(\n",
        "    filepath=checkpoint_filepath,\n",
        "    save_weights_only=True,\n",
        "    monitor='val_accuracy',\n",
        "    mode='max',\n",
        "    save_best_only=True)\n",
        "tf.debugging.set_log_device_placement(True)\n",
        "\n",
        "history = bert_classifier_model.fit(\n",
        "    [preprocessed_corpus, train_keywords],\n",
        "    train_target,\n",
        "    epochs=5,\n",
        "    batch_size=16,\n",
        "    validation_split=0.15,\n",
        "    callbacks=[model_checkpoint_callback],\n",
        "    shuffle=True)"
      ],
      "metadata": {
        "colab": {
          "base_uri": "https://localhost:8080/",
          "height": 522
        },
        "id": "UOuJvkb24yIx",
        "outputId": "bec41fbc-84e4-4cf5-ed14-6aa48629a571"
      },
      "execution_count": null,
      "outputs": [
        {
          "output_type": "stream",
          "name": "stdout",
          "text": [
            "Epoch 1/5\n",
            "405/405 [==============================] - 136s 327ms/step - loss: 0.4509 - accuracy: 0.7954 - val_loss: 0.3948 - val_accuracy: 0.8380\n",
            "Epoch 2/5\n",
            "405/405 [==============================] - 130s 321ms/step - loss: 0.3633 - accuracy: 0.8493 - val_loss: 0.3902 - val_accuracy: 0.8231\n",
            "Epoch 3/5\n",
            "405/405 [==============================] - 129s 320ms/step - loss: 0.2940 - accuracy: 0.8855 - val_loss: 0.5131 - val_accuracy: 0.8012\n",
            "Epoch 4/5\n",
            "373/405 [==========================>...] - ETA: 9s - loss: 0.2034 - accuracy: 0.9224 "
          ]
        },
        {
          "output_type": "error",
          "ename": "KeyboardInterrupt",
          "evalue": "",
          "traceback": [
            "\u001b[0;31m---------------------------------------------------------------------------\u001b[0m",
            "\u001b[0;31mKeyboardInterrupt\u001b[0m                         Traceback (most recent call last)",
            "\u001b[0;32m<ipython-input-42-ab096c258bf8>\u001b[0m in \u001b[0;36m<cell line: 14>\u001b[0;34m()\u001b[0m\n\u001b[1;32m     12\u001b[0m \u001b[0mtf\u001b[0m\u001b[0;34m.\u001b[0m\u001b[0mdebugging\u001b[0m\u001b[0;34m.\u001b[0m\u001b[0mset_log_device_placement\u001b[0m\u001b[0;34m(\u001b[0m\u001b[0;32mTrue\u001b[0m\u001b[0;34m)\u001b[0m\u001b[0;34m\u001b[0m\u001b[0;34m\u001b[0m\u001b[0m\n\u001b[1;32m     13\u001b[0m \u001b[0;34m\u001b[0m\u001b[0m\n\u001b[0;32m---> 14\u001b[0;31m history = bert_classifier_model.fit(\n\u001b[0m\u001b[1;32m     15\u001b[0m     \u001b[0;34m[\u001b[0m\u001b[0mpreprocessed_corpus\u001b[0m\u001b[0;34m,\u001b[0m \u001b[0mtrain_keywords\u001b[0m\u001b[0;34m]\u001b[0m\u001b[0;34m,\u001b[0m\u001b[0;34m\u001b[0m\u001b[0;34m\u001b[0m\u001b[0m\n\u001b[1;32m     16\u001b[0m     \u001b[0mtrain_target\u001b[0m\u001b[0;34m,\u001b[0m\u001b[0;34m\u001b[0m\u001b[0;34m\u001b[0m\u001b[0m\n",
            "\u001b[0;32m/usr/local/lib/python3.10/dist-packages/keras/src/utils/traceback_utils.py\u001b[0m in \u001b[0;36merror_handler\u001b[0;34m(*args, **kwargs)\u001b[0m\n\u001b[1;32m     63\u001b[0m         \u001b[0mfiltered_tb\u001b[0m \u001b[0;34m=\u001b[0m \u001b[0;32mNone\u001b[0m\u001b[0;34m\u001b[0m\u001b[0;34m\u001b[0m\u001b[0m\n\u001b[1;32m     64\u001b[0m         \u001b[0;32mtry\u001b[0m\u001b[0;34m:\u001b[0m\u001b[0;34m\u001b[0m\u001b[0;34m\u001b[0m\u001b[0m\n\u001b[0;32m---> 65\u001b[0;31m             \u001b[0;32mreturn\u001b[0m \u001b[0mfn\u001b[0m\u001b[0;34m(\u001b[0m\u001b[0;34m*\u001b[0m\u001b[0margs\u001b[0m\u001b[0;34m,\u001b[0m \u001b[0;34m**\u001b[0m\u001b[0mkwargs\u001b[0m\u001b[0;34m)\u001b[0m\u001b[0;34m\u001b[0m\u001b[0;34m\u001b[0m\u001b[0m\n\u001b[0m\u001b[1;32m     66\u001b[0m         \u001b[0;32mexcept\u001b[0m \u001b[0mException\u001b[0m \u001b[0;32mas\u001b[0m \u001b[0me\u001b[0m\u001b[0;34m:\u001b[0m\u001b[0;34m\u001b[0m\u001b[0;34m\u001b[0m\u001b[0m\n\u001b[1;32m     67\u001b[0m             \u001b[0mfiltered_tb\u001b[0m \u001b[0;34m=\u001b[0m \u001b[0m_process_traceback_frames\u001b[0m\u001b[0;34m(\u001b[0m\u001b[0me\u001b[0m\u001b[0;34m.\u001b[0m\u001b[0m__traceback__\u001b[0m\u001b[0;34m)\u001b[0m\u001b[0;34m\u001b[0m\u001b[0;34m\u001b[0m\u001b[0m\n",
            "\u001b[0;32m/usr/local/lib/python3.10/dist-packages/keras/src/engine/training.py\u001b[0m in \u001b[0;36mfit\u001b[0;34m(self, x, y, batch_size, epochs, verbose, callbacks, validation_split, validation_data, shuffle, class_weight, sample_weight, initial_epoch, steps_per_epoch, validation_steps, validation_batch_size, validation_freq, max_queue_size, workers, use_multiprocessing)\u001b[0m\n\u001b[1;32m   1740\u001b[0m                         ):\n\u001b[1;32m   1741\u001b[0m                             \u001b[0mcallbacks\u001b[0m\u001b[0;34m.\u001b[0m\u001b[0mon_train_batch_begin\u001b[0m\u001b[0;34m(\u001b[0m\u001b[0mstep\u001b[0m\u001b[0;34m)\u001b[0m\u001b[0;34m\u001b[0m\u001b[0;34m\u001b[0m\u001b[0m\n\u001b[0;32m-> 1742\u001b[0;31m                             \u001b[0mtmp_logs\u001b[0m \u001b[0;34m=\u001b[0m \u001b[0mself\u001b[0m\u001b[0;34m.\u001b[0m\u001b[0mtrain_function\u001b[0m\u001b[0;34m(\u001b[0m\u001b[0miterator\u001b[0m\u001b[0;34m)\u001b[0m\u001b[0;34m\u001b[0m\u001b[0;34m\u001b[0m\u001b[0m\n\u001b[0m\u001b[1;32m   1743\u001b[0m                             \u001b[0;32mif\u001b[0m \u001b[0mdata_handler\u001b[0m\u001b[0;34m.\u001b[0m\u001b[0mshould_sync\u001b[0m\u001b[0;34m:\u001b[0m\u001b[0;34m\u001b[0m\u001b[0;34m\u001b[0m\u001b[0m\n\u001b[1;32m   1744\u001b[0m                                 \u001b[0mcontext\u001b[0m\u001b[0;34m.\u001b[0m\u001b[0masync_wait\u001b[0m\u001b[0;34m(\u001b[0m\u001b[0;34m)\u001b[0m\u001b[0;34m\u001b[0m\u001b[0;34m\u001b[0m\u001b[0m\n",
            "\u001b[0;32m/usr/local/lib/python3.10/dist-packages/tensorflow/python/util/traceback_utils.py\u001b[0m in \u001b[0;36merror_handler\u001b[0;34m(*args, **kwargs)\u001b[0m\n\u001b[1;32m    148\u001b[0m     \u001b[0mfiltered_tb\u001b[0m \u001b[0;34m=\u001b[0m \u001b[0;32mNone\u001b[0m\u001b[0;34m\u001b[0m\u001b[0;34m\u001b[0m\u001b[0m\n\u001b[1;32m    149\u001b[0m     \u001b[0;32mtry\u001b[0m\u001b[0;34m:\u001b[0m\u001b[0;34m\u001b[0m\u001b[0;34m\u001b[0m\u001b[0m\n\u001b[0;32m--> 150\u001b[0;31m       \u001b[0;32mreturn\u001b[0m \u001b[0mfn\u001b[0m\u001b[0;34m(\u001b[0m\u001b[0;34m*\u001b[0m\u001b[0margs\u001b[0m\u001b[0;34m,\u001b[0m \u001b[0;34m**\u001b[0m\u001b[0mkwargs\u001b[0m\u001b[0;34m)\u001b[0m\u001b[0;34m\u001b[0m\u001b[0;34m\u001b[0m\u001b[0m\n\u001b[0m\u001b[1;32m    151\u001b[0m     \u001b[0;32mexcept\u001b[0m \u001b[0mException\u001b[0m \u001b[0;32mas\u001b[0m \u001b[0me\u001b[0m\u001b[0;34m:\u001b[0m\u001b[0;34m\u001b[0m\u001b[0;34m\u001b[0m\u001b[0m\n\u001b[1;32m    152\u001b[0m       \u001b[0mfiltered_tb\u001b[0m \u001b[0;34m=\u001b[0m \u001b[0m_process_traceback_frames\u001b[0m\u001b[0;34m(\u001b[0m\u001b[0me\u001b[0m\u001b[0;34m.\u001b[0m\u001b[0m__traceback__\u001b[0m\u001b[0;34m)\u001b[0m\u001b[0;34m\u001b[0m\u001b[0;34m\u001b[0m\u001b[0m\n",
            "\u001b[0;32m/usr/local/lib/python3.10/dist-packages/tensorflow/python/eager/polymorphic_function/polymorphic_function.py\u001b[0m in \u001b[0;36m__call__\u001b[0;34m(self, *args, **kwds)\u001b[0m\n\u001b[1;32m    823\u001b[0m \u001b[0;34m\u001b[0m\u001b[0m\n\u001b[1;32m    824\u001b[0m       \u001b[0;32mwith\u001b[0m \u001b[0mOptionalXlaContext\u001b[0m\u001b[0;34m(\u001b[0m\u001b[0mself\u001b[0m\u001b[0;34m.\u001b[0m\u001b[0m_jit_compile\u001b[0m\u001b[0;34m)\u001b[0m\u001b[0;34m:\u001b[0m\u001b[0;34m\u001b[0m\u001b[0;34m\u001b[0m\u001b[0m\n\u001b[0;32m--> 825\u001b[0;31m         \u001b[0mresult\u001b[0m \u001b[0;34m=\u001b[0m \u001b[0mself\u001b[0m\u001b[0;34m.\u001b[0m\u001b[0m_call\u001b[0m\u001b[0;34m(\u001b[0m\u001b[0;34m*\u001b[0m\u001b[0margs\u001b[0m\u001b[0;34m,\u001b[0m \u001b[0;34m**\u001b[0m\u001b[0mkwds\u001b[0m\u001b[0;34m)\u001b[0m\u001b[0;34m\u001b[0m\u001b[0;34m\u001b[0m\u001b[0m\n\u001b[0m\u001b[1;32m    826\u001b[0m \u001b[0;34m\u001b[0m\u001b[0m\n\u001b[1;32m    827\u001b[0m       \u001b[0mnew_tracing_count\u001b[0m \u001b[0;34m=\u001b[0m \u001b[0mself\u001b[0m\u001b[0;34m.\u001b[0m\u001b[0mexperimental_get_tracing_count\u001b[0m\u001b[0;34m(\u001b[0m\u001b[0;34m)\u001b[0m\u001b[0;34m\u001b[0m\u001b[0;34m\u001b[0m\u001b[0m\n",
            "\u001b[0;32m/usr/local/lib/python3.10/dist-packages/tensorflow/python/eager/polymorphic_function/polymorphic_function.py\u001b[0m in \u001b[0;36m_call\u001b[0;34m(self, *args, **kwds)\u001b[0m\n\u001b[1;32m    855\u001b[0m       \u001b[0;31m# In this case we have created variables on the first call, so we run the\u001b[0m\u001b[0;34m\u001b[0m\u001b[0;34m\u001b[0m\u001b[0m\n\u001b[1;32m    856\u001b[0m       \u001b[0;31m# defunned version which is guaranteed to never create variables.\u001b[0m\u001b[0;34m\u001b[0m\u001b[0;34m\u001b[0m\u001b[0m\n\u001b[0;32m--> 857\u001b[0;31m       \u001b[0;32mreturn\u001b[0m \u001b[0mself\u001b[0m\u001b[0;34m.\u001b[0m\u001b[0m_no_variable_creation_fn\u001b[0m\u001b[0;34m(\u001b[0m\u001b[0;34m*\u001b[0m\u001b[0margs\u001b[0m\u001b[0;34m,\u001b[0m \u001b[0;34m**\u001b[0m\u001b[0mkwds\u001b[0m\u001b[0;34m)\u001b[0m  \u001b[0;31m# pylint: disable=not-callable\u001b[0m\u001b[0;34m\u001b[0m\u001b[0;34m\u001b[0m\u001b[0m\n\u001b[0m\u001b[1;32m    858\u001b[0m     \u001b[0;32melif\u001b[0m \u001b[0mself\u001b[0m\u001b[0;34m.\u001b[0m\u001b[0m_variable_creation_fn\u001b[0m \u001b[0;32mis\u001b[0m \u001b[0;32mnot\u001b[0m \u001b[0;32mNone\u001b[0m\u001b[0;34m:\u001b[0m\u001b[0;34m\u001b[0m\u001b[0;34m\u001b[0m\u001b[0m\n\u001b[1;32m    859\u001b[0m       \u001b[0;31m# Release the lock early so that multiple threads can perform the call\u001b[0m\u001b[0;34m\u001b[0m\u001b[0;34m\u001b[0m\u001b[0m\n",
            "\u001b[0;32m/usr/local/lib/python3.10/dist-packages/tensorflow/python/eager/polymorphic_function/tracing_compiler.py\u001b[0m in \u001b[0;36m__call__\u001b[0;34m(self, *args, **kwargs)\u001b[0m\n\u001b[1;32m    146\u001b[0m       (concrete_function,\n\u001b[1;32m    147\u001b[0m        filtered_flat_args) = self._maybe_define_function(args, kwargs)\n\u001b[0;32m--> 148\u001b[0;31m     return concrete_function._call_flat(\n\u001b[0m\u001b[1;32m    149\u001b[0m         filtered_flat_args, captured_inputs=concrete_function.captured_inputs)  # pylint: disable=protected-access\n\u001b[1;32m    150\u001b[0m \u001b[0;34m\u001b[0m\u001b[0m\n",
            "\u001b[0;32m/usr/local/lib/python3.10/dist-packages/tensorflow/python/eager/polymorphic_function/monomorphic_function.py\u001b[0m in \u001b[0;36m_call_flat\u001b[0;34m(self, args, captured_inputs)\u001b[0m\n\u001b[1;32m   1347\u001b[0m         and executing_eagerly):\n\u001b[1;32m   1348\u001b[0m       \u001b[0;31m# No tape is watching; skip to running the function.\u001b[0m\u001b[0;34m\u001b[0m\u001b[0;34m\u001b[0m\u001b[0m\n\u001b[0;32m-> 1349\u001b[0;31m       \u001b[0;32mreturn\u001b[0m \u001b[0mself\u001b[0m\u001b[0;34m.\u001b[0m\u001b[0m_build_call_outputs\u001b[0m\u001b[0;34m(\u001b[0m\u001b[0mself\u001b[0m\u001b[0;34m.\u001b[0m\u001b[0m_inference_function\u001b[0m\u001b[0;34m(\u001b[0m\u001b[0;34m*\u001b[0m\u001b[0margs\u001b[0m\u001b[0;34m)\u001b[0m\u001b[0;34m)\u001b[0m\u001b[0;34m\u001b[0m\u001b[0;34m\u001b[0m\u001b[0m\n\u001b[0m\u001b[1;32m   1350\u001b[0m     forward_backward = self._select_forward_and_backward_functions(\n\u001b[1;32m   1351\u001b[0m         \u001b[0margs\u001b[0m\u001b[0;34m,\u001b[0m\u001b[0;34m\u001b[0m\u001b[0;34m\u001b[0m\u001b[0m\n",
            "\u001b[0;32m/usr/local/lib/python3.10/dist-packages/tensorflow/python/eager/polymorphic_function/atomic_function.py\u001b[0m in \u001b[0;36m__call__\u001b[0;34m(self, *args)\u001b[0m\n\u001b[1;32m    194\u001b[0m         \u001b[0;32mwith\u001b[0m \u001b[0mrecord\u001b[0m\u001b[0;34m.\u001b[0m\u001b[0mstop_recording\u001b[0m\u001b[0;34m(\u001b[0m\u001b[0;34m)\u001b[0m\u001b[0;34m:\u001b[0m\u001b[0;34m\u001b[0m\u001b[0;34m\u001b[0m\u001b[0m\n\u001b[1;32m    195\u001b[0m           \u001b[0;32mif\u001b[0m \u001b[0mself\u001b[0m\u001b[0;34m.\u001b[0m\u001b[0m_bound_context\u001b[0m\u001b[0;34m.\u001b[0m\u001b[0mexecuting_eagerly\u001b[0m\u001b[0;34m(\u001b[0m\u001b[0;34m)\u001b[0m\u001b[0;34m:\u001b[0m\u001b[0;34m\u001b[0m\u001b[0;34m\u001b[0m\u001b[0m\n\u001b[0;32m--> 196\u001b[0;31m             outputs = self._bound_context.call_function(\n\u001b[0m\u001b[1;32m    197\u001b[0m                 \u001b[0mself\u001b[0m\u001b[0;34m.\u001b[0m\u001b[0mname\u001b[0m\u001b[0;34m,\u001b[0m\u001b[0;34m\u001b[0m\u001b[0;34m\u001b[0m\u001b[0m\n\u001b[1;32m    198\u001b[0m                 \u001b[0mlist\u001b[0m\u001b[0;34m(\u001b[0m\u001b[0margs\u001b[0m\u001b[0;34m)\u001b[0m\u001b[0;34m,\u001b[0m\u001b[0;34m\u001b[0m\u001b[0;34m\u001b[0m\u001b[0m\n",
            "\u001b[0;32m/usr/local/lib/python3.10/dist-packages/tensorflow/python/eager/context.py\u001b[0m in \u001b[0;36mcall_function\u001b[0;34m(self, name, tensor_inputs, num_outputs)\u001b[0m\n\u001b[1;32m   1455\u001b[0m     \u001b[0mcancellation_context\u001b[0m \u001b[0;34m=\u001b[0m \u001b[0mcancellation\u001b[0m\u001b[0;34m.\u001b[0m\u001b[0mcontext\u001b[0m\u001b[0;34m(\u001b[0m\u001b[0;34m)\u001b[0m\u001b[0;34m\u001b[0m\u001b[0;34m\u001b[0m\u001b[0m\n\u001b[1;32m   1456\u001b[0m     \u001b[0;32mif\u001b[0m \u001b[0mcancellation_context\u001b[0m \u001b[0;32mis\u001b[0m \u001b[0;32mNone\u001b[0m\u001b[0;34m:\u001b[0m\u001b[0;34m\u001b[0m\u001b[0;34m\u001b[0m\u001b[0m\n\u001b[0;32m-> 1457\u001b[0;31m       outputs = execute.execute(\n\u001b[0m\u001b[1;32m   1458\u001b[0m           \u001b[0mname\u001b[0m\u001b[0;34m.\u001b[0m\u001b[0mdecode\u001b[0m\u001b[0;34m(\u001b[0m\u001b[0;34m\"utf-8\"\u001b[0m\u001b[0;34m)\u001b[0m\u001b[0;34m,\u001b[0m\u001b[0;34m\u001b[0m\u001b[0;34m\u001b[0m\u001b[0m\n\u001b[1;32m   1459\u001b[0m           \u001b[0mnum_outputs\u001b[0m\u001b[0;34m=\u001b[0m\u001b[0mnum_outputs\u001b[0m\u001b[0;34m,\u001b[0m\u001b[0;34m\u001b[0m\u001b[0;34m\u001b[0m\u001b[0m\n",
            "\u001b[0;32m/usr/local/lib/python3.10/dist-packages/tensorflow/python/eager/execute.py\u001b[0m in \u001b[0;36mquick_execute\u001b[0;34m(op_name, num_outputs, inputs, attrs, ctx, name)\u001b[0m\n\u001b[1;32m     51\u001b[0m   \u001b[0;32mtry\u001b[0m\u001b[0;34m:\u001b[0m\u001b[0;34m\u001b[0m\u001b[0;34m\u001b[0m\u001b[0m\n\u001b[1;32m     52\u001b[0m     \u001b[0mctx\u001b[0m\u001b[0;34m.\u001b[0m\u001b[0mensure_initialized\u001b[0m\u001b[0;34m(\u001b[0m\u001b[0;34m)\u001b[0m\u001b[0;34m\u001b[0m\u001b[0;34m\u001b[0m\u001b[0m\n\u001b[0;32m---> 53\u001b[0;31m     tensors = pywrap_tfe.TFE_Py_Execute(ctx._handle, device_name, op_name,\n\u001b[0m\u001b[1;32m     54\u001b[0m                                         inputs, attrs, num_outputs)\n\u001b[1;32m     55\u001b[0m   \u001b[0;32mexcept\u001b[0m \u001b[0mcore\u001b[0m\u001b[0;34m.\u001b[0m\u001b[0m_NotOkStatusException\u001b[0m \u001b[0;32mas\u001b[0m \u001b[0me\u001b[0m\u001b[0;34m:\u001b[0m\u001b[0;34m\u001b[0m\u001b[0;34m\u001b[0m\u001b[0m\n",
            "\u001b[0;31mKeyboardInterrupt\u001b[0m: "
          ]
        }
      ]
    },
    {
      "cell_type": "code",
      "source": [
        "# prompt: User tuner hyperband to train a bert_classifier_model varying batch size and learning rate\n",
        "\n",
        "import keras_tuner as kt\n",
        "\n",
        "\n",
        "def build_model(hp):\n",
        "    bert_model = hub.KerasLayer(tfhub_handle_encoder, trainable=True)\n",
        "\n",
        "    hp_learning_rate = hp.Choice('learning_rate', values=[1e-2, 1e-3, 1e-4, 1e-5, 5e-5])\n",
        "\n",
        "    bert_classifier_model_tuned = build_binary_classifier_with_bert(bert_model, best_classifier_model)\n",
        "    bert_classifier_model_tuned.classifier_model.trainable = True\n",
        "    bert_classifier_model_tuned.compile(optimizer=tf.keras.optimizers.AdamW(learning_rate=hp_learning_rate),\n",
        "                                        loss='binary_crossentropy', metrics=['accuracy'])\n",
        "\n",
        "    return bert_classifier_model_tuned\n"
      ],
      "metadata": {
        "id": "A8hUfPXoTfp5"
      },
      "execution_count": null,
      "outputs": []
    },
    {
      "cell_type": "code",
      "source": [
        "tuner = kt.Hyperband(\n",
        "    build_model,\n",
        "    objective='val_accuracy',\n",
        "    max_epochs=50,\n",
        "    factor=3,\n",
        "    directory='./drive/MyDrive',\n",
        "    project_name='bert_classifier_hyperband_8_batch_full_training'\n",
        ")\n",
        "\n",
        "\n",
        "callback = tf.keras.callbacks.EarlyStopping(monitor='val_accuracy', patience=2)\n",
        "\n",
        "tuner.search(\n",
        "    [preprocessed_corpus, train_keywords],\n",
        "    train_target,\n",
        "    validation_split=0.15,\n",
        "    epochs=5,\n",
        "    batch_size=8,  # Use the hyperparameter\n",
        "    callbacks=[callback]\n",
        ")\n"
      ],
      "metadata": {
        "colab": {
          "base_uri": "https://localhost:8080/"
        },
        "id": "wLbYkfiV2Pt_",
        "outputId": "3c1760e3-fa96-41c8-cecd-13492d547542"
      },
      "execution_count": null,
      "outputs": [
        {
          "output_type": "stream",
          "name": "stdout",
          "text": [
            "Trial 5 Complete [00h 06m 04s]\n",
            "val_accuracy: 0.5341506004333496\n",
            "\n",
            "Best val_accuracy So Far: 0.7968476414680481\n",
            "Total elapsed time: 00h 30m 29s\n"
          ]
        }
      ]
    },
    {
      "cell_type": "code",
      "source": [
        "\n",
        "tuner = kt.Hyperband(\n",
        "    build_model,\n",
        "    objective='val_accuracy',\n",
        "    max_epochs=50,\n",
        "    factor=3,\n",
        "    directory='./drive/MyDrive',\n",
        "    project_name='bert_classifier_hyperband_8_batch_full_training'\n",
        ")\n",
        "\n",
        "best_hps = tuner.get_best_hyperparameters(num_trials=1)[0]\n",
        "print(f\"Best hyperparameters: {best_hps.values}\")\n",
        "\n",
        "# Build the model with the best hyperparameters\n",
        "best_bert_classifier_model_8batchsize_full_training = tuner.hypermodel.build(best_hps)\n",
        "\n",
        "\n",
        "# Compile the model with the best learning rate\n",
        "best_bert_classifier_model_8batchsize_full_training.compile(optimizer=tf.keras.optimizers.AdamW(learning_rate=best_hps.get('learning_rate')),\n",
        "                              loss='binary_crossentropy', metrics=['accuracy'])\n",
        "\n",
        "# Train the best model with the best batch size\n",
        "history = best_bert_classifier_model_8batchsize_full_training.fit(\n",
        "    [preprocessed_corpus, train_keywords],\n",
        "    train_target,\n",
        "    epochs=3,\n",
        "    batch_size=8,\n",
        "    #validation_split=0.10,\n",
        "    callbacks=[model_checkpoint_callback],\n",
        "    shuffle=True)"
      ],
      "metadata": {
        "id": "3YOV2PkL-By-"
      },
      "execution_count": null,
      "outputs": []
    },
    {
      "cell_type": "code",
      "source": [
        "preprocessed_corpus_test = text_preprocess_model(test_df['text'])\n",
        "train_keywords_test = tf.convert_to_tensor(np.stack(test_df['keyword_onehot'].to_numpy()))\n",
        "\n",
        "# Use 'preprocessed_corpus' instead of 'test_embeddings_tf' for prediction\n",
        "predictions = best_bert_classifier_model_8batchsize_full_training.predict([preprocessed_corpus_test, train_keywords_test])\n",
        "\n",
        "# Create a DataFrame with 'id' and 'target' columns\n",
        "submission_df = pd.DataFrame({'id': test_df['id'], 'target': np.round(predictions).astype(int).flatten()})\n",
        "\n",
        "# Save the DataFrame to a CSV file\n",
        "submission_df.to_csv('submission_disaster.csv', index=False)"
      ],
      "metadata": {
        "colab": {
          "base_uri": "https://localhost:8080/"
        },
        "id": "Qt-2Up9aRUp8",
        "outputId": "e0147ec9-a18d-4f53-df2e-9556fbbe3c55"
      },
      "execution_count": null,
      "outputs": [
        {
          "output_type": "stream",
          "name": "stdout",
          "text": [
            "102/102 [==============================] - 15s 140ms/step\n"
          ]
        }
      ]
    },
    {
      "cell_type": "markdown",
      "source": [
        "## Results/conclusion\n",
        "The approach demonstrated in the notebook effectively utilizes text embeddings and keyword information to classify disaster-related tweets.\n",
        "Hyperparameter tuning and BERT fine-tuning significantly contributed to model improvement.\n",
        "![model improvement.png](data:image/png;base64,iVBORw0KGgoAAAANSUhEUgAABKoAAAHwCAIAAAAJrxByAAAAAXNSR0IArs4c6QAAAARnQU1BAACxjwv8YQUAAAAJcEhZcwAADsMAAA7DAcdvqGQAAMCOSURBVHhe7N0LWFTVwjfwfcKXyczxqGc8ViAZaAZaAqZCyCUURz51MmLUA1KiFIiVgJ5oTBHLESvEG6AieELwAq/ZCNE4XgAlxhuQCnQBQmRKPuYVX7aQDZ/kt9fee2C44w2t+f8eHmbt+9obfB7+rrXX+tvt27cpAAAAAAAA+Kt7jP8EAAAAAACAvzTEPwAAAAAAAKNwN50/yyqq+BIAAAAAAAD8SeDdPwAAAAAAAKOAzp8AAAAAAABGAfEPAAAAAADAKCD+AQAAAAAAGAXEPwAAAAAAAKOA+AcAAAAAAGAUEP8AAAAAAACMAuIfAAAAAACAUUD8AwAAAAAAMAqIfwAAAAAAAEYB8Q8AAAAAAMAoIP4BAAAAAAAYBcQ/AAAAAAAAo4D4BwAAAAAAYBQQ/wAAAAAAAIwC4h8AAAAAAIBRQPwDAAAAAAAwCoh/AAAAAAAARgHxDwAAAAAAwCgg/gEAAAAAABgFxD8wUtrzKmWWuryRX+yCrjyP2a1Ie4tfBgAAAAD480L8e7TortO6e0oaOlpL6/hyX7vnyvehqsSF0uCg/1QMGsCv6IJAd2590FJp4AEtvwIAAAAA4E/rb7dv3+aLcJdKD8hSiiiz6SFL3ET8qruj/e+Aif/OoTxjf9jmIeDX3ZnCTxy9krTm7ypOhljzqx6kkv2yPRcpM4+Qpa6ie698X8pfZe+TStt9nH/Qh/zMtDlx0SoNt0lP/wOtSfFyjCy0WJKZHWLDbwIAAAAA+FN6VFr/dI2VedmxwVu9xq+Z/PQHdvzXmlkuW1duyD5X1viwGrR6o1a9P/3A/iPlv/HLd034DxETN0TDRXcdn0RPMycQWJnfWwzttdpzzI2nK38iP517r3x3NCn+zm7OzlH5/PI9KjqSQVOUg9SDf1DFGTHMjbT90v9Ah0+XTKCoqpS08+wiAAAAAMCf1sOPf/SVr8I+dxm51kuqTDykqay92cRvYNz8pUzzzWblOy5rHUZ+HrXvyg1+/V+UwFV+9ueysx/Z8st3ztxfUflzcdIbfRT/DN175bvTrKvVaKo1tffnvwEu5WQz6W/0ZHv9c2L7rFouTcs/e6bla4/fM9xGkaObJfN7mn+uglsGAAAAAPiTeqjxr/Hi9vhpY2LX7tP2nOt02rSwWJfx8XsKehir457oqlTRgVJn0tAk9pGlFF7n1+d/wqxx809t6R+olndsjLqlVa5ij/UKTT7PxAuOfk+6KCFQzGydFphezoSNGpXcjyw6e0Uqa/hdq1MDyJpP1PyyTqOMCfYih7tN85MZnLPX9bxFF6bKfMSdnIHbU56nq86KZC8hXZZaRPf45h5TpU/8pjH7i4MTilrPxuh95anrRcky9iTObl6BMcqq1kzX+X3lRTnPjyshJdUyg0sY7CxdtlPdMjoLf2s5dHYMuYo8j1/fQltSVM182FlbccuUppokO2ub8SIDQkE/bitl9YId8738QmmX4bPr52y4ydkrODpLw56EVrxP1oQfMTjl+RjyTPxSSN0AAAAAAB6Ahxb/dFfSvD97a+3la/zyYwPHWi5a99bB7z5S/7qhkPuq/Oho7lvh71uOEeirWXs5ZtZn7+2+cn8agdqrSvSaGrxNVVovsrYRaQv2R3qJQ0kzEVPb65pqjaa2NXl2bIyiFaGSoAwN1aitLsqIkDoGZXEZgNuzMDZIGn2Orr+qKVfJ/KPiwiXBySVksbooJUgSWchFl8Za5irV17mzahKkbkFbVSWNIhtrUe259AipeNlx9py9racm+V+OXqvS86uYbXR1HnMG+5k7+SYsbs/ylFDnpenlTJ01RYpV0qnriritnbtVGi1xC0pSl1+lf6dPy6ULon/ktxC9rHxF4syJ0oj96lpyy3SJKi5oqjShimzp5r460uVETuF2ZhYaSxVRfhO9Ekmu1t9aQcJS/63qcuZpdPhlqf6RZEmbZ/Xpj9JqmLxs8jj1iypaJguXyaL/u7RNEh5pSd76Ky0v5xbb6+Y567JXi8mmGoG5tbmgQrVtqZsX2SQUT7dmKnngkKqldvmKFKa2ounTzfkVAAAAAAD32cOJf3RF7Kz4qG9vsguPDXV/Zcvpj3NVbwcvfGHksIGt744JBg4d9YL0g7f3Vn6csecVJyG39mbeyviFGyruf0fQ6iOHS5opqxWKCwdj4w8WZH40S+xuruPzTI801c+uuXA+/2RB8YVPPZi/+5WymPzWCFFU76L8oSD/QkGsREhVJ8UUv8UuFifMZe5Km5LWoYWKqjqiuERRo0MyC9Lit6ddyAyXeLia68ionr2spy5rfcR5HWUdcvS7gpMnC344Gm5jQpVEfZisb2xkZGtsjn5ffIGp87ZZbEXSs/ktndAeWLPtJ4qyWHSwuOBsfsEPX0+nSvlN7XVdebpaN9bdVrK54EJ+NlOrvW+bUc2le9LIibq8L6fwk/uWsMOueGw6mX3yIwcmim2LTNE2W4cpCy4wawryk+aIqEtRHxiMz1lYPjAqu7jy57JN7vyaFvU0yZRWlmbcIrOinqxID3IL3sa++Lft35KX9GGSeMacJEVNdS232Fbnz/mzjUoSwtWK/UyVZsWfV6ZuTz56MiHAY5ZjP3J5gYtEbEJRKiW7GxOt1e1eRwQAAAAAuO8eRvz7dc8buxKL/2DL/Z3WBWXume00Qt/RrnP9nnGfveVCcPgr/dnFP37YvOud7b+y5fvnceEg5nv5l4nJ6gotrbPy3xgvDxFb9HIoEzO/xR5C9i6Ebyz2Y7IUrS7kGrUIa8l0S/IptLYhocNa4skuClyns+Hk92byvY0n2NpUHN6Vqi5namO5aNN2eZinGVObXtYz+4iK+S5+Z5EVt8VyUdhs5qPoSE5rRrKZPZvbKvSc7cZ8NP9OFrpQcJa0DTq+s8iOPUQwelEAk3M71XXlha5LoranbZol1NFarbai+irZvbqGBKs7eP4VOUrm2dpOdxtMzqLV6sbOms7EpkK2hhyrt0Ln9vJn12gujQ4P8A5POkPiYmVB2tJxVJsw2c+UL3Sm43M+eLbgh+9jxWRKiUGDyH9anE7bqirR0LonXGXbN8r8bcm6AR4L5jGfKuUJNrefU33FpD9P39eQ/gAAAADggenz+PdH5eaUGH32m7FnxZaFI3r3NzqTN0ZI01dsmaNPgGtTEsu489wnojciotxFVEV6hI944vixI8eLg3a2fb+tO1ZmFnyJOZMZyXgV5Ze5xbsi8o6UuzK1ObDKb9ok+zGj7KcFJhayteldPbn32SjBE62P1+p5MhtE/V3OC8ifUEQG+OQIzJ/tIqx0XXmKLkoOk7w0atSY8Y4TJ4mXZbVOt3AHz/8y2w+zKGbmJOYk7Jd/CslqFdUtL84JTHr4vWJSI18aYOk4Z5FMvsiNG7V0sG1YuC+TzArTDvNn01SQy5k8zi211clzFgxueW/QNiyeiYXa7K3BM53tx4we+5LBq56OnrOZqyi/Jv0/87MOM3cq9nTp7T8GAAAAAIA719fx74pq5Qbudb/HXo1dsc69h0m3OxjgFLvi8zlcY8y12MWqX9jSfdLPcm5C/g/fZWcmRSyd5SBqrFBGSYNI573eqKX1469QlI4dSVI4iLRm3T2reQlniwtOKhIi353lKKLLVVFeQemkNr2qp2gY17fR4B027dV2U9vdEQHbONfmhPUtCaqDLiqvU8qkEYdKBa5L4hXZZ78rrtw+iz+A0fvnP8ycvCDnFHGydaBO9muPb29enONicHW1/sxsQ6TWMBUPEw1jvrc0ydZoSA60tmx5WdBAJ8/ZkNAh/Oil4gvK5E3hi8SjmfBr8Kqng7cfcyzp/8lORCH0XfAnmDERAAAAAP7E+jb+3TyxNvcHtjRwjlfEnDvNfpwBr66XzOD+TC7LjTnEvUB4P5TnqZJjYvJ/M7Nx9Q3bnLw3lPTPzD9HhgnhA0NJKd8YdamokCu0KlVkcaN9MFsPp/1EUSaTHV7gV9wFXYVamRoTnaczH+fqF7IxdU8IyR5qdTGl66aeBgR2dqTO2Vkqvs63SrNzmKLQ3o7LK3dKNHYCOVBxiLyjRtAqxXGu1F7XlddWkxZRj7XbQsTjzERCQeG5lu6avbwv1nM2NibkhIUCbpROERMw88+V1zMre8Hczk7I/DRz1Xzj3qWYqZMcJ0riSvQRruTL9HLmSb1sx4XJ6kLScmnu5NCSLXVV6mz+d6Hjcy6Su9lPFEflM3GyplR5KFF+oEI42kHydnh85kYJs4O2sID/Xwtr8RyS/7LjjmQz6W/ObMfuu0ADAAAAANybPo1/tfnJWVx3TbOQiAkD2VJv1Z6O3ad/2U84IVTORZg/TiTl68cOvWe6c+sjtsb5LwhNOKRSHoqR/4fEObG7A/Pd/GUHEZN3MoKnSILDAyUvLc4Rts9QZnSaZFqgLFwWPE0ax+QKke9i9u2vuyTQnZavitsWuGDZzgxlVkb0uhTS/9BT7Mhs6bqehsznhUhEpM5e/jHJhxKXzZRuq6Ioh/ClE/gd7pTN/CWOZLSS0Kk+oeGyUB/xmsLB5C22jrqpvJA0q6miI1OUWSpFTEBgYkuDZLf3ZWE5lkS709vel8kzNNQAj7AV1lSzapnYT56qUqZGef3Lb9nSpdvOkX17Nt7jNabipUeyuX6YExaRl/2q4mY6+y2TyZb5OM6M11Am1kvf4uYw1CgPlzK/dG5uJOYR2nR/Nz//mZJoduSbluc81SeKfc4LEqpo7bM2YwUUNVCj+HdUwqrFXp+Q+01evVHBHGDh6qjvJ2zzuq8Nk6h3JlZTZn7eD2bKRAAAAAAAvb6Mf798WXCRLQxcOPU1kgJ6rfb0cudDiWGxb+mHexk6f6qUawAsKMi6whbunc27iiR/a+HlDHlYcFBYXDZtJv5YucmTvY5t+F65q8iEoi+pDpwe5Ld9jaR98LGV7Yowv5h+YL+qXCcwn7Px65X39te8dUhm0iKbARWKqNCgpaHbcmhzj4ij0aR3YHf1NCR03aSI9RsnLM+JiwiLUvxEkTMked/92CLDvePTljgKKa06g7nNWs/oTfO7aEjssvKiufKNkuFU+f7IoKXBHxw227C+tfNnt/flGrZ5lshEW5iRnrBfraUoq7f3HAz3ML+uTlgVHLQqsZDZWZ62yb3DQ+hUPwfpm0zNi9IOc+HTLCBNGelhJqhRK/anK9RawWjf+GNpAVxIK03fw8Q8C19pS2x+QmTOPEQTc7Mh7KL+OWvVidxztvKJPcuOpMrE1E1fR4gt6MIkcr8R+yuE4xYlfRnCjmLKsphNTttMCmJ9ugQAAAAAeED+dvv2bb74oNV/5S1f+y1TeGzGnnXr3HsdPNnsd4LvWTdi9XfBbHT8Iy945XuHSFviy9GyHfPv7S27tnS0ltb1E4oGd5IldI06wYBuMgY5lhKKhL2LIb3B1kYgbB1NpEV39Wyjkdb+RnV2hk7lLHsugDRStWUTnp35Nh/2dNe1OlORsBdtm11VnjkDeUyd17zb509OZ7i+1w+hHTojyD5UabYk82iITUvdbuno6zST7gxvLX+VvU8qLd5cEM8GOt4tna5ZIGh3zW6eM9nE1Px+/mIAAAAAQCudJvuLuF1fqqt/o0TWswM+XNLdAP6NFcqdsXuOFHE7S99bNNfa4C+9NqeaLlm8xG+CYcuPTqtOT/jisLJUSz1h7rggRDbXlhv/X5sTF63qZKwNM4+Qpa6kCYY58sCOFIWKOVJg7uS9+B1ft97OMnDf9GH8u7j26dSvSMFyXeXb/Mt7PWqT/YaH5L6/YBSfG3WHdjoEs2/bzfcpjH6RXQf3QekBWUrH2d9bfmv/MrrO1W2QpHoLwQ0AAADgEUbnhIsDDhjMbk1RIjf5nqR57Fxr7VQkes2MKmw7Fr5NuDLzbXbnTk5FWfmnZX5ky/41SGfLxP7txia0XHTwq3C7AVT1TolzFPt2UFtcOwp9XDY1MF3bZr43kSRBucm9fa/CB6rv4l9t7jvjs8i7WcMm7/1uzhhuJdF4Me/a806dTf/QdfYjig/N8jhNxtB4xfNoustQbiUAAAAAABgTXXaYo/8hmozdkBzrZ6U7EbkgPEtLmThEnUqeO5zfSU+nXDo2KIuirBel7g5xHEyVJEhnfsZkNoeoM8lzRVRJjNvMrRpK5BG1Z82rg3Vl/wn2iWe2mi3NzA6zpih15Es+KTQlEn+6Z62L8PfylCC/uJJmPuDpKtTZP97gr8NoLkx4P7GQohzl+anztNFukm1VlNBDfjDa26qfVimTBB3SUkLfg99F2PEH9IW+e/fv95v8sxjU32DQl8ZzKze/JY1fuPlK+8nous9+DKH+PLU3u5usHAAAAAAA/rIaVWlM9qMouzW7whzMRCLLuZui/YRM+lLH7uvYFscNRE/ZzPZ1FAmofgIbH183sqKktIr5rsnPIb03rd4KnTtaJBKZOa4IISO3U5rqq+RDqxPNmOc9N0S+9g1LZrO5Q0jYbLK+5Ecy0KHA0kHs6dHyZXNVTSYLEPoGvyFiIks1OT/l5u1tNYDZVST2nU161tEVZV3OpPZA9F3868y13bve2V1P5nDf0DYB9pj9AAAAAAAAqHNqJfmwFrvo31Tq5+DgQj6rz5d0yFZm9pPJbiVfHylnJ/2i89QFzIfQxZXM2WYWoCir/LnsaJC+12jjDTai8BN6i1yXRMnlUe/q34micxR55NPx5dah/XiNOdFxJHzarVjCTu5l4+BKVudnkanYKDLnGRnOkLJ2cdTXum/0Xah6XN9YV69vBqSooQsXb5nTny0aJMBeZj9af55h/R/nCgAAAAAAYFR0N+rZT0srgzHprcaw+a2e7thL0C5cEe9jLSyNmjbO3tnR/qWlGZSlR2TaerdOxjWks1evJ9ly3JLFbedOy//EzdnZfsz4AAVt5vhucvy89hmuOjVGweQZoW/YXG6TaO6mNJmHGX0o4KXxjs729tNiKoS2i5L2LGqZWbpv9F38Gzb4Ga5Qq61sbeYb4BS7ok0CXHm4l+1+ujItP3n2iMF48Q8AAAAAwBjVajsZbFNg0vWwff9TpL6ooZuZPEFX15DYQWtK1YUdTnKLVoaJ/Q9pKZFr1Jb2IU13XVOtoUmouUXX/lhazqcXvfZNfwRdUVj4o5YcQmurrzOfOrpCrf6h3ZEPXB92qbR48RWuUJmXx03+zmmbAHd/27s+n3+cO1bJlV6eoJ9EGwAAAAAAjIq5BddR839qDTp6ll9m3/ozYRcM3SqNnh+cfIkWecpPfk/6eV6InyXSaZSyBeE5rU1U1C2tYpmYDM0isJXtTZjbIW64RZNjKwvSllrT5aoor6B0w16mHZr+mMiX8YE0SlmlswlKu/ATc2zx0RXWFF2a4LcggX0nsM/0Yfwb9LI710r3R96JH9lCC8MEyOnxfb8f87K4DDnU6ZX7OekfAAAAAAD8eVjZsC/eqdUX2UWitFBNPoR2du27Vn5/REHiltncd7zN2QZC4fTQAGvmU3sggz2Gcasi4V9uy7LYdr/MtACDySN0tJZgm/2IwbZL3/EgBXXGiZb811nTny5XqSRTPngELOEmCRRYBbGDyjSXKo500nr54PRh/KOeed2em57vxu5jX9WypVaGCbDnsV6u7TuWxj11e3vPEWwBAAAAAACMjsV0CclvlGJLXDmbEOisXckk4wlf87BllysOxMQc+IntYigUsrPsafIv6uMaXVrC5i+hkG1T0lVs8xLLz+sokccmRcJcg+zHKIkRT5zkOHHah8rr7PItOvvIaVIwMRumb+frpOmPSXtPcJ1RTxe2ZNSKUjJaKEUN6tvppftw2nfGzROL1y5nW+0GzvHOjJ1gMAMEpzEvLLky8J3usx9Fn1/5Uvo35If72Kuxqz9v02wIAAAAAABG5XzkRGkKyXMCoflginujTzQn4Vi0KxP2smWj/PczCc07qUzuRtHZ3Bt9lMDcycPRTFdwSEVCo4m17JgiwEK/cwfczH5UVeLMqVElpB1PIDQTUVru/T+DWeMbVUHjg5XN3Fx/BuPB3KpIYFLlJeZCQhv36WMFmhNZajIFvMg76YS8s1FnHpS+bP2jqP6vrnbhJny/cUgRldXIFg0NcIoO6iH7UY3fBB9ksx9FjXIJQfYDAAAAADBqEyKOHQwXWwj40VyYiOUT+/UGkv0YVlZs46C1pRX5ELptUB4M9zAX6KrzMg7sZ7IfkwMXxZ8i2Y/gYkZXLBYdPBbrN445sY7WsNlPaO23Lfsgl/0oqiRuPenkKfINI3P9GehnGZCWTUYcpegSVfqBDLWWEtrMiTh4tE+zH6NvW/8Yf1Ru/txrwzW23H/GnhXr3O/ohhvzgj9779BNtjw0OHf5oh6yIgAAAAAAGIlGWvsbJRS170+po2lK2HGlltYJhIOFAv0benfglo6+TlNPiIR3Ht5017X0LUHHSvaNPo9/jF/3eGyNKeYGbunvtM7/s4UjenXvuitpvklR33LZ77Exq9/dG/g0WwYAAAAAAICePIz4R16/jH1jVyKfAB8b6u4Qsc7TaUQ3sfvWL8ezNoSp82r5Q8a8v3jHB5YdXh0EAAAAAACALjyc+Mdo05THeGzg2OcXB01yesXs6WED+cZA3Y1rVzRnj5/Zs+HHH3Rc8GPcSYPhHWuuK/5yS2x66TXqyaemeIcunGHxJL/l/jkTKz3rkPauHb/YQVNDXZPpkCdN+cW7UpcTvTLuzNiwtOBJ3OLWyN2nrt5kbso/YonTkI5ToJzZKv3vEZs/kzzFLwMAAAAAwF/NQ4t/ROPF7clhay9zLwL2yrBnQxL9Ftg/oPcjm6/sD/TfN9AnfInk+f41+cnyDWesP90nc7jPo8vkrXU7OS1b5sAvdnBKPiXX+dRHTvziHavLXR0YVWttX5dn+u6x1VOopny596eNAZ+HOQ6py49eniCKUCxjx8A1xFx0t0Vakg/iHwAAAADAX5XJmjVr+GLfM/3nhJf9Ap7/57XLhcW/NfEruyAQST9dGBc79eWn76lVrDtNxz5desnjizi/F4b07y8UjZ4y0/LSJ0n/11XyEpkDpOmXvPQv0r/O/fF//2Ex+h9sIqw7k5z6y9//S536hfLC/3vO3ryhMGV38pGzmn4WY81Io2Fd/u706qF/v/Dljq9OfH992POjh7B1v5L7RZXlW1O4OSgbfvzmi6TDxworTczGmAtNqHLFhj25P/38i/bnm/98ZczQTq/bg4uFFa4frnzlf48ortn6uVhQzbdMrcXzXCyf7N9/yOjnbn6dXucgeZHrOFt3JjVp79Hs7/+wHly1/8LfvfXrec11ZVn7d3114tvv6//57Kih+ou3HvV40RZFvbWdGdnSVKNO3b33SB65U8shphiSBwAAAADgEfPw/0gXjngtenlu5eqDaeJFc8xGDutvEO/6PzPKbMb74h25q9WVy8Pnj3iwL/sVnD3j4u1t0Pxl6rLuWJIfO6t8ZWqg//aq4baT7U0LZb7/zqwjKxvKcxTrY48PtXMaUbdreVBItHrIRGd7SrVyeQI7iaOu/NS+T9fE1gyfbG9NnVjus/5Mu4zbcEru83HRUCcn55F1Cf7v7b9CUYNGTbYaQg2xmmw/isl+5LrvKW6MdHJ2Mj39gf+G/B5CMmvS64ttnzTo3mk6cpLdSPapNtcVZ5668aI1d491X77n/WnZUHvbyYNORm49y64z1JC72nf5CcrOyWkyU/vg3WXs2jZHrdqdmc/Ortl8ZX+wf+wvzJ3aDjwr817xDfuAAAAAAADgUXIb9PYtdI88yZfb0uXI3Fdk3OCXypK8Z265xBSqUhb6JV1m1/36xUKnj0+xxdv5H7sv3He13crbv2WtdH034xpTOhXpui6frCrbOc9nZxkpMa6lvSuOKSSlk+v0RzHXnbHyiI4t37597nPxu1+RExi4UXZcdZpcq4OqdrfD1MrJ1f3VxUmXfuNWlO309t52kSuzVV2Y8iu/pKfT6W5xpZJtkoX7qphCm6OYOnNH6Y7InJZntTygnfMkG9lbAQAAAACARwe66LUaOoyiyBT+HdVcvTrC7kX9IDBWo8Y2lF3mmrdMTDvvi9rEN9ONGsE2HjL624wd2dDQwC+xaq7W1H0pk3ICU8sbGtpNhM9ct6lghy+/x/rjzPHtJqK8lC5fe6CoN01tDh8dO3UsK0lSvnL+1mJymzVXtePtxnEbqadGstNgttWkzfvik/eYy8/wXJ7J17zNUUOGD+cK12qujhpn0/KAxto0XK5E+x8AAAAAwKMF8a/VWOsR6rw8w+6VZcmB76deYYt1V1tGqLl5o4kaPnQIv9S9ptY82XSjTfbj2IZ+kcb7Kquz4V6GvC7nt6cdzDrVYWgWhw+Pndo4o/u6NNXXNXB3ZWJqMdPHgyoq/oVdpGqutWS05g7dSm+eWPtmStP/kW1PSfsma/v8Z7i1/yUw6fyoq3UtD6iJSblDRb17QAAAAAAA0FcQ/1o95f2O6/nPP0ovZzNbU935HetTKYcpIyhqhL3jk6rDeVx8q0pXqB0n27PlHlUpUtTsYQ05KV+aTLHXtwWyJro4Fu1L5+IlVbZ75YbjNVxZ3wjJXNc0M52/boMq+v3k0g4prWc/7fb3+TSvgT1nw6XjBQ1PPSViiszVS79UsFdvvrI/NY8UDN28caN5xFjb4WQGisrjOXw1bZ3dryTEnahropq0RQn6o55ynDLwuCKXq2hl+r6iSS4T2DIAAAAAADwyEP8M9J/0wfblT33znvvUqVPcPL2jr3h8/vk8NrCNWigPbtgi8ZRKX/P0P27z2Yevdt7ns4NR7hZHA15jDpOsr3lTvnAUv5pj6vLhOvvjge5ku2dgzvBpk9i+lLbOMy/KZ7wmz71JrhtQz17Xy1Oyo2baFOteXtfQ2MXy+fVbZni+xlxlxgdlDjEfupCROpmrr3k+05+5usRrzTUbdn5AQ0Pc33z9StQs0u3UN67hWT64mjr8e3uoaVqgr9R31YmxHq9yaymrhZ8tbNzIVFL6mnvgcft13CUAAAAAAOAR8lDn/XtkNTc1NZt28lbfzYa65juYkP1qsv9Kak2S3/Ae5nG/2dBAPflkN3npfkwEz9xUQ5Npx6s01ZOLm3acCJ7T8ZaZh0OZ8vvnrJnypa1ii4Tv6Mlcov7eKwoAAAAAAA8EWv86Y9JZ9mP0f/Kuoo1pD4f17zb7MXo6Qa+YdJL9GKaDus5+jPa33FQY5y/xj/7y+InczN3/3nTWwWNK60t+zCWQ/QAAAAAAHlVo/XuAmirPFFO2/Jx7fx1NV88rMk9cqes/fLLHDJfnMcQLAAAAAMCfA+IfAAAAAACAUUDnTwAAAAAAAKOA+AcAAAAAAGAUEP8AAAAAAACMAuIfAAAAAACAUUD8AwAAAAAAMAqIfwAAAAAAAEYB8Q8AAAAAAMAoIP4BAAAAAAAYBcQ/AAAAAAAAo4D4BwAAAAAAYBQQ/wAAAAAAAIwC4h8AAAAAAIBRQPwDAAAAAAAwCoh/AAAAAAAARgHxDwAAAAAAwCgg/gEAAAAAABgFxD8AAAAAAACjgPgHAAAAAABgFP52+/ZtvthrZRVVfAkAAAAAAAD+JO4m/gEAAAAAAMCfDjp/AgAAAAAAGAXEPwAAAAAAAKOA+AcAAAAAAGAUEP8AAAAAAACMAuIfAAAAAACAUUD8AwAAAAAAMAqIfwAAAAAAAEYB8Q8AAAAAAMAoIP4BAAAAAAAYBcQ/AAAAAAAAo4D4BwAAAAAAYBQQ/wAAAAAAAIwC4h8AAAAAAIBRQPwDAAAAAAAwCoh/AAAAAAAARgHxDwAAAAAAwCgg/gEAAAAAABgFxD8AAAAAAACjgPgHAAAAAABgFBD/wEhpz6uUWeryRn6xa9qSLJUyp4LmFwEAAAAA/qwQ/x4tuuu07hZfvis6Wkvr+HJfu+fK96GqxIXS4KD/VAwawK/omrA6KzjIXxqt5pcBAAAAAP6kEP/uXekBmSxcFpet5Zfvmva/A8bY249Zprrr/Fb4idtLk+ynxZTyyw9YyX7mxmXbcsid33vl+1L+rrgSirKTTBfxK1pVZ0QxN2XwAxWIfXyFFJ2c+ue4NQAAAACArjwq8U/XWJmXHRu81Wv8mslPf2DHf62Z5bJ15Ybsc2WNj/If3rXq/ekH9h8p/41fvmvCf4iYNCIaLhLwK+6Y6GnmBAIr846h5oGoPcfceLryJ/LTuffKd0eT4u/s5uwclc8v36OiIxk0RTlIPTo8qJr08NBE5qba/EBf9nhNSFFZKV/dc8IHAAAAAHiIHn78o698Ffa5y8i1XlJl4iFNZe3NJn4D4+YvZZpvNivfcVnrMPLzqH1XbvDr/6IErvKzP5ed/ciWX75z5v6Kyp+Lk97oo/hn6N4r351mXa1GU62pvT//DXApJ5tJf6Mn27d/TrRijSy/WSBoF2H7OTi4MB9qdSG3DAAAAADwp/RQ41/jxe3x08bErt2n7TnX6bRpYbEu4+P3FPQ8Vsfd01WpogOlzqShSewjSym8zq/P/4RZ4+afquGXKbW8Y2PULa1yFXusV2jy+ZaBQvR70kUJgWJm67TA9PJbFFWjkvuRRWevSGUNv2t1agBZ84n+JTOdRhkT7EUOd5vmJzM4Z6/reYsuTJX5iDs5A7enPE9XnRXJXkK6LLWI7vHNPaZKn/hNY/YXBycUtZ6N0fvKU9eLkmXsSZzdvAJjlFWtma7z+8qLcp5P+mpSlGqZwSUMdpYu26nW6ivP31oOnR1DriLP49e30JYUVTMfdtZW3LIefWTNahUlnLUx0pNf08LmJWvme+HFrnvVdv2oO38U1zPIvTjLlAa/z4WfkV8Jny9afs0AAAAAAO6nhxb/dFfSvD97a+3la/zyYwPHWi5a99bB7z5S/7qhkPuq/Oho7lvh71uOEeirWXs5ZtZn7+2+8mD6glYlek0N3qYqrRdZ24i0BfsjvcShpJmIqe11TbVGU9v6l3rHxihaESoJytBQjdrqoowIqWNQFhcAuD0LY4Ok0efo+quacpXMPyouXBKcXEIWq4tSgiSRhVx0aaxlrlJ9nTurJkHqFrRVVdIosrEW1Z5Lj5CKlx1nz9nbemqS/+XotSo9v4rZRlfnMWewn7mzgtvG7VmeEuq8NL2cqbOmSLFKOnVdEbe1c7dKoyVuQUnq8qv07/RpuXRB9I/8FqKXla9InDlRGrFfXUtumS5RxQVNlSZUkS3d3FdHupzIKdzOzEJjqSLKb6JXIsnV+lsrSFjqv1VdzjyNDr8s1T+SLGnzbNv0R+esXp1BC2dt+NhjGL+qlbmFJfO9uqKii9+8bh51F49isIf4Raae6YoT+lPeUitSK6o1ounTzfg1AAAAAAD31cOJf3RF7Kz4qG9vsguPDXV/Zcvpj3NVbwcvfGHksIGtHe8EA4eOekH6wdt7Kz/O2POKk5BbezNvZfzCDRX3vyNo9ZHDJc2U1QrFhYOx8QcLMj+aJXY31/F5pkea6mfXXDiff7Kg+MKnHkwGUcpi8lsb04rqXZQ/FORfKIiVCKnqpJjit9jF4oS5zF1pU9I6tFBRVUcUlyhqdEhmQVr89rQLmeESD1dzHRnVs5f11GWtjzivo6xDjn5XcPJkwQ9Hw21MqJKoD5P1jY2MbI3N0e+LLzB13jaLrUh6Nr+lE9oDa7b9RFEWiw4WF5zNL/jh6+lUV41hXVeertaNdbeVbC64kJ/N1Grv22ZUc+meNHKiLu/LKfzkviU25Lwem05mn/zIgaJKt0WmaJutw5QFF5g1BflJc0TUpagPDrS+nFdYPjAqu7jy57JN7vyaFvU0yZRWloYpS5cdJVNoKfHHa8T871lbz1qRsKipreUW2+r8UX+2kbTsdfkoBG6ezO8JpfxaP6LMOdVXTL0cvGcM55YBAAAAAO6zhxH/ft3zxq7E4j/Ycn+ndUGZe2Y7jejHLnal3zPus7dcCA5/pT+7+McPm3e9s/1Xtnz/PC4cxHwv/zIxWV2hpXVW/hvj5SFii14OZWLmt9hDyN6F8I3FfkyEoNWFXKMWYS2ZTpqPKKG1DQkd1hJPdlHgOp0NJ783k+9tPMHWpuLwrlR1OVMby0WbtsvDPM2Y2vSyntlHVMx38TuLrLgtlovCZjMfRUfYgTo5NrNnc1uFnrPdmI/m38lCFwrOkrZBx3cW2bGHCEYvCiD5pTNdV17ouiRqe9qmWUIdrdVqK6qvkt2ra0iquoPnX5GjZJ6t7XS3weQsWq1u7CwyhmchW0OO1Vuhc3v7s6Oo81Ef7NdSDvK1JAV3pl/79wENdXzUB88W/PB9rHhAd49C4OFLfk9USq7/Z37WYSb9iX1mP4QXNwEAAADAOPR5/PujcnNKjD77zdizYsvCEb39G10wQpq+YsscfQJcm5JYxp3nPhG9ERHlLqIq0iN8xBPHjx05Xhy0s+37bd2xMrPgS8yZzEjGqyi/zC3eFZF3pNyVqc2BVX7TJtmPGWU/LTCxkK1N7+qpqWb7HgqeaH28Vs+TF9jq73JeQP6EIjLAJ0dg/mwXUaXrylN0UXKY5KVRo8aMd5w4Sbwsq/U9tzt4/pfLy5nvRTEzJzEnYb/8U0ioragmL/WxBCY9/F4xqZEv3SqNXpGiNbGWyb27jF6VFaTDqAm30E4nj1owWCjg/kejm0fRz2E6SZsq5QkddUtNBiM18ZC49PafAwAAAADAnerr+HdFtXID97rfY6/Grljn3vOk220NcIpd8fkcU7Z8LXax6he2dJ/0s5ybkP/Dd9mZSRFLZzmIGiuUUdKg/a1tZd2qpfXjr1CUjp39XDiItPvcPat5CWeLC04qEiLfneUoostVUV5B6aQ2vaqnaBjXt7G1AyqlvXovY4oI2GasNiesb0lQHXRReZ1SJo04VCpwXRKvyD77XXHl9ln8AYzeP/9h5ubMd6eIk2fyzxp+7fEl63vCxeDqav2Zc3dtI+20moQFZHQW5mtZFrNYum1+6zAz2hr20dlYdnb+Th61oS5/jhTlKCUVJv0/vyM9P4XzfEmDIQAAAADAg9G38e/mibW5P7ClgXO8Iubc3V+6A15dL5nBNZGU5cYc4l4gvB/K81TJMTH5v5nZuPqGbU7eG0r6Z+afI60+fGAoKeUboy4VdZgCoFSRxY+qQl06nPYTRZlMdniBX3EXdBVqZWpMdJ7OfJyrX8jG1D0h5N0ztbqY0nVTTwMCOztS5+wsFV/nW6XZOUxRaG9n+M5b74nGTiAHKg6RKfMIWqU4zpXa67ry2mrSIuqxdluIeJyZSCgoPNfSXbOX98V6zsbGhJ2IQSDi0eX558rrO2+da8/czk7I/DRz1XxToWCYuZmZ+VPCx7lFStcxyBWfIzlQ7ODALTLo0px8fszSjo+6SO5mP1Ecla/r5lGwxk2XWFDU8extx5ifjfA1Sev5AQAAAADuuz6Nf7X5yVlcd02zkIgJA9lSb9Wejt2nf9lPOCFUzkWYP04k5evHDr1nunPrI7bG+S8ITTikUh6Kkf+HxDmxO/mL3PxlBxHzF39G8BRJcHig5KXFOcL2GcqMTpNMC5SFy4KnSeOYXCHyXXwvLTkC3Wn5qrhtgQuW7cxQZmVEr0sh3R09xY7Mlq7rach8XohEROrs5R+TfChx2UwpaeNyCF86gd/hTtnMX+LI5CtV6FSf0HBZqI94TeHgzt+U66byQjKqpio6MkWZpVLEBAQmtjRIdntfFpZjSbQ7ve19mTxDQw3wCFthTTWrlon95KkqZWqU17/8li1duu0c2bdn49lp3EuPZHOj4DiFnzyZbfCVtvR5Zq310n3cMDNMnMtRHGY+HFwn63tmno+cMjPAZ2oo99pey6Oe6hPFPuoFCVW09lmbsYJuHgXHWjqfuZGMbcxzsPCV3u2PBgAAAACgN/oy/v3yZcFFtjBw4dTXOo6t343a08udDyWGxb6lH+5l6PypUu4v8YKCrCts4d7ZvKtI8rcWXs6QhwUHhcVl02bij5WbPNnr2IbvlbuKTCj6kurA6UF+29dI2gcfW9muCPOL6Qf2q8p1AvM5G79eeW8ToFuHZCYtshlQoYgKDVoaui2HNveIOBrtwdSmu3oaErpuUsT6jROW58RFhEUpfqLIGZK6fr2tR8O949OWOAoprTqDuc1az+hN87toSOyy8qK58o2S4VT5/sigpcEfHDbbsL6182e39+UatnmWyERbmJGesF+tpSirt/ccDPcwv65OWBUctCqxkNlZnrbJvcND6FQ/B+mbTM2L0g73qjesTpWuaGYym+9rLc9OZGbOxNEhw4ZxF9Q/aq06kXvUVj6xZ9nBVLv5OXLMZ3vbMR/NTGE6O7opAAAAAMCD8rfbt2/zxQet/itv+dpvmcJjM/asW+fe6+DJZr8TfLe6Eau/C2aj4x95wSvfO0TaEl+Olu2Yf29v2bWlo7W0rp9QNLiTLKFr1AkGdJMxyLGUUCTsXQzpDbY2AmHLUCKtuqtnG4209jeqszN0KmfZcwEKvtzKJjw7820+7Omua3WmImEv2ja7qjxzBvKYOq95t8+fnM5wfa8fQjt0RpB9qNJsSebREJseHos2WeoYcd5sqSI7bBy/itDpdCaC9o+060fd9c8RAAAAAO4PXVVO8o6ktLxqHSWymbNYtsTDvOs/EnVa9YEdKQpVqZYSmDt5L37H181w3PhbdOGBuLQSJoWYTQ9Z4sY2A7Q5v8fsgGBfu8HszlTpAVlKZzNo2y6Qe7f+F/+t0uTVKezUaa3n7GN9GP8urn069StSsFxX+Tb/8l6P2mS/4SG57y8YxedG3aGdDsHs23bzfQqjX2TXwX3Q+e+umUfIUteH8Rv6wPQ6j91twgQAAACAPkQfl00NTNcaTqgmco3amzCXnXCtnU52pkSSBOUmd7aPX40qfEHwAX5kD2tZtiLAorNDTCwD9ilkE5i/EjtvQaGoWUk/byTzq7FKPnObGc/1PuPP2ff6Lv7V5r4zPou8mzVs8t7v5ozhVhKNF/OuPe/U2fQPXWc/ovjQLI/TZOTPVzyPprsM5VYCAAAAAIDRacxZ9kqAgkkO45akxvqO+i1n9QKZUktRDvKzqR3ffiqNdpNsq6KEHvKD0d5W/bRKmSTokJYS+h78LsKOygkfFXCgmbJyddDlqKv5qMYfIvKU741wHaQrTw7223aJoiyWZGaH2FDakqyilhnIGNVZa+RZLSdkVcTNnBajH9XwocW/vnv37/ebN7jCoP4Gg740nlu5+S1p/MLNV9pPRtd99mMI9eepvdndZOUAAAAAAPDXpjuRTrIfZRu5I8TRTCQa7R2/yZc05Knjktnelm3VVpN5vyg3b2+rARQlEIl9Z5OISFeUsdNz/d7PMiCp4GiES+twHxp1NjnE0i/E20okEpk5hL3HjmFRVV1LPkQ2nh7ili8X05I8ciK7FUv47EdpEkJJ9rOZN+vhDvfQd/GvM9d273pndz2Zw31D2wTYY/YDAAAAAADg5KtV5GPcdLfh7DLjZQe216Wm8CI347IhGwdX8pGfRSZGY8JjeR4ZXJCydnEkKdBu7RmlzLXtSI9mizJ/Lqv8WblU35VU9xsbXjqb6rs6NYZkUaFv2Fy+3bE6KVh+iQwKuGnRQx7sr+9C1eP6xrp6fTMgRQ1duHjLnP5s0SAB9jL70frzDOuvn7ANAAAAAACMjo6uYz+tLM3ZT6KfpdVo8llPt+9mSFGiuZvSZB5m9KGAl8Y7OtvbT4upENouStqziD1cKGwb/TpB53zwCQmcNu8t0rfv6TXmRMeRBke7FUscuTEmatLD1zNrzJauX2L1sEcB7Lv4N2zwM1yhVlvZ+hMY4BS7ok0CXHm4l+1+ujItefGPMWIwXvwDAAAAADBa2tqrfMlAh0HaDdAVhYU/akkqobXV15lPHV2hVv/Ap5AeXFctmxag0FIiV3m8f/uJ0Do0/dGKNbL8Zkr05sY2w8g/JH3YpdLixVe4QmVeHjf5O6dtAtz9be/6fP5x7lglV3p5wsN4aRIAAAAAAB4NZlZW7GeN1qCjZ3nFj+xnxxBIZ3wgjVJW6WyC0i78VFb5c/HRFdYUXZrgtyCBfSewOzUZQeJgJvsJJoTv3end2tjI6dD0Rx9Zs1pFUSLvDcvvbVbw+6QP49+gl925Vro/8k5wP4kWhgmQ0+P7fj/mZXEZcqjTK/dz0j8AAAAAAPiTsXremnycVRffYpcZpUX5ZJIGof2L7RvodLlKJdnkEbDEVkhCmsAqKETCfDaXKo5wEzN0oSLRyy1Uybb7Ze5d1LEnZ8e3/gpUGaRxS5vuP27UyOdGjXSLYgf/LJW7jRoZlkOKfasP4x/1zOv23PR8N3Yf+4odIceAYQLseayXa/uOpXE9SO3tPUewBQAAAAAAME7m02eTMVWaM6ITKkhMuEUrd6SQmRiEs6ePJztQdMWBmJgDP5EsJniCm3PudOFF9pNRUVrOfg4SdjnVs+6nuJniqEIdJfLc+PVO707e4uv41t+jpw+nfWfcPLF47XK21W7gHO/M2AkGM0BwGvPCkisD3+k++1H0+ZUvpX9Dfq6PvRq7+vM2zYYAAAAAAGB8CiMdvb4gfT8Fg82EzRotCXqtM7lny0b576coE++kMrnbrYoELzEZitNEaOM+faxAcyJLTeZzF3knnZC7DSBnI6oSZ5LGOm6OPn4ywA5aZ/AriXGbuVVDiXwPfhth11X8a3NOfl1f6svWP4rq/+pqF27C9xuHFFFZjWzR0ACn6KAesh/V+E3wQTb7UdQolxBkPwAAAAAAsItQHgz3MBdQuuts9hNa+8UruOzHsLJie4daW5KXBPtZBqRlx/tYCym6RJV+IEOtpYQ2cyIOHjXIfh383kn2M0BnbIsjHUcdQ5Z0mf0eAX3b+sf4o3Lz514brrHl/jP2rFjn3vUj7kRjXvBn7x26yZaHBucuX9RDVgQAAAAAAGOiu66lTYSiDt04dTRNCduvJTvfEnSy919Un8c/xq97PLbGFHMDt/R3Wuf/2cIRvXrauitpvklR33LZ77Exq9/dG/g0WwYAAAAAAICePIz4R168jH1jVyKfAB8b6u4Qsc7TaUQ3jaS3fjmetSFMnVfLHzLm/cU7PrDs8OogAAAAAAAAdOHhxD9Gm6Y8xmMDxz6/OGiS0ytmTw8byDcG6m5cu6I5e/zMng0//qDjgh/jThoM71hzXfGXW2LTS69RTz41xTt04QyLJ/kt98+ZWOlZh7R37fjFDpoa6ppMhzxpyi/elbqc6JVxZ8aGpQVP4ha3Ru4+dfUmc1P+EUuchpiwOxk6s1X63yM2fyZ5il8GAAAAAIC/mocW/4jGi9uTw9Ze5l4E7JVhz4Yk+i2wv6PXBXuv+cr+QP99A33Cl0ie71+TnyzfcMb6030yh/s8ukzeWreT07JlDvxiB6fkU3KdT33kxC/esbrc1YFRtdb2dXmm7x5bPYVqypd7f9oY8HmY45C6/OjlCaIIxbIOk04yF91tkZbkg/gHAAAAAPBXZbJmzRq+2PdM/znhZb+A5/957XJh8W9N/MouCETSTxfGxU59+el7ahXrTtOxT5de8vgizu+FIf37C0Wjp8y0vPRJ0v91lbxE5pVv+iUv/Yv0r3N//N9/WIz+B5sI684kp/7y9/9Sp36hvPD/nrM3byhM2Z185Kymn8VYM9JoWJe/O7166N8vfLnjqxPfXx/2/OghbN2v5H5RZfnWFHNSphp+/OaLpMPHCitNzMaYC02ocsWGPbk//fyL9ueb/3xlzNBOr9uDi4UVrh+ufOV/jyiu2fq5WFDNt0ytxfNcLJ/s33/I6Odufp1e5yB5kes4W3cmNWnv0ezv/7AeXLX/wt+99et5zXVlWft3fXXi2+/r//nsqKH6i7ce9XjRFkW9tZ0Z2dJUo07dvfdIHrlTyyGmGJIHAAAAAOAR8/D/SBeOeC16eW7l6oNp4kVzzEYO628Q7/o/M8psxvviHbmr1ZXLw+ePeLAv+xWcPePi7W3Q/GXqsu5Ykh87q3xlaqD/9qrhtpPtTQtlvv/OrCMrG8pzFOtjjw+1cxpRt2t5UEi0eshEZ3tKtXJ5AjttpK781L5P18TWDJ9sb02dWO6z/ky7jNtwSu7zcdFQJyfnkXUJ/u/tv0JRg0ZNthpCDbGabD+KyX7kuu8pbox0cnYyPf2B/4b8HkIya9Lri22fNOjeaTpykt1I9qk21xVnnrrxojV3j3Vfvuf9adlQe9vJg05Gbj3LrjPUkLvad/kJys7JaTJT++DdZezaNket2p2ZX04m4Wi+sj/YP/YX5k5tB56Vea/4hn1AAAAAAADwKLkNevsWukee5Mtt6XJk7isybvBLZUneM7dcYgpVKQv9ki6z6379YqHTx6fY4u38j90X7rvabuXt37JWur6bcY0pnYp0XZdPVpXtnOezs4yUGNfS3hXHFJLSyXX6o5jrzlh5RMeWb98+97n43a/ICQzcKDuuOk2u1UFVu9thauXk6v7q4qRLv3ErynZ6e2+7yJXZqi5M+ZVf0tPpdLe4Usk2ycJ9VUyhzVFMnbmjdEdkTsuzWh7QznmSjeytAAAAAADAowNd9FoNHUZRnU/mWHP16gi7F/WDwFiNGttQdplr3jIx7bwvahPfTDdqBNt4yOhvM3ZkQ0MDv8SquVpT96VMyglMLW9oaDcRPnPdpoIdvvwe648zx3Pz3be4lC5fe6CoN01tDh8dO3UsK0lSvnL+1mJymzVXtePtxnEbqadGkgkw22nS5n3xyXvM5Wd4Ls/ka97mqCHDh3OFazVXR42zaXlAY20aLlei/Q8AAAAA4NGC+NdqrPUIdV6eYffKsuTA91OvsMW6qy0j1Ny80UQNHzqEX+peU2uebLrRJvtxbEO/SON9ldXZcC9DXpfz29MOZp3qMDSLw4fHTm2c0X1dmurrGri7MjG1mOnjQRUV/8IuUjXXWjJac4dupTdPrH0zpen/yLanpH2TtX3+M9za/xKYdH7U1bqWB9TEpNyhot49IAAAAAAA6CuIf62e8n7H9fznH6WXs5mtqe78jvWplMOUERQ1wt7xSdXhPC6+VaUr1I6T7dlyj6oUKWr2sIaclC9Nptjr2wJZE10ci/alc/GSKtu9csPxGq6sb4Rkrmuamc5ft0EV/X5yaYeU1rOfdvv7fJrXwJ6z4dLxgoannhIxRebqpV8q2Ks3X9mfmkcKhm7euNE8YqztcDIDReXxHL6ats7uVxLiTtQ1UU3aogT9UU85Thl4XJHLVbQyfV/RJJcJbBkAAAAAAB4ZiH8G+k/6YPvyp755z33q1Clunt7RVzw+/3weG9hGLZQHN2yReEqlr3n6H7f57MNXO+/z2cEod4ujAa8xh0nW17wpXziKX80xdflwnf3xQHey3TMwZ/i0SWxfSlvnmRflM16T594k1w2oZ6/r5SnZUTNtinUvr2to7GL5/PotMzxfY64y44Myh5gPXchInczV1zyf6c9cXeK15poNOz+goSHub75+JWoW6XbqG9fwLB9cTR3+vT3UNC3QV+q76sRYj1e5tZTVws8WNm5kKil9zT3wuP067hIAAAAAAPAIeajz/j2ympuamk07eavvZkNd8x1MyH412X8ltSbJb3gP87jfbGignnyym7x0PyaCZ26qocm041Wa6snFTTtOBM/peMvMw6FM+f1z1kz50laxRcJ39GQuUX/vFQUAAAAAgAcCrX+dMeks+zH6P3lX0ca0h8P6d5v9GD2doFdMOsl+DNNBXWc/RvtbbiqM85f4R395/ERu5u5/bzrr4DGl9SU/5hLIfgAAAAAAjyq0/j1ATZVniilbfs69v46mq+cVmSeu1PUfPtljhsvzGOIFAAAAAODPAfEPAAAAAADAKKDzJwAAAAAAgFFA/AMAAAAAADAKiH8AAAAAAABGAfEPAAAAAADAKCD+AQAAAAAAGAXEPwAAAAAAAKOA+AcAAAAAAGAUEP8AAAAAAACMAuIfAAAAAACAUUD8AwAAAAAAMAqIfwAAAAAAAEYB8Q8AAAAAAMAoIP4BAAAAAAAYBcQ/AAAAAAAAo4D4BwAAAAAAYBQQ/wAAAAAAAIwC4h8AAAAAAIBRQPwDAAAAAAAwCn+7ffs2X+y1sooqvgQAAAAAAAB/EncT/wAAAAAAAOBPB50/AQAAAAAAjALiHwAAAAAAgFFA/AMAAAAAADAKiH8AAAAAAABGAfEPAAAAAADAKCD+AQAAAAAAGAXEPwAAAAAAAKOA+AcAAAAAAGAUEP8AAAAAAACMAuIfAAAAAACAUUD8AwAAAAAAMAqIfwAAAAAAAEYB8Q8AAAAAAMAoIP4BAAAAAAAYBcQ/AAAAAAAAo4D4BwAAAAAAYBQQ/wAAAAAAAIwC4h8AAAAAAIBRQPwDAAAAAAAwCoh/YKS051XKLHV5I7/YpZpSZZYq+yeaXwQAAAAA+NNC/Hu06K7Tult8+a7oaC2t48t97Z4r34eqEhdKg4P+UzFoAL+iSwM1iveD/aUx+X+WWwMAAAAA6ALi370rPSCThcvisrX88l3T/nfAGHv7MctUd53fCj9xe2mS/bSYUn75ASvZz9y4bFsOufN7r3xfyt8VV0JRdpLpIn4FpdOqkz8J9nJ2c3aWBsWkl1zn11MDPBbME1J0yp4/x50BAAAAAHTpUYl/usbKvOzY4K1e49dMfvoDO/5rzSyXrSs3ZJ8ra3yU//KuVe9PP7D/SPlv/PJdE/5DxKQR0XCRgF9xx0RPMycQWJm3hJoHq/Ycc+Ppyp/IT+feK98dTYo/CWZR+fzyPSo6kkFTlIPUg39Q9HHZFEe/iCRVoUZTrSlSbpXNFAcrariNlKPnbCFFKVMP33PABwAAAAB4mB5+/KOvfBX2ucvItV5SZeIhTWXtzSZ+A+PmL2WabzYr33FZ6zDy86h9V27w6/+iBK7ysz+Xnf3Ill++c+b+isqfi5Pe6KP4Z+jeK9+dZl0tCWa19+e/AS7lZDPpb/Rke/45lSZ8kq5tFkm25f/wc1nlTwXxc0SUVrV6RxG3mXrZwY35rlYXoP8nAAAAAPyZPdT413hxe/y0MbFr92l7znU6bVpYrMv4+D0FPY7VcQ90VaroQKkzaWgS+8hSCvU9APM/Yda4+adq+GVKLe/YGHVLq1zFHusVmny+ZaQQ/Z50UUKgmNk6LTC9nEkRNSq5H1l09opU6luZqlMDyJpP1PyyTqOM4bojuk3zkxmcs9f1vEUXpsp8xJ2cgdtTnqerzorkejwuSy2ie4w3TJU+8ZvG7C8OTihqPRuj95Wnrhcly9iTOLt5BcYoq1ozXef3lRflPJ/01aQo1TKDSxjsLF22U63VV56/tRw6O4ZcRZ7Hr2+hLSmqZj7srK24ZZ3QYUVs/LZdKz3Zpst+QvEb05kCXVhIdiNrrG3GMR9FJd9zy50wrExQjKraIKfS51PCuZ+1waaSrRJmjddOg266NelBzD7TIrPvT8YFAAAAAGjvocU/3ZU078/eWnv5Gr/82MCxlovWvXXwu4/Uv24o5L4qPzqa+1b4+5ZjBPpq1l6OmfXZe7uvPJg/kKsSvaYGb1OV1ousbUTagv2RXuJQ0kzE1Pa6plqjqW1Nnh0bo2hFqCQoQ0M1aquLMiKkjkFZXODh9iyMDZJGn6Prr2rKVTL/qLhwSXByCVmsLkoJkkQWctGlsZa5SvV17qyaBKlb0FZVSaPIxlpUey49Qipedpw9Z2/rqUn+l6PXqvT8KmYbXZ3HnMF+5s4Kbhu3Z3lKqPPS9HKmzpoixSrp1HX69q5O3SqNlrgFJanLr9K/06fl0gXRP/JbiF5WviJx5kRpxH51LbllukQVFzRVmlBFtnRzXx3pciKncDszC42liii/iV6JJFfrb60gYan/VnU58zQ6/LJU/0iypM2zfPqjBGaOnh5iT2t9m6muMDeHOcjc1cGcX2NmRfbVlF/ucC6WvjJF9beo3+ki5dZgZ2f9TyRHNlUaeUCtFTxrbS6oIJukpJ427q6URlOYcoSNtYT2eLpSo6mf7OH2QLrPAgAAAAA8pPhHV8TOio/69ia78NhQ91e2nP44V/V28MIXRg4b2PrHr2Dg0FEvSD94e2/lxxl7XnEScmtv5q2MX7ih4v53BK0+crikmbJaobhwMDb+YEHmR7PE7uY6Ps/0SFP97JoL5/NPFhRf+NSD+bNfKTMcK7Ko3kX5Q0H+hYJYiZCqToopfotdLE6Yy9yVNiWtQwsVVXVEcYmiRodkFqTFb0+7kBku8XA115FRPXtZT13W+ojzOso65Oh3BSdPFvxwNNzGhCqJ+jBZ39jIyNbYHP2++AJT522z2IqkZ/NbOqE9sGbbTxRlsehgccHZ/IIfvp5OdTXETNeVp6t1Y91tJZsLLuRnM7Xa+7YZ1Vy6J42cqMv7cgo/uW+JDTmvx6aT2Sc/cqCo0m2RKdpm6zBlwQVmTUF+0hwRdSnqgwOtb+cVlg+Myi6u/Llskzu/pkU9TZKZlaUZt9gqL4q00dnbeyXSNj6xB9+15tczUdDKkvlefbXTt/+4yggl28hNnf2ugFRGmxGRSG4qPyOdOYbZdDQ5NvVodpK/h+RlimZ+ea2nSyyY35rDSuZBEdpvFEz2Fr4mYe4OAAAAAOCBeBjx79c9b+xKLP6DLfd3WheUuWe204h+7GJX+j3jPnvLheDwV/qzi3/8sHnXO9t/Zcv3z+PCQcz38i8Tk9UVWlpn5b8xXh4ituhlW4yZ32IPIXsXwjcW+zFZilYXco1ahLVkOskPlNDahoQOa4knuyhwnc6Gk9+byfc2nmBrU3F4V6q6nKmN5aJN2+VhnmZMbXpZz+wjKua7+J1FVtwWy0Vhs5mPoiPsQJ0cm9mzua1Cz9nk9bbm38lCFwrOkrZBx3cW2bGHCEYvCmBybqe6rrzQdUnU9rRNs4Q6WqvVVlRfJbtX19Qy3+/g+VfkKJlnazvdbTA5i1arGzuLjOFZyNaQY/VW6Nze/uzaqP9NRzXrqkvVBf/Dr2EITLo+FVcZM98AT+4/KIRucuXZ74pPhpD0OEhIVuYfiFFe0tCNQrePYjd9tMhuMLPO2m+xLZP/FEo2Q9ccUZxnorWvdAJZAgAAAAB4EPo8/v1RuTklRp/9ZuxZsWXhiN7+jS4YIU1fsWWOPgGuTUks485zn4jeiIhyF1EV6RE+4onjx44cLw7a2fb9tu5YmVnwJeZMZiTjVZRf5hbvisg7Uu7K1ObAKr9pk+zHjLKfFphYyNamd/XUVLPdPAVPtD5eq+dJIKm/y3kB+ROKyACfHIH5s12MMdN15Sm6KDlM8tKoUWPGO06cJF6W1fI65Z08/8vl5cz3opiZk5iTsF/+KSTUVlTzb+t1H9hYTGrkSy2cwk+ezL7wffFJuQtl2CmXCaWX2ZDW6X9ScJURsjmPIxCKhPzV7UK2BYwWaHPigiRuL40bNcZeGnGEv67IfbYdE30zSP9P7fHDhRRlPns628gJAAAAAPBA9HX8u6JauYF73e+xV2NXrHPvcdLtdgY4xa74fI4pW74Wu1j1C1u6T/pZzk3I/+G77MykiKWzHESNFcooadD+DiGhc7V0y0xxlI6d/Vw4iLRm3T2reQlniwtOKhIi353lKKLLVVFeQaQnYe/qKRrG9W1s7YBKaa+2Zq07J2Ab59qcsL5jgtLrovI6pUwacahU4LokXpF99rviyu2z+AMYvX/+w8zJW3lOESfP5J81/Nrjq39brztcDK6u1p+ZbYjUtvaeFZjP8yZtodrCAv73S1vLNuSOfa5Df1EGV5lbus5TtdBBpiz+oUCZGh0e4GFJhr0JkkScZzcN9/bz4Pp/ak9kFVGU7eL5rd1NAQAAAADuu76NfzdPrM39gS0NnOMVMedOsx9nwKvrJTO4tpWy3JhD3AuE90N5nio5Jib/NzMbV9+wzcl7Q0n/zPxzZGwOPjCUlPKNUZeKCrlCq1JFFj+qCnXpcNpPFGUy2eEFfsVd0FWolakx0Xk683GufiEbU/eEkMFH1OpiStdNPQ0I7OxInbOzVHydb5Vm5zBFob1dZxmmZ6KxE8iBikNkyjyCVimOc6X2uq68tpq0iHqs3RYiHmcmEgoKz7V01+zlfbGes7ExIScsFIh4dHn+ufJ6ZmUvmNvZCZmfZq6abyr8KdFrkuNEtw+VLU2NFaWkQY8aJHyCXbxVoj7LfHg4vMwuMnSa/JxSfqDUF2ztmOv+dESp//nTZAZ8bvxVbUlWRsInKeUDLR3nLJJtV24iaVdbUMjlcIF4Nsl/2cqUHDVFOXjPGM6uBgAAAAB4MPo0/tXmJ2dx3TXNQiImDGRLvVV7Onaf/mU/4YRQORdh/jiRlK8fO/Se6c6tj9ga578gNOGQSnkoRv4f8ue82J0MxWH+soOI+bM+I3iKJDg8UPLS4hxh+wxlRqdJpgXKwmXB06RxTK4Q+S4W312+ZQl0p+Wr4rYFLli2M0OZlRG9LoUEEk+xI7Ol63oaMp8XIhGROnv5xyQfSlw2U7qtiskY4Uvv9u0ym/lLHJmcowqd6hMaLgv1Ea8pHNza4dFQN5UXDmNKqujIFGWWShETEJjY0iDZ7X1ZWI4l0e70tvdl8gwNNcAjbIU11axaJvaTp6qUqVFe//JbtnTptnNk356N93iNqXjpkWxuFJxxvsHMReiMoEluPu/LyM9XHMOETtE8/9e4zq25hxXNzKNzdeR/oNoD/m4+/pKZW7keoa5LmcpQpdEzxcz9Jn/iN/XDHN11yuZF5ldEWJ0VKk+KXDg3KjmLqacsOos5wMzNif/tEXh4S0yokp1xSuZOfWZ30ZUWAAAAAOD+6Mv498uXBRfZwsCFU18jKaDXak8vdz6UGBb7ln64l6Hzp0q5BsCCgqwrbOHe2byrSPK3Fl7OkIcFB4XFZdNm4o+VmzzZ69iG75W7ikwo+pLqwOlBftvXSNoHH1vZrgjzi+kH9qvKdQLzORu/XnlvE6Bbh2QmLbIZUKGICg1aGrothzb3iDga7cHUprt6GhK6blLE+o0TlufERYRFKX6iyBmSvO8+Ywz3jk9b4iiktOoM5jZrPaM3zW8fgnldVl40V75RMpwq3x8ZtDT4g8NmG9a3dv7s9r5cwzbPEploCzPSE/artRRl9faeg+Ee5tfVCauCg1YlFjI7y9M2uXd4CJ3q5yB9k6l5UdphLnyK5iZlx/tYC29p8jPSD6hK6X5m4vC0Y2td2dPplIcymA+DeCYcZkGK5k/xK/jKUOR+I5LUWpGr7KAijEwVKBBHKyM9zOiixIilTD3TywdYByQpwlr6ePZzlc4TUky2NPGQuPSu8gAAAAAAd+tvt2/f5osPWv1X3vK13zKFx2bsWbfOvdfBk81+J/h+eSNWfxfMRsc/8oJXvneItCW+HC3bMf/e3rJrS0draV0/oWhwJ3+O6xp1ggHd/JlOjqVaB/64D9jaCISDhYL24450V882Gmntb1RnZ+hUzrLnAhR8uZVNeHbm23zY013X6kxFwl60bXZVeeYM5DF1XvNunz85neH6Xj+EduiMIPtQpdmSzKMhNq116+xsNSlejpGFFu327PQ3gb/dTn78t3T09S42AQAAAMD9o6vKSd6RlJZXraNENnMWy5Z4mHf995dOqz6wI0WhKtVSAnMn78Xv+LoZDh1/iy48EJdWwgQRs+khS9xElDYnLlrVfjQNM4+Qpa76ZoLGCuXO2D1Hiqp/o0TWs6XvLZprbdhqpKvOiovNIyNQ2PrK5z6MYR/6MP5dXPt06lekYLmu8m3+5b0etcl+w0Ny318wis+NukM7HYLZt63m+xRGv8iug/ug9IAspXX+BL02v9Z/CV1F0/a4/Z7oVdwFAAAAgIeIPi6bGpiuNZxTTeQatTdhLjvnWjud7EyJJAnKTe5sYKtRhS8IPsAP7mAty1YEWFAln7nNjG8f/1qbSSoSvWZGFbYdD9AmXJn5Nnt5uihhWbBcPwebJKGT6an7QN/Fv9rcd8ZnkXezhk3e+92cMdxKovFi3rXnnTqb/qHr7EcUH5rlcZqMzPiK59F0l6HcSgAAAAAAMEaNOcteCVAw4WHcktRY31G/5axeIFMyactBfja14wtQpdFukm1VlNBDfjDa26qfVimTBB3SUkLfg99F2FE54aMCDjRTVq4Ouhx1tT7+ZYeN8j9Emc+KkE1vfZVN+LyLoyWTZXTKpWODspiouCh1d4jjYKokQTrzs1Lm8lFnkueKNAkSN/klJo26DsvJKXl48a/v3v37/eYNrjCov8GgL43nVm5+Sxq/cPOV9sPmd5/9GEL9eWpvdjdZOQAAAAAA/OXpTqST7EfZRu4IcTQTiUZ7x2/yJQ156rhkdsC+tmqr2Zm93Ly9rQZQlEAk9mUHeqArytj2ud/7WQYkFRyNcDHou6mjG8mHzVRvsadHyxeb/RjcEPeUzWxfR5GA6iew8fElc4lRJaXshShK5Pax8lSSDxkS/+Hpu/jXmWu7d72zu57M4b6hbQLsMfsBAAAAAAC0yFeryMe46W4tk2m97MAGME3hRb7LpQEbB1fykZ9F5kZjol15HhlfkLJ2cSQp0G7tGaXMtd1gj9patuOnwESrjJEFBQaHf5KYXdUSYczsJ5MjS74+Us5OD0bnqQuYD6GLK5kNTjR3T36SD58UH6K+C1WP6xvr6vXNgBQ1dOHiLXP6s0WDBNjL7EfrzzOs/+NcAQAAAAAAjJKOrmM/rSzN2U+in6XVaPJZT7fvaUjy2KY0mYcZfSjgpfGOzvb202IqhLaLkvYsYg8XCttFP0KrYeOfMswtaGu6UqU6kBTlP9Ut/DgfXOzCFWQw+dKoaePsnR3tX1qaQVl6RKatdyNDSAg6O+FD0Hfxb9jgZ7hCrbay9fEPcIpd0SYBrjzcy3Y/XZmWvPjHGDEYL/4BAAAAABgzbe1VvmRA0M0gf3RFYeGPWhJMaG31deZTR1eo1T/wQaQzIrs3vMW2lm4hyWcvFf+Qn7x0HEU1aw98kljCbf+fIvVFDd1MzlRdQ85Da0rVhe2Hinm4+rBLpcWLr3CFyrw8bvJ3TtsEuPvb3vX5/OPcsUqu9PIEC64AAAAAAADGycyKe6muRmvQ0bO84kf2s2MIpDM+kEYpq3Q2QWkXfiqr/Ln46Aprii5N8FuQwL+q15GZ5CN5/EFl/NsOogECwXCHsE+WkKbCqpx85pBbpdHzg5Mv0SJP+cnvmROWXYifJdJplLIF4Tkd2x4fmj6Mf4Neduda6f7IO8H9GFoYJkBOj+/7/ZiXxWXIoU6v3M9J/wAAAAAA4M/H6nl2Hr2z6mL21TuitCifzOsgtH+Rn7+6hS5XqSSbPAKW2ApJOBRYBYVImM/mUsWRLtrrdLSWMOhIathF9PsjCpIbzea+483NNCicHhpAaqQ9kKEmy4+GPox/1DOv23PT893YfeyrWrbUyjAB9jzWy7V9x9K4525v7zmCLQAAAAAAgNEynz7bhvlozohOqCBJ4Rat3JFSzRSEs6ePJztQdMWBmJgDP5G+hoInuEFYThdeZD8ZFaXl7OcgYRfjs2jTF05ynDjJ7YMjfG/F8qzDpNuniaXVMy1RUJPfMswMXVrCBkmh8BFqrerL+EcNc/Tz5C6oiYk83zIAjB6bAOc/22P2o+jzG2VcJn/sVX9HvPgHAAAAAGD0LBatfZMde/Mz8Uv2bhMn2AdlMDlNJIkOcWQ7f2ZHicO3xoX/n6hsZsElWDaO+aCT/exnBsrC3/ebKI4hWU7kvXhWhzkCOWbeYXOYTbQiyPElZzdnR/tpZFo/yubDUDfm/BbcVqpwlZuzX2i4LHjapGAyEYWJ9dK3bNnjHwl9Gv+o/q+uduEmfL9xSBGVxc6b0cYAp+igHrIf1fhN8MFvuKa/US4hbbqMAgAAAACAsbKLUB4M9zAXULrrGi0TvYTWfvGKTe58D00rK7Z3qLUleUmwn2VAWjYZqJOiS1TpBzLUWkpoMyfi4FE5O1Bnp4RuG5RJ7zqYC3S0RkMGd2HOvy37oD/Xs5RsZa+uq87LOLBfVa4TmDstij9F5ot/dPzt9u3bfLFv/FG5+XOvDdfYcv8Ze1asc+/y+XamMS/4s/cO3WTLQ4Nzly/qISsCAAAAAICR0V3X0iZCUYdunDqayWzt15Kdbwk62btrXZ2fo6O1tE4gHCzsZtzRh6XP4x/j1z0eW2OKuYFb+jut8/9s4YhePWrdlTTfpKhvuez32JjV7+4NfJotAwAAAAAAQE8eRvwjb13GvrErkU+Ajw11d4hY5+k0optwfOuX41kbwtR5tfwhY95fvOMDS34eeQAAAAAAAOjRw4l/jDZNeYzHBo59fnHQJKdXzJ4eNpBvDNTduHZFc/b4mT0bfvxB1zJV4J00GN6x5rriL7fEppdeo558aop36MIZFk/yW+6fM7HSsw5p79rxix00NdQ1mQ550pRfvCt1OdEr486MDUsLnsQtbo3cferqTeam/COWOA0xYXcydGar9L9HbP5M8hS/DAAAAAAAfzUPLf4RjRe3J4etvcy9CNgrw54NSfRbYH9Hrwv2XvOV/YH++wb6hC+RPN+/Jj9ZvuGM9af7ZA73eXSZvLVuJ6dlyxz4xQ5OyafkOp/6yIlfvGN1uasDo2qt7evyTN89tnoK1ZQv9/60MeDzMMchdfnRyxNEEYplHUYfYi662yItyQfxDwAAAADgr8pkzZo1fLHvmf5zwst+Ac//89rlwuLfmviVXRCIpJ8ujIud+vLT99Qq1p2mY58uveTxRZzfC0P69xeKRk+ZaXnpk6T/6yp5iczU0fRLXvoX6V/n/vi//7AY/Q82EdadSU795e//pU79Qnnh/z1nb95QmLI7+chZTT+LsWak0bAuf3d69dC/X/hyx1cnvr8+7PnRQ9i6X8n9osryrSnmpEw1/PjNF0mHjxVWmpiNMReaUOWKDXtyf/r5F+3PN//5ypihnV63BxcLK1w/XPnK/x5RXLP1c7Ggmm+ZWovnuVg+2b//kNHP3fw6vc5B8iLXcbbuTGrS3qPZ3/9hPbhq/4W/e+vX85rryrL27/rqxLff1//z2VFD9RdvPerxoi2Kems7M7KlqUadunvvkTxyp5ZDTDEkDwAAAADAI+bh/5EuHPFa9PLcytUH08SL5piNHNbfIN71f2aU2Yz3xTtyV6srl4fPH/FgX/YrOHvGxdvboPnL1GXdsSQ/dlb5ytRA/+1Vw20n25sWynz/nVlHVjaU5yjWxx4fauc0om7X8qCQaPWQic72lGrl8gR2zkhd+al9n66JrRk+2d6aOrHcZ/2Zdhm34ZTc5+OioU5OziPrEvzf23+FogaNmmw1hBpiNdl+FJnQkLnue4obI52cnUxPf+C/Ib+HkMya9Ppi2ycNuneajpxkN5J9qs11xZmnbrxozd1j3ZfveX9aNtTedvKgk5Fbz7LrDDXkrvZdfoKyc3KazNQ+eHcZu7bNUat2Z+aXk0k4mq/sD/aP/YW5U9uBZ2XeK75hHxAAAAAAADxKboPevoXukSf5clu6HJn7iowb/FJZkvfMLZeYQlXKQr+ky+y6X79Y6PTxKbZ4O/9j94X7rrZbefu3rJWu72ZcY0qnIl3X5ZNVZTvn+ewsIyXGtbR3xTGFpHRynf4o5rozVh7RseXbt899Ln73K3ICAzfKjqtOk2t1UNXudphaObm6v7o46dJv3Iqynd7e2y5yZbaqC1N+5Zf0dDrdLa5Usk2ycF8VU2hzFFNn7ijdEZnT8qyWB7RznmQjeysAAAAAAPDoQBe9VkOHUVQzX26r5urVEXYv6geBsRo1tqHsMte8ZWLaeV/UJr6ZbtQItvGQ0d9m7MiGhgZ+iVVztabuS5mUE5ha3tDQbiJ85rpNBTt8+T3WH2eO5+a7b3EpXb72QFFvmtocPjp26lhWkqR85fytxeQ2a65qx9uN4zZST40ks1+206TN++KT95jLz/BcnsnXvM1RQ4YP5wrXaq6OGmfT8oDG2jRcrkT7HwAAAADAowXxr9VY6xHqvDzD7pVlyYHvp15hi3VXW0aouXmjiRo+dAi/1L2m1jzZdKNN9uPYhn6Rxvsqq7PhXoa8Lue3px3MOtVhaBaHD4+d2jij+7o01dc1cHdlYmox08eDKir+hV2kaq61ZLTmDt1Kb55Y+2ZK0/+RbU9J+yZr+/xnuLX/JTDp/KirdS0PqIlJuUNFvXtAAAAAAADQVxD/Wj3l/Y7r+c8/Si9nM1tT3fkd61MphykjKGqEveOTqsN5XHyrSleoHSfbs+UeVSlS1OxhDTkpX5pMsde3BbImujgW7Uvn4iVVtnvlhuM1XFnfCMlc1zQznb9ugyr6/eTSDimtZz/t9vf5NK+BPWfDpeMFDU89JWKKzNVLv1SwV2++sj81jxQM3bxxo3nEWNvhZAaKyuM5fDVtnd2vJMSdqGuimrRFCfqjnnKcMvC4IperaGX6vqJJLhPYMgAAAAAAPDIQ/wz0n/TB9uVPffOe+9SpU9w8vaOveHz++Tw2sI1aKA9u2CLxlEpf8/Q/bvPZh6923uezg1HuFkcDXmMOk6yveVO+cBS/mmPq8uE6++OB7mS7Z2DO8GmT2L6Uts4zL8pnvCbPvUmuG1DPXtfLU7KjZtoU615e19DYxfL59VtmeL7GXGXGB2UOMR+6kJE6mauveT7Tn7m6xGvNNRt2fkBDQ9zffP1K1CzS7dQ3ruFZPriaOvx7e6hpWqCv1HfVibEer3JrKauFny1s3MhUUvqae+Bx+3XcJQAAAAAA4BHyUOf9e2Q1NzU1m3byVt/NhrrmO5iQ/Wqy/0pqTZLf8B7mcb/Z0EA9+WQ3eel+TATP3FRDk2nHqzTVk4ubdpwIntPxlpmHQ5ny++esmfKlrWKLhO/oyVyi/t4rCgAAAAAADwRa/zpj0ln2Y/R/8q6ijWkPh/XvNvsxejpBr5h0kv0YpoO6zn6M9rfcVBjnL/GP/vL4idzM3f/edNbBY0rrS37MJZD9AAAAAAAeVWj9e4CaKs8UU7b8nHt/HU1XzysyT1yp6z98sscMl+cxxAsAAAAAwJ8D4h8AAAAAAIBRQOdPAAAAAAAAo4D4BwAAAAAAYBQQ/wAAAAAAAIwC4h8AAAAAAIBRQPwDAAAAAAAwCoh/AAAAAAAARgHxDwAAAAAAwCgg/gEAAAAAABgFxD8AAAAAAACjgPgHAAAAAABgFBD/AAAAAAAAjALiHwAAAAAAgFFA/AMAAAAAADAKiH8AAAAAAABGAfEPAAAAAADAKCD+AQAAAAAAGAXEPwAAAAAAAKOA+AcAAAAAAGAU/nb79m2+2GtlFVV8CQAAAAAAAP4k7ib+AQAAAAAAwJ8OOn8CAAAAAAAYBcQ/AAAAAAAAo4D4BwAAAAAAYBQQ/wAAAAAAAIwC4h8AAAAAAIBRQPwDAAAAAAAwCoh/AAAAAAAARgHxDwAAAAAAwCgg/gEAAAAAABgFxD8AAAAAAACjgPgHAAAAAABgFBD/AAAAAAAAjALiHwAAAAAAgFFA/AMAAAAAADAKiH8AAAAAAABGAfEPAAAAAADAKCD+AQAAAAAAGAXEPwAAAAAAAKOA+AcAAAAAAGAUEP/ASGnPq5RZ6vJGfrErugq1MktVWMMvAgAAAAD8eSH+PVp012ndLb58V3S0ltbx5b52z5XvQ1WJC6XBQf+pGDSAX9EVge60fGmw13spWn4FAAAAAMCfFeLfvSs9IJOFy+Ky7zkfaP87YIy9/ZhlqrvOb4WfuL00yX5aTCm//ICV7GduXLYth9z5vVe+L+XviiuhKDvJdBG/gtJVqaIDpc7Obs5iv/CdOdUtt2Htu3gCRZ1PTO6jhwoAAAAA8KA8KvFP11iZlx0bvNVr/JrJT39gx3+tmeWydeWG7HNljY9ypqhV708/sP9I+W/88l0T/kPEpBHRcJGAX3HHRE8zJxBYmbeEmger9hxz4+nKn8hP594r3x1Nij8TzJyj8vnle1R0JIOmKAepB/+g6OOhU9yCt6mKqjWa6p/UB6ICnGdGFfL9QkUzJLZMDZLTi7hlAAAAAIA/qYcf/+grX4V97jJyrZdUmXhIU1l7s4nfwLj5S5nmm83Kd1zWOoz8PGrflRv8+r8ogav87M9lZz9iwsZdMvdXVP5cnPRGH8U/Q/de+e4062qZYKapvT//DXApJ5tJf6Mn2/PPqSg6LENLiSTxBZU/l1V+rwwbR1EViatTNdxm0WRXK+YXVa0u55YBAAAAAP6cHmr8a7y4PX7amNi1+7Q95zqdNi0s1mV8/J6CnsbquBetPQCdxT6ylMLr/Pr8T5g1bv76PEBRannHxqhbWuUq9liv0OTzTLzg6PekixICxczWaYHp5bcoqkYl9yOLzl6RSv2wItWpAWTNJ2p+WadRxgR7kcPdpvnJDM7Z63reogtTZT7iTs7A7SnP01VnRbKXkC5LLaJ7fHOPqdInftOY/cXBCUWtZ2P0vvLU9aJkGXsSZzevwBhlVWum6/y+8qKc55O+mhSlWmZwCYOdpct2qrX6yvO3lkNnx5CryPP49S20JUXVzIedNRPqCE1JtdDM3GlJ2HQhWRRYLl0yi/ks+VEf9yyt7U0o6qeSkq5/9+jzKeHcD1TsF274JA1+BM5ewdFZGvZuacX7ZE34EYM8ez6GPBO/FFI3AAAAAIAH4KHFP92VNO/P3lp7+Rq//NjAsZaL1r118LuP1L9uKOS+Kj86mvtW+PuWYwT6atZejpn12Xu7r9yfRqD2qhK9pgZvU5XWi6xtRNqC/ZFe4lDSTMTU9rqmWqOpbf3rv2NjFK0IlQRlaKhGbXVRRoTUMSiLCzzcnoWxQdLoc3T9VU25SuYfFRcuCU4uIYvVRSlBkshCLi001pLOh9e5s2oSpG5BW1UljSIba1HtufQIqXjZcfacva2nJvlfjl6r0vOrmG10dR5zBvuZOyu4bdye5SmhzkvTy5k6a4oUq6RT13Xbv/FWabTELShJXX6V/p0+LZcuiP6R30L0svIViTMnSiP2q2vJLdMlqrigqdKEKrKlm/vqSJcTOYXbmVloLFVE+U30SiS5Wn9rBQlL/beqy5mn0eGXpfpHkiVtnuXTH2Xmm3Qy+2Syrzm/TFVXkadkbjaMW6QoK8vnme+l5T9zi+1VfyGdKI08kKdhKlNfpT6wSvoSXxld9mox+RHUCMytzQUVqm1L3bzIj0Aonm7NVPLAodZXJfMVKUxtRdOnt1QDAAAAAOD+ejjxj66InRUf9e1NduGxoe6vbDn9ca7q7eCFL4wcNrD13THBwKGjXpB+8Pbeyo8z9rzixDbNUNTNvJXxCzdU3P+OoNVHDpc0U1YrFBcOxsYfLMj8aJbY3VzH55keaaqfXXPhfP7JguILn3owf/crZTH5LU1AVFG9i/KHgvwLBbESIVWdFFP8FrtYnDCXuSttSlqHFiqq6ojiEkWNDsksSIvfnnYhM1zi4WquI6N69rKeuqz1Eed1lHXI0e8KTp4s+OFouI0JVRL1YbLBHAbZGpuj3xdfYOq8bRZbkfRsfksntAfWbPuJoiwWHSwuOJtf8MPX06muRkPpuvJ0tW6su61kc8GF/GymVnvfNqOaS/ekkRN1eV9O4Sf3LbEh5/XYxOS0jxyYJLYtMkXbbB2mLLjArCnIT5ojoi5FfXCgdfidwvKBUdnFlT+XbXLn17Sop0mmtLI04xbbq0gM+qyUMnEInm/Nr6HMzC2Z75rqWm6xrUaV/JMi5kFzlblwSSkbRzGViSbJTq3Yz1RpVvx5Zer25KMnEwI8Zjn2I5cXuEjEJhSlUiq5rH5L3e51RAAAAACA++5hxL9f97yxK7H4D7bc32ldUOae2U4j+rGLXen3jPvsLReCw1/pzy7+8cPmXe9s/5Ut3z+PCwcx38u/TExWV2hpnZX/xnh5iNiil0OZmPkt9hCydyF8Y7Efk6VodSHXqEVYS6aTAEEJrW1I6LCWeLKLAtfpbDj5vZl8b+MJtjYVh3elqsuZ2lgu2rRdHuZpxtSml/XMPqJivovfWWTFbbFcFDab+Sg6wg7UybGZPZvbKvSc7cZ8NP9OFrpQcJa0DTq+s8iOPUQwelEAk3M71XXlha5LoranbZol1NFarbai+irZvbqG5Ko7eP4VOUrm2dpOdxtMzqLV6sbOImN4FrI15Fi9FTq3tz87AzUZQf+KKmkWSbZvmzucX8cQdPP7madUMj8+j8UBo9nL9bMM2Ftw4VJZvCezOGgQ+U+L02lbVSUaWveEq2z7Rpm/LVk3wGPBPOZTpTzB5vZzqq+Y9Ofp+xrSHwAAAAA8MH0e//6o3JwSo89+M/as2LJwRG//RheMkKav2DJHnwDXpiSWcee5T0RvRES5i6iK9Agf8cTxY0eOFwftbPt+W3eszCz4EnMmM5LxKsovc4t3ReQdKXdlanNgld+0SfZjRtlPC0wsZGvTu3pqqtlunoInWh+v1fOkOav+LucF5E8oIgN8cgTmz3YRVrquPEUXJYdJXho1asx4x4mTxMuyWl6nvJPnf7mcvJZXFDNzEnMS9sufnZevorrlxTmBSQ+/V0xq5EstmOwnCVVqRW7yPZvcSUbT07DXox43YZfa4nqKUgMMmq0HCIX8dIK2YfFM/NZmbw2e6Ww/ZvTYlwxe9XT0nM1cQ/k1aSXMzzrM3KnY06W3/xgAAAAAAO5cX8e/K6qVG7jX/R57NXbFOveeJt1ub4BT7IrP55iy5Wuxi1W/sKX7pJ/l3IT8H77LzkyKWDrLQdRYoYySBpHOe71RS+vHX6EoHTv7uXAQac26e1bzEs4WF5xUJES+O8tRRJeroryC0kltelVP0TCub2NrB1RKe7U1a905Ads41+aE9R0TlF4XldcpZdKIQ6UC1yXxiuyz3xVXbieDrPB6//yHmZMX5JwiTp7JP2v4taf1/b1ucDG4urrtmSvS/fXZL2ke2zbbSqshDbnWlvq3BQ0Ne4p90LcMRqw1IHQIP3qp+IIyeVP4IvFoJvwavOrp4O3HHEr6f7ITUQh9F3gg/QEAAADAA9S38e/mibW5P7ClgXO8IubcafbjDHh1vWQG92dyWW7MIe4FwvuhPE+VHBOT/5uZjatv2ObkvaEkA+SfI8OE8IGhpJRvjLpUVMgVWpUqsthWIMalw2k/UZTJZIcX+BV3QVehVqbGROfpzMe5+oVsTN0TQqKHWl1M6bqppwGBnR2pc3aWiq/zrdLsHKYotLfjcuGdEo2dQA5UHCLvqBG0SnGcK7XXdeW11aRF1GPtthDxODORUFB4rqW7Zi/vi/WcjY0JOWGhQMSjy/PPldd31jrXkbmdnZD5aeaqW8fYZLLfv2TZnWc/iqoqLGDu2czVseXJ6TT5OaXc8J6CF+3Ie4m5SiX/XKjCKLeXHMXyPB1VU6o8lCg/UCEc7SB5Ozw+c6OE2awtLOD/18JaPIfkv+y4I9lM+psz27H7LtAAAAAAAPemT+NfbX5yFtdd0ywkYsJAttRbtadj9+lf9hNOCJVzf4j/cSIpXz926D3TnVsfsTXOf0FowiGV8lCM/D8kzondHZjv5i87iJi8kxE8RRIcHih5aXGOsH2GMqPTJNMCZeGy4GnSOCZXiHwXi+8u37IEutPyVXHbAhcs25mhzMqIXpdCuh96ih2ZLV3X05D5vBCJiNTZyz8m+VDispnSbVUU5RC+dAK/w52ymb/EkYxWEjrVJzRcFuojXlM42LCHZKtuKi8ko2mqoiNTlFkqRUxAYGJLg2S392VhOZZEu9Pb3pfJMzTUAI+wFdZUs2qZ2E+eqlKmRnn9y2/Z0qXbzpF9ezbe4zWm4qVHsrl+mFrVMpL9mMSuK45bzM4kwX7583MwkDFpmN86d1d2+BmG9oC/m4+/ZOZWdugbC++wOeRBB5HKZCSEif+1U0NrLW1eFFADNYp/RyWsWuz1Cbnf5NUbFWR/V0d9P2Gb132Zcyp2JlZTZn7eD2bKRAAAAAAAvb6Mf798WXCRLQxcOPW1ljH1e6P29HLnQ4lhsW/ph3sZOn+qlGsALCjIusIW7p3Nu4okf2vh5Qx5WHBQWFw2bSb+WLmJDOBBUbbhe+WuIhOKvqQ6cHqQ3/Y1kvbBx1a2K8L8YvqB/apyncB8zsavV97bX/PWIZlJi2wGVCiiQoOWhm7Loc09Io5Gk96B3dXTkNB1kyLWb5ywPCcuIixK8RNFzpDkffdjiwz3jk9b4iiktOoM5jZrPaM3zW8fgnldVl40V75RMpwq3x8ZtDT4g8NmG9a3dv7s9r5cwzbPEploCzPSE/armaRm9faeg+Ee5tfVCauCg1YlFjI7y9M2uXd4CJ3q5yB9k6l5UdphNnz+Vl3O9QNtprVklg79Fz9lRGnaPibmGcYz4TAL8hTNn+KepdBtgyLex1qoZSoTKj9UQY32jT9FhnhlYuqmryPEFnRhErnfiP0VwnGLkr4M0cdIJgrOljJpvJkUxC3jjAIAAAAAPBh/u337Nl980Oq/8pav/ZYpPDZjz7p17r0Onmz2O8F3rBux+rtgNjr+kRe88r1DpC3x5WjZjvn39pZdWzpaS+v6CUWDO8kSukadYEA3GYMcSwlFwt7FkN5gayMQDhZ2GHyyu3q20Uhrf6M6O0OncpY9F0AaqdqyCc/OfJsPe7rrWp2pSD+6SXe6qjxzBvKYOq95t8+fnM5wfa8fQjt0RpB9qNJsSebREJvuH4s68iWfFNpj44XtZG6MFp38JtzS0ddp6onOngz5ETA1v5+/GAAAAADQgi5NT9iSrijVUk+YOy4Ikc215cbk74xOq05P+OKwktv5df/gN13NDf9Iu0WXfJW4bd/hEi0leNZhwXvhfhPatvzoNNlfxO36Ul39GyWynh3w4RL9YPWlB2Qpnc2jbbtA7k0aAG7RhQeioveQA5kzS/2X+LmSsfH7Uh/Gv4trn079ihQs11W+zb+816M22W94SO77C0bxuVF3aKdDMPu23XyfwugX2XVwH3T+W2vmEbLU9e4bDh9BXefqtpDcAAAAAB5t5UnSmWQeZgOWvqkHIxzb99dj0NkysX+7wQVFs5KObnTjdr5VkfAvifx8m5NZvZl8MMKBPxmdEy4OOGAwkzZzvH78iM7bUShqVtLPG92YM3uJ5Zf4VRzRvIRjctdOqvnA9F38q819Z3wWeTdr2OS9380Zw60kGi/mXXveqbPpH7rOfkTxoVkep8kYGq94Hk13GcqtBAAAAAAAI1KVONMtqoSJUp7yvRGugvKUIL+4kmZK9Gba2YgOb2OVxjjPjKumhOS9oTcsqeuqD2YGK7SU8M20C+zO1TslzlGlzMnEn+5Z6yIo+0+wTzxZ9EvLjyQjaOiywxz9D9GUifXS5Fg/K92JyAXhWVrKxCHqVPLc4dqSrKLWwQWZs2WtkTNbhb4Hv4sQxLjN3KphD9wVYCOoVX34r3+rmG2ShPzevsF0P/Tdu3+/37zBFQb1Nxj0pfHcys1vSeMXbr7SfjK67rMfQ6g/T+3N7iYrBwAAAACAv6qStBQyUrzQd9MmbyuRyNwhZPcaEuS0KbuUjewehq5y00S7SOdZCvpRApGH3xzSwY3+iRsLojQthYztJ/SJjn/DUiQyc1yxi0192uT/kLmaqUZVGpP9KMpuza4wBzORyHLupmg/IUU1q2PJaBEiG08PccuXi2lJHjmr3YoldlRF9hEy6oTNitgwB5FQKLR6Y+NKD2YFrUhnz9xX+i7+deba7l3v7K4nc7hvaJsAe8x+AAAAAABg9DT5eexgfp4uLXNoiSa7klnHmk+rv+dWGHjRwY0dT15xnI0auop8NqHZuJBx/imNOps92YzWQfVFjm7srGB5ahIyz6mVZMFa7KJ/K6qfg4ML+aw+X9K2RylVnRqjYC4i9A2by+xMa9n+ooNaXygSmD/F9vo8XdjZRGcPSt+Fqsf1jXX1+mZAihq6cPGWOf3ZokEC7GX2o/XnGdb/ca4AAAAAAADGhKavkw+bZ0ni41lYsQOt0/X17KIhkfemtHCxBa0IsH/J0e2l8eLoCqGdf8Jef3aMw+s0m0GsLUeSD47Vc+z47OzJdDe4M1paGYx/bzWGzYf1dJseiY050XGkIdFuxRI2l5pZs3XKT0kvZ+eOpq6rktmGxE6r+eD0XfwbNvgZrlCrrWxt5hvgFLuiTQJcebiX7X66Mi0/efaIwXjxDwAAAADACNVqr/KlVv1M+UIn6PJzhSU1JI7QNRqa+dQxa04X/8ZuvKY1fHOPZzBMYK22Zc7qVgKTTt7ca9v0xxDNDfElpdKYaePsnZ0dX5oYXG7xECb+6sMulRYvvsIVKvPyuMnfOW0T4O5ve9fn849zxyq50ssT9JNoAwAAAACAMbGyfJ58VF816HqpqShnPx8n/TzboDM+9IpSVd+yXppWUPlzWeX3yrBxFH0p0WdBIgl+Iy3ZJjqNxuBk1VXsZAMmpL+huQXb0Ef9T63BDuWXSSsfZXit9k1/rAkRxw6Giy2FTOCspoWOK9J2L2bbEM3M72hG9HvUh/Fv0MvuXCvdH3knfmQLLQwTIKfH9/1+zMviMuRQp1fu56R/AAAAAADwZ2FmxcY/+lxhS8Od7iL3Np2DLRvmDOiyv1aRT/fFS7mp/ASWS9+bRQqXDiurKOoZSyuS4uiCwpZWPl1JIZvuJtqOZb5b2bCnVKsvkg9WaaGafAjt7MzZZUaHpj+CTJ1tNnvtwXwSO79Txr9tW5zDVublDtV8kPow/lHPvG7PTc93Y/exr2rZUivDBNjzWC/X9h1L43qQ2tt7jmALAAAAAABgbBw9Z5EkV5oYfYTtRKirSIhjY9UEj1fZ8KXNS4zeqdaSN+4EwgFkDXW6sIB7AY+iyn9iG/eoQcInyDguktnkZCWJG5XsK4W6nxK3ZZGCnSc7BbbFdAnbYVOxJa6cTSN01q5kJjdSwtc89JNMdNr0R1EFG8UTJzlOlETls9Wkz0dFH2I+hX5vuJLlvtKH074zbp5YvHY522o3cI53ZuwEgxkgOI15YcmVge90n/2Yh7XypfRvyAN/7NXY1Z+3aTYEAAAAAAAjoj3g4xjONcENN6Ous2/0mVjLlIoAS4rSJM50JrMC2nyUnelvRlUkzhRHlTQzu1qLPW0EVTkKNenHKZqXcEruSt7hq0n3mSLLZ3YwEYqeomj2ZNS48KMHF1lxWe585ERpCjlGIDQfTFXXkDAnmpNwLJqfvb2Em99P5Hvw2wg7g/hH5iecyl6aOVRA6dj0aHhg3+jL1j+K6v/qahduwvcbhxRRWR0n4hjgFB3UQ/ajGr8JPshmP4oa5RKC7AcAAAAAYMREc7/Ij/exFprwo7kILDxkaXtI9mMMthxLmu1EY59jmwItFx08Fus3TkjRpcr96ST7Ca0lH6cd47IfY7h36il2h2Zay57M3CP84B599mNwr/BZMAGOJtnPRGjjE/v1Bn2EozO2xZGOo44hS9pkP4bFooNfR5ADKTb7tTuwr/Rt6x/jj8rNn3ttuMaW+8/Ys2KdO9cC20uNecGfvXfoJlseGpy7fFEPWREAAAAAAIyCjtbS1BMivodni1s6Wqfv9tmCWXmdrBa1TsTXFnsy4WChoF2Ka9FIa3+juj6+a9yB3Zz5Qerz+Mf4dY/H1phibuCW/k7r/D9bOKJXD013Jc03KepbLvs9Nmb1u3sDn2bLAAAAAAAA0JOHEf8oiq6IfWNXIp8AHxvq7hCxztNpRDfx99Yvx7M2hKnzavlDxry/eMcHlh1eHQQAAAAAAIAuPJyuk0LL4Iyg8Ff4uf6uHf/2vcmrXDz+s+fQ95W1N7jX+gjdjWtl33+z/T//Grlq1oJv9dmvv9O6oN0PKvs11xWnrwmSMvzf3/pNVQO/+r46EyvdWsiXO9PUUNfQxJfvVl1ONHMXsWf4RZ72m486ruT8ovh397UCAAAAAIA/uYf25pxghDR9xX9WP8tNBciEwBvF38cE/8dr/CcOT39gx32N/GSay39Wrv3+Bx0X/Chq2LMhGSu29LKz6B1rvrI/ULpSbeEn3749Zvm0hlRfX7ma62t6P/2/a1qDjNvRmS2STWf58t2oy10t9dl/YyhVd61NiqzL/HhHwc12K/WaG/6n+1oBAAAAAMCfnMmaNWv4Yt8z/eeEl/0Cnv/ntcuFxb/10N4lEEk/XRgXO/Xlp035Nfdd07FPl17y+CLO74Uh/fsLRaOnzLS89EnS/3WVvETmlW/6JS/9i/Svc3/8339YjP4H23BZdyY59Ze//5c69Qvlhf/3nL15Q2HK7uQjZzX9LMaaPUm25+9Orx769wtf7vjqxPfXhz0/eghb9yu5X1RZvjWFmxey4cdvvkg6fKyw0sRsjLnQhCpXbNiT+9PPv2h/vvnPV8Yw4biT6/bgYmGF64crX/nfI4prtn4uFvzahm8+ef/X1997Tn31WYOV5d98sYu5+i9/f6pZ/U29vb5Wek1XT+1PPnA0u6V6rNajhjUoEwqeYOtJNdeVZe3f9dWJCxV/mL8wYiC/LwAAAAAAPCoe/riZwhGvRS/PrVx9ME28aI7ZyGH9DeJd/2dGmc14X7wjd7W6cnn4/BEP9mW/grNnXLy9n+KXGKYu644l+bGzylemBvpvrxpuO9netFDm++/MOrKyoTxHsT72+FA7pxF1u5YHhUSrh0x0tqdUK5cnlJPtuvJT+z5dE1szfLK9NXViuc/6M+0ybsMpuc/HRUOdnJxH1iX4v7f/CkUNGjXZagg1xGqy/SiSqZjrvqe4MdLJ2cn09Af+G/J70yl00uuLbZ9sl74a8jbuoMI/mqFvbGUVbfUJVjRZ204e2ZD8efpVfm2rsl3+vjuqnmKqN7wq1j8yl2sINTxqzfp935T8D1nboF7vv/wEZWdvO7o+xX/+1mJ2ShMAAAAAAHiE3Aa9fQvdI0/y5bZ0OTL3FRk3+KWyJO+ZWy4xhaqUhX5Jl9l1v36x0OnjU2zxdv7H7gv3XW238vZvWStd3824xpRORbquyyerynbO89lZRkqMa2nvimMKSenkOv1RzHVnrDyiY8u3b5/7XPzuV+QEBm6UHVedJtfqoMrgdnT5cu/3DpJDmbq1rFR9YHBTzEX5Whm4pdPxF7+RsZw7sO1RTJW4o5hn4r3l0i1uLXlc3OUAAAAAAODRgVnzWg0dRlGdt1nVXL06wu5F0p+TsBo1tqHsMtv+R5mYdt4XtYlvphs1gm08ZPS3GTuyoaHNWDI1V2vqvpSRcWYYganlDQ3tJsJnrttUsMOX32P9ceb4dq/nXUqXrz1QxNWlS0U7on72Dn99CL/Iq7lWa3BTFhaj+JKB+pLMHSuDpNIZntLYi9yqtkcNG843ll69evVF27F8k6Pp6OdH/HSlilsAAAAAAIBHBOJfq7HWI9R5eYbdK8uSA99PvcIW665yU9Uzbt5oooYPbRemutDUmiebbnQyjqht6BdpvK+yTn3kxK9uNeR1Ob897WDWqSQfg76phMOHx05tnNFtXWr2xynqfkl/n42Qa09RudHSf39Zw24yuKlmfWBtVZ4QHFk4YuFnX6R9k5UV7sitNKVMujiq9lpLCm242fDUkDb9TAEAAAAA4KFD/Gv1lPc7ruc//yi9nM1sTXXnd6xPpRymjKCoEfaOT6oO53HxrSpdoXacbM+We1SlSFGzhzXkpHxpMsVe3xbImujiWLQvnYuXVNnulRuOc6mspRGSua5pZjp/3QZV9PvJpb15+a+t4a9/nqZI2c4JnUA5LN6+esbwtjfVoE5VdGitu9HQMGT0i1ZP9me25+We51YOd3Efnhm3u+wmE4OvZO7SHzVhskupIrOSLTfk7fvG1MGxza0CAAAAAMBDh/hnoP+kD7Yvf+qb99ynTp3i5ukdfcXj88/nsSlm1EJ5cMMWiadU+pqn/3Gbzz58tZfjj45ytzga8BpzmGR9zZvyhW07WJq6fLjO/nigO9nuGZgzfNokJpVRlK3zzIvyGa/Jc2+S6wbUs9f18pTsqJk2xfouxj01HTSkBZPlmEWS6NibevOqfAa5qcBDgyZ26Pxp+/rCoQeDmcpJJe8VDRzDr31q3uebp5RHvimVBu5ocJrBH9X/1fAoW1Wg5wypdIbXlgY/eYAVtwEAAAAAAB4Vf7t9+zZfhBbNTU3Npp281Xezoa7ZdMiTvY1gV5P9V1JrkvyGN9Q1dXfYzYYG6kkuknWuqYcT3Isezs1svmk6ZJDh5qamJv3Dqdzt+15DeMa7Y9kl/mSDnjTFrA8AAAAAAI8etP51xqSz7Mfo/+RdZTDTHg7r3232Y/R0gnvRw7mZzW2yH1WnWCmZvyIh80Tu8fQNq9JveDjpsx+DPRmyHwAAAADAIwmtfw9QU+WZYsrWbuSDSm4PS8OPJzJVRVU3h4x6dcbMCcP/arcHAAAAAPAXhfgHAAAAAABgFND5EwAAAAAAwCgg/gEAAAAAABgFxD8AAAAAAACjgPgHAAAAAABgFBD/AAAAAAAAjALiHwAAAAAAgFFA/AMAAAAAADAKiH8AAAAAAABGAfEPAAAAAADAKCD+AQAAAAAAGAXEPwAAAAAAAKOA+AcAAAAAAGAUEP8AAAAAAACMAuIfAAAAAACAUUD8AwAAAAAAMAqIfwAAAAAAAEYB8Q8AAAAAAMAoIP4BAAAAAAAYhb/dvn2bL/ZaWUUVXwIAAAAAAIA/ibuJfwAAAAAAAPCng86fAAAAAAAARgHxDwAAAAAAwCgg/gEAAAAAABgFxD8AAAAAAACjgPgHAAAAAABgFBD/AAAAAAAAjALiHwAAAAAAgFFA/AMAAAAAADAKiH8AAAAAAABGAfEPAAAAAADAKCD+AQAAAAAAGAXEPwAAAAAAAKOA+AcAAAAAAGAUEP8AAAAAAACMAuIfAAAAAACAUUD8AwAAAAAAMAqIfwAAAAAAAEYB8Q8AAAAAAMAoIP4BAAAAAAAYBcQ/MFLa8ypllrq8kV9sS1eex2wt0t7ilwEAAAAA/gIQ/x4tuuu07p4ih47W0jq+3NfuufJ9qCpxoTQ46D8VgwbwK9oS6M6tD1oqDTyg5VcAAAAAAPz5If7du9IDMlm4LC77npOC9r8Dxtjbj1mmuuv8VviJ20uT7KfFlPLLD1jJfubGZdtyyJ3fe+X7Uv6uuBKKspNMF/ErKF2VKpr8HPnbsZm/yI55nrtSmN0AAAAAAP4aHpX4p2uszMuODd7qNX7N5Kc/sOO/1sxy2bpyQ/a5ssZHOVPUqvenH9h/pPw3fvmuCf8hYtKIaLhIwK+4Y6KnmRMIrMxbQs2DVXuOufF05U/kp3Pvle+OJsXf2c3ZOSqfX75HRUcyaIpykHpwD0pXnhowZWrwNvJz5G+HGj5dMoGiqlLSzrO7AAAAAAD8+T38+Edf+Srsc5eRa72kysRDmsram038BsbNX8o032xWvuOy1mHk51H7rtzg1/9FCVzlZ38uO/uRLb9858z9FZU/Fye90Ufxz9C9V747zbpajaZaU3t//hvgUk42k/5GT7Znn1N1knTaqhzadkmAK7uVJ3J0s2R+PfPPVfArAAAAAAD+5B5q/Gu8uD1+2pjYtfu0Pec6nTYtLNZlfPyegs7H6rg/SA/AQKkzaWgS+8hSCq/z6/M/Yda4+adq+GVKLe/YGHVLq1zFHusVmnyeiRcc/Z50UUKgmNk6LTC9/BZF1ajkfmTR2StSWcPvWp0aQNZ8ouaXdRplTLAXOdxtmp/M4Jy9ructujBV5iPu5AzcnvI8XXVWJHsJ6bLUIrrHN/eYKn3iN43ZXxycUNR6NkbvK09dL0qWsSdxdvMKjFFWtWa6zu8rL8p5PumrSVGqZQaXMNhZumynumWYFv7WcujsGHIVeR6/voW2pKia+bCztuKWbw1zC087mxbiMJhb5lm9YMd8L79Q2mXm7PrxdnH7tOJ9sib8iMEpz8eQR+GXQqoEAAAAAPAgPbT4p7uS5v3ZW2svX+OXHxs41nLRurcOfveR+tcNhdxX5UdHc98Kf99yjEBfzdrLMbM+e2/3lfvTCNReVaLX1OBtqtJ6kbWNSFuwP9JLHEqaiZjaXtdUazS1rcmzY2MUrQiVBGVoqEZtdVFGhNQxKIv7i5/bszA2SBp9jq6/qilXyfyj4sIlwcklZLG6KCVIElnIRZfGWuYq1de5s2oSpG5BW1UljSIba1HtufQIqXjZcfacva2nJvlfjl6r0vOrmG10dR5zBvuZO/m2LG7P8pRQ56Xp5UydNUWKVdKp64q4rZ27VRotcQtKUpdfpX+nT8ulC6J/5LcQvax8ReLMidKI/epacst0iSouaKo0oYps6ea+OtLlRJLumszOzEJjqSLKb6JXIsnV+lsrSFjqv1VdzjyNDr8s1T+SLGnzLJ/+zP0Tkt62FXILhkZa2jDfS8vLucX2unm8Xd2+UDzdmqnbgUOtb0jmK1KYSoqmTzfnVwAAAAAAPCgPJ/7RFbGz4qO+vckuPDbU/ZUtpz/OVb0dvPCFkcMGtr47Jhg4dNQL0g/e3lv5ccaeV5z4P9Bv5q2MX7ih4v53BK0+crikmbJaobhwMDb+YEHmR7PE7uY6Ps/0SFP97JoL5/NPFhRf+NSDySBKWUx+a2NaUb2L8oeC/AsFsRIhVZ0UU/wWu1icMJe5K21KWocWKqrqiOISRY0OySxIi9+ediEzXOLhaq4jo3r2sp66rPUR53WUdcjR7wpOniz44Wi4jQlVEvVhsr6xkZGtsTn6ffEFps7bZrEVSc/mt3RCe2DNtp8oymLRweKCs/kFP3w9nepqiJmuK09X68a620o2F1zIz2ZqtfdtM6q5dE8aOVGX9+UUfnLfEpLEKI9NJ7NPfuTAZLJtkSnaZuswZcEFZk1BftIcEXUp6gODgToLywdGZRdX/ly2yZ1f06KeJpnSytKMW6T68Z/tPWNOAqKmupZbbKvzx/vZRiWTvbu+fYGLRGxCUSol2Y1xS932LUQAAAAAgAfoYcS/X/e8sSux+A+23N9pXVDmntlOI7r6E5zT7xn32VsuBIe/0p9d/OOHzbve2f4rW75/HhcOYr6Xf5mYrK7Q0jor/43x8hCxRS+HMjHzW+whZO9C+MZiPyZL0epCrlGLsJZMtySfQmsbEjqsJZ7sosB1OhtOfm8m39t4gq1NxeFdqepypjaWizZtl4d5mjG16WU9s4+omO/idxZZcVssF4XNZj6KjrAjW3JsZs/mtgo9Z7sxH82/k4UuFJwlbYOO7yyyYw8RjF4UwOTcTnVdeaHrkqjtaZtmCXW0VqutqL5Kdq+uIQnrDp5/RY6Seba2090Gk7Notbqxs8gYnoVsDTlWb4XO7e3Prgv9TPlCZzo+3oNnC374PlY8oLvbpwZ4LJjH/HKolCfYuH5O9RWT/jx9X0P6AwAAAIAHr8/j3x+Vm1Ni9Nlvxp4VWxaO6O3f6IIR0vQVW+boE+DalMQy7jz3ieiNiCh3EVWRHuEjnjh+7Mjx4qCdbd9v646VmQVfYs5kRjJeRfllbvGuiLwj5a5MbQ6s8ps2yX7MKPtpgYmFbG16V09NNdsPUfBE6+O1et6a+V5/l/MC8icUkQE+OQLzZ7tILV1XnqKLksMkL40aNWa848RJ4mVZLa9T3snzv8x2yCyKmTmJOQn75Z9CQm1FdcsbdAKTHn6vmNTIl7qiqSBXMXmcW2qrk8crGCwUcP+L0c3tM/nZczaT/5Rfk/6f+VmHmdViT5fe/hsAAAAAALgHfR3/rqhWbuBe93vs1dgV69w7n3S7awOcYld8PodrlbkWu1j1C1u6T/pZzk3I/+G77MykiKWzHESNFcooadD+nkICr5bWj79CUTp29nPhINIGdPes5iWcLS44qUiIfHeWo4guV0V5BaWT2vSqnqJhXN/G1g6olPZqa9a6cwK2SavNCeu7TlBdVF6nlEkjDpUKXJfEK7LPfldcuX0WfwCj989/mDl5U84p4uSZ/LOGX3t8e/MGHReDq6t7+snWaEiYtLbk3xFso5PHa6jLnx3DwduPOZb0/2TnnxD6LvBA+gMAAACAvtC38e/mibW5P7ClgXO8IubcafbjDHh1vWQG9/dyWW7MIe4FwvuhPE+VHBOT/5uZjatv2ObkvaGkf2b+OTJMCB8YSkr5JpxLRYVcoVWpIosfVYW6dDjtJ4oymezwAr/iLugq1MrUmOg8nfk4V7+Qjal7QkgIUauLKV039TQgsLMjdc7OUvF1vlWancMUhfZ2XHC5U6KxE8iBikPkZTWCVimOc6X2uq68tpq0iHqs3RYiHmcmEgoKz7V01+zlfbGes7ExIScsFIh4dHn+ufJ6ZmUvmNvZCZmfZq66+8E2qwtJi525k0NLpNRVqbP5X4GOj7dI7mY/URyVr+vm9jnW4jkk/2XHHclm0t+c2Y7d93wGAAAAALhP+jT+1eYnZ3HdNc1CIiYMZEu9VXs6dp/+ZT/hhFA5F2H+OJGUrx879J7pzq2P2BrnvyA04ZBKeShG/h8S58TuDsx385cdREzeyQieIgkOD5S8tDhH2D5DmdFpkmmBsnBZ8DRpHJMrRL6LyWtgd0ugOy1fFbctcMGynRnKrIzodSmkI6Kn2JHZ0nU9DZnPC5GISJ29/GOSDyUumyndVkVRDuFLJ/A73Cmb+UscybAloVN9QsNloT7iNYWDmRjViW4qLxzGlFTRkSnKLJUiJiAwsaVBstv7srAcS6Ld6W3vy+QZGmqAR9gKa6pZtUzsJ09VKVOjvP7lt2zp0m3nyL49G+/xGlPx0iPZBqPgdKBRHi5lftfc3EjMI7Tp/m5+/jMl0eyANy2Pd6pPFPt4FyRU0dpnbcYKurl9ns3rvjZMkN6ZWE2Z+Xk/mJkSAQAAAAA66Mv498uXBRfZwsCFU18jKaDXak8vdz6UGBb7ln64l6Hzp0q5BsCCgqwrbOHe2byrSPK3Fl7OkIcFB4XFZdNm4o+VmzzZ69iG75W7ikwo+pLqwOlBftvXSNoHH1vZrgjzi+kH9qvKdQLzORu/Xnlvf9Zbh2QmLbIZUKGICg1aGrothzb3iDgaTboJdldPQ0LXTYpYv3HC8py4iLAoxU8UOUOS990PMjLcOz5tiaOQ0qozmNus9YzeNL+LhsQuKy+aK98oGU6V748MWhr8wWGzDetbO392e1+uYZtniUy0hRnpCfvVWoqyenvPwXAP8+vqhFXBQasSC5md5Wmb3Ds8hE71c5C+ydS8KO1w171hS9P3MDHPwlfakpafEJkzz87E3GwIu6h/vFp1Ivd4rXxiz7IDqHbzs+NZzCanbSYFsT5dAgAAAAA8aH+7ffs2X3zQ6r/ylq/9lik8NmPPunXuvQ6ebPY7wXexG7H6u2A2Ov6RF7zyvUOkLfHlaNmO+ff2ll1bOlpL6/oJRYM7yRK6Rp1gQDcZgxxLCUXC3sWQ3mBrIxC2DCvSqrt6ttFIa3+jOjtDp3KWPReg4MutbMKzM9/mw57uulZnKhL2om2zq8ozZyCPqfOad/v8yekM1/f6IbRDZwTZhyrNlmQeDbHp7LHkr7L3SaXFmwvi2UDHu6XTNQsE7S7V9ePt+mcHAAAAAPcTXZqesCVdUaqlnjB3XBAim2vLjcnfljZ7a8wRduT5tsymhyxxYxtJdFWqbet3kfNQIps53kvf8rYZzO7CuaUrV8Vt23+k8LKOEllL5gcHvGZteCFdVU7yjqS0vGpms82cxbIlHuaGfzq2O3zRh0u5weH7UB/Gv4trn079ihQs11W+zb+816M22W94SO77C0bxuVF3aKdDMPu23XyfwugX2XVwH5QekKV0nP3dzCNkqevdNxw+grrPZiSg3hLc1yAPAAAAAA9EeZJ05idFbUa3t/RNPRjh2L6/niZhppucfZGnLWtZtiLAgqKPh04NyGgzPKDAVpaZFsBO2Ubdqkj4l0R+vu0o+uPCjx5cZMX+PUkfl00NTNcazugmco3amzC368NFrvKDSd69Gbzwfum7+Feb+874LPJu1rDJe7+bM4ZbSTRezLv2vFNn0z90nf2I4kOzPE6TkT9f8Tya7jKUWwkAAAAAAEakKnGmW1QJE6U85XsjXAXlKUF+cSXNlOjNtLMR7d7G0pXn5Zbz6YLQFe5allREUQ5RZ5LnPqEKGh+sZA5kziOfPowuSQj223aJyYbhJzMXMQlNlxU8ZqmKWQ5I3RXmIKJK47wkMcyFHOX5qfNEVGPOslcCFMzJxy1JjfUd9VvO6gUyJRMlHeRnU8nrV9pU6cRVRZSJ9dLkWD8rQX3umn/9W8VslySUbWJnAu8bfffu3+83b3CFQf0NBn1pPLdy81vS+IWbr7SfjK777McQ6s9Te7O7ycoBAAAAAOCvqiQthYwUL/TdtMnbSiQydwjZvYakPm3KLmUju0crgZWTh9iz5cu69jTp9Cb0CZrL5LM8JZP9KJNZG5jzCIVCM4ewT5aQdrnSlDQmBDKhQ8MOG2E9e4GDSMCcy9p3wRSyovhHsl53Ip1kP8o2ckeIo5lINNo7fpMvaX1UxyWz7Y21JlZz53nP/Xh9mAOzWWT1xocB7BgQ5RX3MjfbHeu7+NeZa7t3vbO7nszhvqFtAuwx+wEAAAAAgNHT5Oex8cnTpWUyLdFkVzLtVvNp9ffcis7pjm/cRoKZbVgwGWpee/1/yNoBgwa1vBk03IztlqkpLCEdQrm5AKgfDyu56d6un1aTueCEbk4kxuWrVWTluOluw8kn8bKDG/nQFF4kh9vMk0fJ5VHz9OP+VRxR/Mh8iO52Vra71Heh6nF9Y129vhmQooYuXLxlTn+2aJAAe5n9aP15hvV/nCsAAAAAAIAxoenr5MPmWZL4eBZWNuSDrq9nFzunSY4h01kLfUL82MAmsrIkjXX04eQjXBDRle9PyWdL9TTbTGUb/nW8r82AUvm0sS85O740MVhBWYo/TttABp/X0XXsrlaWrS/y9bO0Gk0++cN5mmR/N2dH+5HTokoGWEui90Te7axsd6fv4t+wwc9whVptZesDGOAUu6JNAlx5uJftfroyLXnxjzFiMF78AwAAAAAwQrXajiN59jPlC11r1/RHTFgiI0VaEWT/kqObs739tBTKxrBl7pa2IK+wmnQo1dEaLd3M7KspOVVYfYtZo63tZEBRQedDDNZqqmvYuKPTVBdWaMnhfacPu1RavPgKV6jMy+Mmf+e0TYC7v+1dn88/zh2r5EovT7DgCgAAAAAAYFSsLJ8nH9VXDQbs1FSUs5+Pm7AfnWjf9McSzf0iP97HViig6Bpt/bPe8Yo1bO9Nyvwp0uuzJEYalFpKD/GIyi6u/LmssiBWItJVq2T/Wp2jo8ysuNbHGq1BPcorSPdOJo6y33lmAZllzOE/ZMvFQrowNfj/rOs46P4D1Ifxb9DL7lwr3R95J7gH0cIwAXJ6fN/vx7wsLkMOdXrlfk76BwAAAAAAfxZmVmz8o88VVrPLDN3FQjIYDOVgy/YB7aiTpj+GjtZep+zf23X2EhPPii8cjBDrCrPJe4XWdi8KKKpUmUEWzN8InmvBzlkw2CNsEXmRT7v/cD4TQ59nX+o7qy5uac0rLconk0AI7V8kbYi661oGrR+NRmDhHeZLZoTQHjpMXiHsK30Y/6hnXrfnpue7sfvYV7VsqZVhAux5rJdr+46lcT1I7e09R7AFAAAAAAAwNo6es8g7e6WJ0dw7e7qKhDh2FJYJHq9ys1bXqBNiEvNr2DLRadMfRV0/HDjJceIke/8DbAOeTnNgfRyJkRO8XyOdDYVCdhbB6nOF+vY9uqSEHXVGOGgQEwunzyZhszkjOqGC5JRbtHJHCkmkwtnTxzMf2q+W/v/27gQqiiPxH3hvyDJL1HEDGYMJRxQwBjQGMCoEOUQJ8NTREEYNhASUBMQbXRGMiMqIRsSo4IFiRIjK/D1GCI4oAkrAC4gH5gCCCAZ+zILrMIQdVsK/L2CA4RAVNfP9PB9UV3dXV7fZ9/xudVeRjVuP+SSmmIkxihLJGXoOGUM9ppv9ox+XfSc1nJ+3bjk9ajdopntK9FilFSAY9dmB8aV+X3af/QjZtZAxotPUc3tpUvSaLe2GDQEAAAAAQI1Ij3pYB+VSJa6uHnG/gpppRcM0WCKml2uviOU7CG9S67NfECst36dhFXExfpZy/CMUGcEOPkfocMfhcBQKKm60tdO2KDzH0MrZSk+Rf0ryK3WI2eqMFB9qfC8/zNrtIHU651U9blOFlEqjPH6sZJsjFRwVmcETfUTUbg0ubyhHUUl/Pah0QP/oz9E/gtCatMaOWfC97oQ4IrXjQhzUGGCkfw/Zj6g/HXCMzn4EYWK3FNkPAAAAAECNMd/smXI1CFkVlf04hk7BSYeYzEbN6GlGja7xzIyGkL8e3t75NTU2yPNc2j77kTgO6yRxPlQ7BJ392rdDcB23nksKcjbkKMpyxUdEZPYjc6Dvrhwm+5EsQiXHgpz0OYTiPp39uKZeu8St0Y5jL2ROJ5pkUnrmGLr9fs1+pP4d/SP9WfrNFrdNNXRZy+XQinDHAXS5l+qzA75edKKBLusEZC2f20NWBAAAAAAAtaCQkanrFR63U75QyBQcLv3BXq9Q7ZAn8Lo6hdmv6kIMxX2pTKOn07ve/1T1e/wj/X7IaUfULWbiFi2bcJ+vvQ16deuKu0mecRE/MNnvpZFrFn7n9wZdBgAAAAAAgJ48i/hHELKS6I/37WcT4Es6jlah4a42BqqWxWA9vJeeuikwN7uaPWXk4nl7Vhp1+nQQAAAAAAAAuvBsXp3kGgUk+wd9wK71V5P+w6IJX9k5fXvoxE+l1XXMZ30URV1N0U+nd3/7ybCvpn36Q0v207IJ9z/wtLJfU+0t0Vp/Acln8Y7TZXK2+om6HC3Y0d3sro3yWnkjW+6r2sxI8i6iL7ObLOnp1Z0rGffE/+q+VwAAAAAA8IJ7Zl/OcQwEohXfrnmLWQqQDIF1t36KCvjW7b0NVm+stGD+DNswxe7bkHU//axggh9BDHlrafKK7b18WfSRNd094icIyTX0Eu7eHbV8ijzR01OYy7xr+iT9r0aqlHE7u7ydv+0KW+6L2qw1Ao8jdTpEbU27FFmbsn5PXkOHyhZN8n933ysAAAAAAHjBaaxdu5Yt9j/N18e+7+X79us1d/Jv/dHDeBeHJ9jsHRM9+f03NNmaJ67x3OYFN50Oxni9o62lxeWNmDjV6OaGuP+z54+h1pVvvJctOij6PuuX/7xmOOI1euCy9nJ84r1//j038aDk+v+GW+rL8xMOxJ+5UvGy4Si9gdT+nAOicp1/Xj++5+T5n+4PeXuENt33u1kHy4w+n6hPlQn5L6cPxp06l1+qoTdSn6tBFIs3Hcr69bd70t8aXv9gJBmOVVy3BzfyS+xXhXzwnzPiGnMvO2qVEor89IbFv3+0aHhu5VtKlcWnD+4jr37vn0Obck8/sGzpVYvGyotH4o+ezWjtHq3trCFySWzeK3Q/iabaotQj+06ev17yp/47BoPYYwEAAAAA4Hnx7OfN5BrMiFyeVbrmWJLz3Jl6w4ZoKcU7rTdN9FwWO+/JWpNbujxojsHT/dgv78plO3f3oewWSdMu/FycF72qfGmin8/uMl3zCZaa+cGe/0qppSrlxZnijdHpOhY2BrX7lvsvjczVHmdrSaSFLI8tpvYrii8e3rw2ukp3gqUpcX65x8bLHTKu/KLQY32Bjo2N7bDaWJ9FR+4SxGCTCcbahLbxBEsTKlOR110krhtmY2ujeWmlz6ac3rwUOv6jeeYDO6QvefbWPUTQapeWwVZawQ6PAHGjqfmEYfL4LaJKtrZN0T4fzz1lQ8nu6ZZF+4RlMQOhymet3Xj4dOG/qVp57kaf5ecJC0vzEQ8SfObsuEUtYwIAAAAAAM+TZmhx2Nsx7AJbbk+RGey4IrmO3SqKc5+6/SZZKEvw9oq7Q9f9ftDbZv1Futics97R+3Blh8rmP1JD7Bcm15Cli2H24TlUVdHe2R57i6gSqSZpoXNUPlW6EN5yFnldl5AzCrrc3Hx1i/PCk1QDSuqK0tMuUdfqpEzpdhQ5QvdFx6hTyb61VqatVLop8qJsr5Q8VCjYi9clL2dObH8W2SXmLPKZuG+/+ZCppR4XczkAAAAAAHh+YNW8NjpDCEL1mFVVZaWBxbvU+5wUY5NR8qI79PgfoaGp+l3URnaYzsSAHjwkaZmNGiaXt5tLpqqyqvZ4MDXPDMkvsVgu77AQPnndxrw9nuwRG9PJ8zt8nndTJFx3tIDpS5cK9kT85h70kTa7yaqqqVa6KUNDE7ak5EFhyp4Qf4HAxVUQfYOpan/WEF12sLSysvJd81HskKPmiLcNfr1bxmwAAAAAAMBzAvGvzShTg9zsbOXXK4vi/RYn3qWLtZXMUvWkhrpGQlenQ5jqQmNbnmysUzGPqPmyg0msk6kXV9uw1W20PxKy+5OOpV6M81B6N5Vitercxa0u3fal6kiMuPaeaDEdIdddJLIiBf86XkXvUrqpppbA2qY4NiAs38D764NJp1NTg6yZSk1Co4uzqmtaU6i8QT5Uu917pgAAAAAA8Mwh/rUZ6v6l/bUtq0XFdGZrrL22Z2MiYTXRgCAMLK0Hpp3KZuJbmUicaz3Bki73qEyckEufJs9MOK4x0bJlLJA2zs664LCIiZdE0YGQTelMKmsdhCSvq5kiYq8rT4tcHH+7Nx//taf70ZYkccJuxrKxhNW83WtcdNvflDw3UdxptK5OLtce8a7xQC1yf3bWNaZS185RNyXmQFEDGYPvpuxrOWvsBLvb4pRSuizPPnxa08q63a0CAAAAAMAzh/inRGv8yt3Lh55e5Dh58kQHV/fIu05btsymU4yJtzBAvp3vKhDMcPVJN/t61aRezj9q4mh41ncGeRp/Y9VnQu/2L1hq2q0Kt0z3c6T2u/pl6k4ZT6YygjC3nXpD6DJDmNVAXdf3AX1dN1f+nqopE037MO+p5mDtVmSWIzepREff1GeVQhfqpvxODB7X6eVP84+8dY4FkJ0T8BcVDBrJ1g6dveWbicVhnwkEfnvkNi7sWVqTgiLM0/xcXQQCF7ftci+hrzGzAwAAAAAAnhd/a25uZovQqqmxsUlTxVd9DfLaJk3tgb2NYJXxPiHE2jgvXXltY3enNcjlxEAmkqnW2EMDj6OHtsndDZrag5V3NzY2tjyc0gOei+RByQtH0VtsY4MHamLVBwAAAACA5w9G/1TRUJX9SFoD+5TBNHs4Tavb7EfqqYHH0UPb5O522Y+oFYfw56yITTmflS7a9JWozsmmJfuR6MaQ/QAAAAAAnksY/XuKGksv3yLMLYY9reT2rMh/OZ+SVlDWoG0yyWXqWN2/2u0BAAAAAPxFIf4BAAAAAACoBbz8CQAAAAAAoBYQ/wAAAAAAANQC4h8AAAAAAIBaQPwDAAAAAABQC4h/AAAAAAAAagHxDwAAAAAAQC0g/gEAAAAAAKgFxD8AAAAAAAC1gPgHAAAAAACgFhD/AAAAAAAA1ALiHwAAAAAAgFpA/AMAAAAAAFALiH8AAAAAAABqAfEPAAAAAABALSD+AQAAAAAAqAXEPwAAAAAAALWA+AcAAAAAAKAWEP8AAAAAAADUwt+am5vZYq8VlZSxJQAAAAAAAHhB9CX+AQAAAAAAwAsHL38CAAAAAACoBcQ/AAAAAAAAtYD4BwAAAAAAoBYQ/wAAAAAAANQC4h8AAAAAAIBaQPwDAAAAAABQC4h/AAAAAAAAagHxDwAAAAAAQC0g/gEAAAAAAKgFxD8AAAAAAAC1gPgHAAAAAACgFhD/AAAAAAAA1ALiHwAAAAAAgFpA/AMAAAAAAFALiH8AAAAAAABqAfEPAAAAAABALSD+AQAAAAAAqAXEPwAAAAAAALWA+AcAAAAAAKAWEP8AAAAAAADUAuLf80VxX6Z4yJb7RCGTyhRsub89ducBAAAAAOApQvx7fLePBgcHBcdkSNntPpP+P9+RlpYjl6T1Ob/lb3AYM95yStRtdvspKzxC3njwzkzqzh+/8wAAAAAA8FQ9L/FPUV+anREdsMPtvbUT3lhpwf5ZO81uR8imjKtF9c9zpqjOPSI6euRM8R/sdp9xX+PxCIKny+OwFY+M9wbZAMdYn/zZH6qvkjcukvxK/e08fue7U5HgY+tgaxuRw24DAAAAAMAj+1tzczNbfEZkd0+GJUUdltax213g8ARCQcAcg0Hs9nMkc8lwXzFhGpwh9jVkq9RERqCJzwnCLCgj5Qs9tuopKds/1SGikJgW99tWB7YKAAAAAAAezTMd/au/sXvXlJHR63rMfiSFNCkw2u69XYfy6tmap0FRlhbpJ7ClBpqcPYIT8u+z9TkbyBoHn8QKdpvIFXYejHoolXxFn+u2LP6ajK1sPVJWEOvnTO6d4icqfkgQVWlCL2rT1i1MUsUeWp7oS9VsyGW3FRWSqAA36nSHKV7BSm32up8PZfmJwR7OKlpgjhRmK8pTw+hLCJYkFsh6/HKP7NIGrynk8c4BsQVtrZF633nifkF8MN2IrYObX5SkrG1oV/V9ZUfYzokppEppS5QuoXSwYMneXGlL59lby5RlRFFXEWaz9cpk1xKCmOfv7BXU/sbbdtkK/KPSyuneFe7gkzVue5Xeqq0S+ZPHTAnLwNuuAAAAAPCCeGbxT3E3yf3rz9fdqWG3Xxo0ymhu+OfHflyd+/umfOZP6eqzWZ8HLTYayWnpZvWdqGlfLzpw9+n8i7tsv9vkgJ1ptx/wTM140rwjYW7OyzLo2KK4X1FeUVHdljwV1RVkTbVSP2TiZXz/5AqiXlpekBwqsPZPZQIPc2R+tL8g8qrsQWVFcVqwT0RMED8gvpDaLC9I8OeH5TPxo76avEr5fabViliBg/+OtMJ6npkpr/qqKFTgvCSdbrO3/ayI/8Ta7StRThm5T1aeTbZgOXVvCbOPObI4YZntAlEx2eeKAvFXgsnhBcxe1R7ejuQ7+MflFlfK/iu7JBR8GvkLu4fSy86X7J86ThB6JLeaumVZYVqM/2RBbBm1p5v76kyRGTaROZjcqL8tjvAa57afytUtt5YXu8BnR24x+TQ6/cdSflAwThB2NLuCPPdBWe7RrwRjWs/NDJ5M7sqVct4y1eeUSHYE2AqoXWaO9kRFRX7CGTqFUqTpIklFxYMJTg5P5W1XAAAAAIAn79nEP1lJ9LRdET800Bsv6Th+sP3S+qy0LwK83xk2ZFDbv6Y5g3RM3hGs/OK70vXJhz6w4TK1Ddkhu7w3lfQ8YPioys+cKmwijFeIrx+L3nUsL2X1NGdHfQWbZ3pUUf7W2uvXci7k3bq+2YnMEZLgqJy2MaWCB3aSn/NyrudF87lEeVzUrc/pzVuxs8i7kiYkdR6hKjsjvkkQI5am5CXt2p10PSWI72Svr6Bm9exlPxWpG0OvKQjTpWd/zLtwIe/ns0FmGkRhxKr4lsFGUkaF2dmfbl0n+7xzGt0RUQa7RwXp0bU7fyUIw7nHbuVdycn7+fsPia6mmOm687JyxShHc/43eddzMsheffeFHtF0+1AS1VCX92UTdOHwfDOqXadtFzIurLYiiNs7wxKkTaaBkrzrZE1eTtxMHnEzYuXRtul38osHRWTcKv2taJsjW8OqTxNuKCCfC3Pu9ZuS4NEEeW4kPWdNTrKIbIK/M+9sfHTi2Yw4Hyf++4SM/G/N9EO+IfmXfEpC3hdFelpMRmXuDD7ZGQAAAACAF8OziH+/H/p43/5bf9JlLZtw/5RD020MXqY3u/Lym47Tt18PCPpAi9788+dv9n25+3e6/OT8gzuY/Fl8fH98bolUpjD22bpLuNTZsJeDO3pe85y49F1wP57nRWYpWW4+M6hFMeV/aET95pqaUV/JmfJd6U2O/Yd0OPlvE/WznVfo3pSc2peYW0z2xmjutt3CQFc9sje97GfGmTTyp/OXc42ZPUZzA6eTvwrO0BN1MsymT2f2cl2nU9/UNf2X2uhC3hVqbND6y7kW9CmcEXN9yZyrUted59rPj9idtG0aVyGTSqUl5ZXU4eVV1eTPR3j+JZkS8tmaf+jwKtWKVKoYNe1DHhn56B4yjD9fNkvludkSCfm0neb5jqD3vmzk+13e9ZtFu1ypzcFc6v9kyDkaJblZIavnOqyO3rZ6rsWrZJ2p1zxzMv+JJXTkrTojvkYmYU/BWGoLAAAAAOCF0O/x78/SbxKiWrKfy6EV270NVP0bXRWOgUC0YvvMlgS4LmF/EdPOE8L7ODTCkUeUiEI9nMe9N2rYe87+e9t/39YdY722eV94elTGKym+w2z2Cc89TGhP9uboV15TxluONLGc4rc/n+5N7/pZUU6/5sl5pe3xGr9tSv580Md1AdkGedQEnwyO/ltdTDHadecJWUF8IH+MicnI96zHjXdektr6OeWjPP87xcXkz4KoqePJRug/PglUqC0pL6f3kzgaqv+7Ki+jb2OA0ijzAC53AFu0WLqTjIXSzBh/vsOY0SYjLQWhZ9i0zHOcbkGenky9/ylNP5VPEPrTP6THJAEAAAAAXgz9Hf/upoVsYj73e2lS9Ipwx5Z/dvfWAJvoFVtmatLlmuh5affo0hPystGs2Jyff8xIiQtdMM2KV18iiRD4H2kbK+tWtaxl/hWCUNCrn3MHU6NZfWc8O/bKrbwL4tiwhdOsebLitAg3f+rVxN71kzeEmYyz7QVUQlrZlrUeHYcenGvX4ANplw+ni84rJMGC0BO3Ofbzd4kzrvx4q3T3NPYEUu+f/xB9ffKnTeiFyzlXlP8c8qTquzVkKP1cHjbSW51wrYIlt37OkyRGBvk6GVGz1PjzQ6/Ru3TdvZyY9z+l51MLCMJ83hwqTgMAAAAAvCj6N/41nF+X9TNdGjTTLXTmo2Y/xoBJG/kuzNBNUVbUCeYDwiehODstPioq5w89M3vPwG/iv1tGvZ+Zc5Wa7IMZNysvvM0ORt0syGcKbW6LU9lZVYibp5J+JQiNCVbvsBV9oCjJlSRGRWYr9Efbey3dmnhoqTFZm5t7i1B0008lHAsLqs8ZqWlsnx/ezsgki1xLi74t0sAbNZY6UXwimW1QliZOZ0oddd15aTk1Iuq0budS59F6PC4n/2rr65q9vC/acDMzDarBfA6PJSvOuVr8gKxUSVGRk3mbmd6T864FNWSXJZG0DCzmRziMsXYWZivIgFyYmhy7IaF4kJH1zLnBuyXbqHAqzctnYjPHeTqV/zIkCZm5BGHl7qJLVwMAAAAAvCD6Nf5V58SnMq9r6i0NHftoK/hVX4o+3PKxH3fsMiETYf48H5fTMnfoY1Nc3Ri6I8bn02WxJ9IkJ6KE31JxztmRmttD/30rHpl3kgMm8gOC/Phj5mVyO2YoPVkSf4pfcFBwwBRBTDmZljznOfct39I4ikvCr2J2+n26ZG+yJDU5MjyBet3R1dma3NN1P5Xpz17K51F9dvOJij+xf8lUwc4yMrQELejr52pmc+Zbk/kqbdlkj2VBwcs8nNfmv8pOx9NBN53nDiFLaZFhCZLUNHGUr9/+1gHJbu/L0GgUFe0u7VwcLEyuIAY4Ba4wJZrSljh7CRPTJIkRbp94LVmwYOdV6thOpEd9HDx8+FN30J/tGboHzqSeiz91bnJsoPMneytkUiOzdznkf1nlqcuEcWHesyLiU8lmgyNTyRP0HGzYv2yOkztfgyjcGyMhO+YxvYs3XwEAAAAAnlP9Gf/uHc+7QRcGeU+eQaWAXqu+tNz2xP7A6M9bpnvRmTNZwAwA5uWl3qULj89soTjOx5R7J1kYGOAfGJMh03NeL9lGzwhCmAd9J7TnaRCym2lHLw322r2W3zH4mAfvC9W/ITp6JK1YwdGfufX7EHN2T9+YLk2Jm2s2oEQcscx/wbKdmTJ9p9CzkU5kb7rrpzKu/TZxtNdobnFmTGhghPhXgmohzr3voUXXfVfSfGsuIc1NJm+z2jVy25wuBhK77DxvlnArX5coPhLmvyBg5Sm9TRvbXv7s9r7sA7+ZxtOQ5ieLYo/kSgnC+ItDx4Kc9O/nxn4V4P/V/nzyYGHSNsdOD4HCHWJI3bT+UObWuQ6bxLs8TLlS8txlwhMlxAjPXRepGVmp8b1ISZiTnqxgf+gCsllR8QBT3zhxYOs7ni/bC2ZziSaC0HDi26m8FgAAAADA8+tvzc3NbPFpe3DSXbjuB7Lwksuh8HDHXgdPOvudZ9/UM1jzYwAdHf/MDghZdIIaS3w/MnjPnMf7yq49hUwqU7zM5b2q4t/3inoFZ0A3/+6nziW4PO6TiwZ0bzjcV7mcjpOjdtfPdupl0j8IVS2olLlkuK+YLbcxC8pI+YINe4r7UoUmr3W6lG501XmyBeoxqe55t8+fak65vrcPQcVf3EOF7L6MeEXVjdC7yCs9yb9IAAAAAHhKHsoKT+7fefhUoZTgvGX16aIgr7EqX1K7fTQ4oW2m+Dbmnwrd6Sn9FOWpMcL9VDsEz5Q/J8B3hikztz+rvkSyN/rQmYLyP8j9031XzVc9TX1VZuT2NHoGi9aW25GmR0Wm0/vf9YyY3a/TSfRj/Lux7o3Ek1TBKLz0C/bjvR61y366S7MWf2rC5kbFib1WAfTXdnM88iPfpevgCVD9vwo9p6UL7PG2IwAAAAA8Zx6WxH7CF15rN7m98Wfxx0KtOkVA1eMcBDEt7retDoQsI9DZ50S7eQc5Y4NSvptrzCTAkv1uUyPy212H57A5Ke7jDi/EycR+lkuoJdhITMvtyZL9LZdRS5GRZsaWRtrTpX7Sf/GvOuvL91Kpb7OGTPjux5kjmUpK/Y3smrdtVC3/0HX2o9w6Mc3pEjXz5weuZ0V2OkwlAAAAAACoj/K9fNuI22QSc958aJ0dp+jbAI9d1KZXUk5YxzkvpIWpBa3rhJHKU9cKU6UE1/PYj6FmqQEjF5ChjWpnkxPvQeF+f6+YwqbWl+Ck8QJrakL40fMToz1NOLLzYZ8GkedqTIv7aauD0gih7Myyif4tcyWqiH8yyWKHtv39Hv/679u//zbUMYXBWkqTvtRfDfnmc8Eu72/udlyMrvvsR+K2tFPd0N1i5QAAAAAA8Bd1OymBmt6P6xG562MjHk/PesU+OvVJ479N67TaNc/M1cm59Y+dZmE2NdZnsWK+BUFknKEH7GYKyXa4XK6+1dJN9KdPhQkieiZ6KcfYfdZs94iNS631eDye0awVc6m3OptKipWXoqvPFK4hsx1v1mwntqY9RWYEvd99lur9T13/xT9Vag7s+/LAA2oN903tE2CP2Q8AAAAAANRdRW4GPZG8S9s0+DxrB2r9MCI7V9UCYm3KE6PEZN7gegbO4pHp7sG/qUouu9Q1hVlqmqgouEWFRNNZQmGEUDir5Uu94jOnqPZ5FpZvMhUkRUZ48FEpwZ22NljllIT1maErReR+/rqgDx9jjYDH0X+h6h8tg3UPWoYBCULHe972mVp0USkB9jL7yVraGaL1D6YAAAAAAABq5L6MTg2mRsPoTZrxcDqiyR48oDdVq8+MjKGGDS1WzLemXt3kmYygPhWUnTjErg6tKDmakEuXHsj+oH8zKhJ8bB3GvWcyJeI2d/S0bd+FWrS++XktYuURKaHhtG69k8qZZ/K3UOGQcFq77kOV+/tD/8W/Ia+yubhaWto2zDfAJnpFuwQYcqqX436KIik7zmrwKj78AwAAAABQPzVS5W/5WMpzdXah/dAfxeLLIGqNa2peFstxtg5j3nOO1zClh//aa1JUV1RI6biiqKjIL26ZKubh7cgVCeSG9frOS8TRbkYtOUiGQ6uItdOeWfjr15c/Dd/9gCmUZmczi78z2ifAAz/07p3PP6+eK2VK7481ZAoAAAAAAKBOhhnRyyqQgYzepJWX0csDaHT9hmDHoT+arnvixWgvcy6nSSaVyow/jv5+LTMpi96Q1+jfDMO5Kb8Vlf5268JmJ+79gnh/PjUfDEEUx67aWUYQo4MiZquaLf9hyc5VMWRSNVslnKXL1j0T/Rj/Br/vyIzS/Zl9/he60Eo5ATJ6/N7vl+xUJkPq2HzwJBf9AwAAAACAF8SbRsYa5C9ZXj79CSBFUZhPRTtinPkoeruzzkN/JAUZ+jTMF+zL+ZlMdz/lHVvv9N+rmdTQoqmFxQB6XWgpSaZ4yBzO0f94mRf1jaH05PcFZP7M+J6+6M0I2+Emw8g/vsnUJpHsM9xk6t4K4l6mhN5fuMGB2jvcxOcEvf+E77Dh/FgyN/aXfox/xJsfWTLL89UdOHeymi61UU6APc/1UnP4XBLzBqmlpasBXQAAAAAAAPXyshV/OvUqZeH+rZL7VIXi1/07U6mChSu7aLU0e3/k3lwpG9u6GPqj3voMGDfeetw43/gqalNRJhIyh82ZTr0Cev+UP7l3vKVbbAkTQxS/npHQo4z6+qqG+55X/bjsO6nh/Lx1y+lRu0Ez3VOixyqtAMGozw6ML/X7svvsR8iuhYwRnaae+0uTotdsaTdsCAAAAAAA6qNK5DExOKeJIDS4vKGErEJGxYTRQWeP0cu1V+yfahtRSBBmqzNSfOiFHKIcpu6oIHiex35QmrWFVJ8ZNMmXmpqFIDgcjkJBp7zWdghFRrCDzxF6N5en/4qivIr+ZI03Le7sVofOH/OlL6MHAFUt+07LCKQHAP/C6/5RtCatsWMWfK87IY5IraeLygbYRPr3kP2I+tMBx+jsRxAmdkuR/QAAAAAA1Bfzzd5oLtEkk1LZj6PvFHTsEJPZCOJVo1HU4Bxv1HB6jE6WvDOGek3Ueun8dtmPNMA+QhLrS7ZDRj0q+7Vvh+A4rJMcC3LS55CNSOnsRx8gUZX9nmP9O/pH+rP0my1um2rospbLoRXhjo+05EV9dsDXi0400GWdgKzlc3vIigAAAAAAoA4UMqmM4L7K5XTIdQ8VMgWH2/vQQbVDnsDjqlq6j9TT/udav8c/0u+HnHZE3WImbtGyCff52tugV49OcTfJMy7iByb7vTRyzcLv/N6gywAAAAAAANCTZxH/CEJWEv3xvv1sAnxJx9EqNNzVxqBDTFf28F566qbA3Oxq9pSRi+ftWWnU6dNBAAAAAAAA6MKziX+kdkN5pJcGjXp7nv94mw/03hgyiB0MVNTV3K24kn750KZfflYwwY/0KAOGj6yp9tbx7dGi2zXEwKET3Zd5uxgOZPc8OZejBVeskhZasJudNMprGzW1B2qym31SmxkZEnN5VGBSwHiCuCf+19LEO+we4q3Z2zd/1GG1karjKxZVfkwfDAAAAAAAf1HPLP5R6m/sjg9cd4f5ELBXhry1dL/Xp5aP9Llg7zXdPeLnc3iQR9B8/ttaVTnxwk2XTTcfDrZ6wrPLZK9zuDAlI9iK3ezkonBilu3F1Tbs5iOrzVrjF1Ftalmbrbnw3JqJBPHLHoGQWBPlzrwqq6mlPbDjHd094uPzqzd9MAAAAAAA/EVprF27li32P83Xx77v5fv26zV38m/90chWdoHDE2z2jome/P4bjzUq1p3Gc5sX3HQ6GOP1jraWFpc3YuJUo5sb4v7Pnj+GWle+8V626KDo+6xf/vOa4YjX6PxUezk+8d4//56beFBy/X/DLfXl+QkH4s9cqXjZcJQeNWhYm3NAVK7zz+vH95w8/9P9IW+P0Kb7fjfrYJnR5xOp9UMIQv7L6YNxp87ll2rojdTnahDF4k2Hsn797Z70t4bXPxipo/K6PbiRX2K/KuSD/5wR15h72RkSxE9p2+veD/rwbS2a5t/Z4wh5cUr8gRPn8qq5ek2XTrMHK6stTkkkD8ilOm+krcnMstNURd9m9k//G869vuf72pFj9KlePXo/AQAAAACgXz37eTO5BjMil2eVrjmW5Dx3pt6wIVpK8U7rTRM9l8XOe7LW5JYuD5pj8HQ/9su7ctnO3X0ou0XStAs/F+dFrypfmujns7tM13yCpWZ+sOe/UmqpSnlxpnhjdLqOhY1B7b7l/ksjc7XH2VoSaSHLY4up/Yrii4c3r42u0p1gaUqcX+6x8XKHjCu/KPRYX6BjY2M7rDbWZ9GRuwQx2GSCsTahbTzB0oTMftR1F4nrhtnY2mheWumzKaeHkEwb/9E884Ea7AapsrRYu7HoyOZF/osij1yml7EkNRVEeS76vsF0gqVxTfyWw/QSJu3Iz6+es/wCYWprY0523ucAfUtEbcpSn7Bi7QmW5jq5wuUHTmcWy6lqlc8HAAAAAACeK83Q4rC3Y9gFttyeIjPYcUVyHbtVFOc+dftNslCW4O0Vd4eu+/2gt836i3SxOWe9o/fhyg6VzX+khtgvTK4hSxfD7MNzqKqivbM99hZRJVJN0kLnqHyqdCG85Szyui4hZxR0ubn56hbnhSepBpTUFaWnXaKu1UlZ6+38fm572Ka4zMLKOxfiVvAdQ1KpG1GkBtssp0ukhxfDHFXcu+KPlkvf2D7dO+F3svDzbnf37TcfMrU1x+Y7eh8s6/L5AAAAAADA8wSr5rXRGUIQTWy5varKSgOLd1smgTE2GSUvusOMb2loqn4XtZEdpjMxoAcPSVpmo4bJ5fRQWYuqyqra48EChl9isVzeYSF88rqNeXs82SM2ppPnM+vdt7opEq47WtD9WNtQx4Vr/uVtZ6prONF782qXvOOnKwmiRlppMtqMvSUNgxEt3VTSWJOTuG6Rj8DN1WXlafYS1TWV75qPYocWtYeyQ6VdPx8AAAAAAHhuIP61GWVqkJudrfx6ZVG83+LEu3SxtrJ1hpqGukZCV0eb3epeY1uebKxrl/0Y5ssOJrFOpqqa7kX7IyG7P+lY6sU4D6V3UylWq85d3OrSbV8a5dJaeetd6WjrNLEblbVtk+4o9ZPVmBYmSJRPXbk94Vjq6Wh39qtAMvhV17QmO6Wz+vh8AAAAAACg3yD+tRnq/qX9tS2rRcV0qmmsvbZnYyJhNdGAIAwsrQemncpm4luZSJxrPcGSLveoTJyQS58mz0w4rjHRst0g2zg764LDIiZeEkUHQjalt36Yx/wir6uZImKvK0+LXBx/uzcf/7WneSfRx2Mz3UhTbVaiuO5dUzJDDrWeOChdnMX07WLCMbYXbeTyOsLQ3OJNagGKssyLZUytuePUuwd2ptc20s/n4EWmtu/PBwAAAAAA+g3inxKt8St3Lx96epHj5MkTHVzdI+86bdkymw5sJt7CAPl2vqtAMMPVJ93s61WTejn/qImj4VnfGeRp/I1Vnwm9TdhqhqbdqnDLdD9Har+rX6bulPH0cnzmtlNvCF1mCLMaqOv6PqCv6+bK31M1ZaJpL6+rbNQ84dRqIdmIi6tg6wOP7fPNqVpj7689qtbNcOULZvicGGQ5jD5UibaT9+zfhC5u5KU9ox8YsKN/9CMaJPLzFHiGnDebas/U9v35AAAAAABAv3mm6/49t5oaG5s0VXzV1yCvbXqEBdkr431CiLVxXro9rOPeIJcTAzutxafkSSwETzZCXaVDGz213PigtlGr/f7GRqLl0WSFTT4+Oumbj1pe9HzE5wMAAAAAAP0Jo3+qaKjKfiStgX3KNpo9nKbVbfYj9dRAr2h2yn6knlrWHNx+f2NB9GczPDeLstLPn923YmuO+ZSJSh/59fH5AAAAAABAf8Do31PUWHr5FmFuMeyvlYgaq/LFp8+W1g7UNXeaOskEU7wAAAAAALwgEP8AAAAAAADUAl7+BAAAAAAAUAuIfwAAAAAAAGoB8Q8AAAAAAEAtIP4BAAAAAACoBcQ/AAAAAAAAtYD4BwAAAAAAoBYQ/wAAAAAAANQC4h8AAAAAAIBaQPwDAAAAAABQC4h/AAAAAAAAagHxDwAAAAAAQC0g/gEAAAAAAKgFxD8AAAAAAAC1gPgHAAAAAACgFhD/AAAAAAAA1ALiHwAAAAAAgFpA/AMAAAAAAFALiH8AAAAAAABq4W/Nzc1ssdeKSsrYEgAAAAAAALwg+hL/AAAAAAAA4IWDlz8BAAAAAADUAuIfAAAAAACAWkD8AwAAAAAAUAuIfwAAAAAAAGoB8Q8AAAAAAEANEMT/B/jWIoGI5selAAAAAElFTkSuQmCC)\n",
        "\n",
        "Further improvements could be explored by experimenting with different model architectures, data augmentation techniques, etc."
      ],
      "metadata": {
        "id": "tOaoZaFe8blo"
      }
    },
    {
      "cell_type": "markdown",
      "source": [
        "## References:\n",
        "\n",
        "https://huggingface.co/docs/transformers/en/model_doc/bert\n",
        "\n",
        "https://keras.io/examples/nlp/pretraining_BERT/\n",
        "\n",
        "https://www.tensorflow.org/tfmodels/nlp/fine_tune_bert"
      ],
      "metadata": {
        "id": "_HgxQ6pl-FjG"
      }
    },
    {
      "cell_type": "code",
      "source": [],
      "metadata": {
        "id": "eRcOQ6Ip9bGh"
      },
      "execution_count": null,
      "outputs": []
    }
  ]
}